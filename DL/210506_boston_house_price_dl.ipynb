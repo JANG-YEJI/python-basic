{
 "cells": [
  {
   "cell_type": "code",
   "execution_count": 1,
   "id": "1ea0fe7f",
   "metadata": {
    "ExecuteTime": {
     "end_time": "2021-05-10T03:45:06.670941Z",
     "start_time": "2021-05-10T03:45:01.067327Z"
    }
   },
   "outputs": [],
   "source": [
    "from keras.models import Sequential\n",
    "from keras.layers import Dense\n",
    "from keras.utils import to_categorical\n",
    "from keras.layers import Dense\n",
    "from keras.datasets import boston_housing\n",
    "import tensorflow as tf\n",
    "\n",
    "from sklearn.datasets import load_boston\n",
    "from sklearn.preprocessing import LabelEncoder, OneHotEncoder\n",
    "from sklearn.model_selection import train_test_split\n",
    "\n",
    "import pandas as pd\n",
    "import numpy as np\n",
    "import matplotlib.pyplot as plt"
   ]
  },
  {
   "cell_type": "code",
   "execution_count": 2,
   "id": "1ac4a9a8",
   "metadata": {
    "ExecuteTime": {
     "end_time": "2021-05-10T03:45:06.685901Z",
     "start_time": "2021-05-10T03:45:06.671939Z"
    }
   },
   "outputs": [],
   "source": [
    "np.random.seed(121)\n",
    "tf.random.set_seed(121)"
   ]
  },
  {
   "cell_type": "code",
   "execution_count": 3,
   "id": "3d4c263c",
   "metadata": {
    "ExecuteTime": {
     "end_time": "2021-05-10T03:45:06.717816Z",
     "start_time": "2021-05-10T03:45:06.687896Z"
    }
   },
   "outputs": [
    {
     "name": "stdout",
     "output_type": "stream",
     "text": [
      "dict_keys(['data', 'target', 'feature_names', 'DESCR', 'filename'])\n"
     ]
    }
   ],
   "source": [
    "dataset = load_boston()\n",
    "print(dataset.keys())"
   ]
  },
  {
   "cell_type": "code",
   "execution_count": 4,
   "id": "ff49da2a",
   "metadata": {
    "ExecuteTime": {
     "end_time": "2021-05-10T03:45:06.747736Z",
     "start_time": "2021-05-10T03:45:06.718813Z"
    }
   },
   "outputs": [
    {
     "name": "stdout",
     "output_type": "stream",
     "text": [
      "      CRIM    ZN  INDUS  CHAS    NOX     RM   AGE     DIS  RAD    TAX  \\\n",
      "0  0.00632  18.0   2.31   0.0  0.538  6.575  65.2  4.0900  1.0  296.0   \n",
      "1  0.02731   0.0   7.07   0.0  0.469  6.421  78.9  4.9671  2.0  242.0   \n",
      "2  0.02729   0.0   7.07   0.0  0.469  7.185  61.1  4.9671  2.0  242.0   \n",
      "3  0.03237   0.0   2.18   0.0  0.458  6.998  45.8  6.0622  3.0  222.0   \n",
      "4  0.06905   0.0   2.18   0.0  0.458  7.147  54.2  6.0622  3.0  222.0   \n",
      "\n",
      "   PTRATIO       B  LSTAT  price  \n",
      "0     15.3  396.90   4.98   24.0  \n",
      "1     17.8  396.90   9.14   21.6  \n",
      "2     17.8  392.83   4.03   34.7  \n",
      "3     18.7  394.63   2.94   33.4  \n",
      "4     18.7  396.90   5.33   36.2  \n",
      "<class 'pandas.core.frame.DataFrame'>\n",
      "RangeIndex: 506 entries, 0 to 505\n",
      "Data columns (total 14 columns):\n",
      " #   Column   Non-Null Count  Dtype  \n",
      "---  ------   --------------  -----  \n",
      " 0   CRIM     506 non-null    float64\n",
      " 1   ZN       506 non-null    float64\n",
      " 2   INDUS    506 non-null    float64\n",
      " 3   CHAS     506 non-null    float64\n",
      " 4   NOX      506 non-null    float64\n",
      " 5   RM       506 non-null    float64\n",
      " 6   AGE      506 non-null    float64\n",
      " 7   DIS      506 non-null    float64\n",
      " 8   RAD      506 non-null    float64\n",
      " 9   TAX      506 non-null    float64\n",
      " 10  PTRATIO  506 non-null    float64\n",
      " 11  B        506 non-null    float64\n",
      " 12  LSTAT    506 non-null    float64\n",
      " 13  price    506 non-null    float64\n",
      "dtypes: float64(14)\n",
      "memory usage: 55.5 KB\n",
      "None\n",
      "(506, 14)\n"
     ]
    }
   ],
   "source": [
    "df = pd.DataFrame(data = dataset.data,\n",
    "                  columns = dataset.feature_names)\n",
    "df[\"price\"] = dataset.target\n",
    "print(df.head())\n",
    "print(df.info())\n",
    "print(df.shape)"
   ]
  },
  {
   "cell_type": "code",
   "execution_count": 5,
   "id": "e70fcd7b",
   "metadata": {
    "ExecuteTime": {
     "end_time": "2021-05-10T03:45:06.763693Z",
     "start_time": "2021-05-10T03:45:06.748734Z"
    }
   },
   "outputs": [],
   "source": [
    "X = df.iloc[: , :-1]\n",
    "y = df.iloc[: , -1]"
   ]
  },
  {
   "cell_type": "code",
   "execution_count": null,
   "id": "cc96ae99",
   "metadata": {},
   "outputs": [],
   "source": []
  },
  {
   "cell_type": "code",
   "execution_count": null,
   "id": "c13585f1",
   "metadata": {},
   "outputs": [],
   "source": []
  },
  {
   "cell_type": "code",
   "execution_count": null,
   "id": "c8c417f2",
   "metadata": {},
   "outputs": [],
   "source": []
  },
  {
   "cell_type": "code",
   "execution_count": 6,
   "id": "0107c834",
   "metadata": {
    "ExecuteTime": {
     "end_time": "2021-05-10T03:45:06.778653Z",
     "start_time": "2021-05-10T03:45:06.764691Z"
    }
   },
   "outputs": [],
   "source": [
    "X_train,X_test,y_train,y_test = train_test_split(X, y, test_size=0.2, random_state=160)"
   ]
  },
  {
   "cell_type": "code",
   "execution_count": 7,
   "id": "e8ca5481",
   "metadata": {
    "ExecuteTime": {
     "end_time": "2021-05-10T03:45:06.854451Z",
     "start_time": "2021-05-10T03:45:06.779651Z"
    }
   },
   "outputs": [],
   "source": [
    "model = Sequential()\n",
    "model.add(Dense(128, input_dim = 13, activation='relu'))\n",
    "model.add(Dense(64,                activation='relu'))\n",
    "model.add(Dense(16,                activation='relu'))\n",
    "model.add(Dense(1                                   )) # activation은 확률값을 달라는 의미 \n",
    "# model.add(Dense"
   ]
  },
  {
   "cell_type": "code",
   "execution_count": 8,
   "id": "97c9a279",
   "metadata": {
    "ExecuteTime": {
     "end_time": "2021-05-10T03:45:08.383902Z",
     "start_time": "2021-05-10T03:45:06.856445Z"
    }
   },
   "outputs": [
    {
     "name": "stdout",
     "output_type": "stream",
     "text": [
      "Epoch 1/100\n",
      "13/13 [==============================] - 0s 665us/step - loss: 310.5938 - mse: 310.5938\n",
      "Epoch 2/100\n",
      "13/13 [==============================] - 0s 666us/step - loss: 83.5808 - mse: 83.5808\n",
      "Epoch 3/100\n",
      "13/13 [==============================] - 0s 665us/step - loss: 66.0010 - mse: 66.0010\n",
      "Epoch 4/100\n",
      "13/13 [==============================] - 0s 748us/step - loss: 64.3093 - mse: 64.3093\n",
      "Epoch 5/100\n",
      "13/13 [==============================] - 0s 831us/step - loss: 65.2009 - mse: 65.2009\n",
      "Epoch 6/100\n",
      "13/13 [==============================] - 0s 665us/step - loss: 62.9431 - mse: 62.9431\n",
      "Epoch 7/100\n",
      "13/13 [==============================] - 0s 665us/step - loss: 53.3287 - mse: 53.3287\n",
      "Epoch 8/100\n",
      "13/13 [==============================] - 0s 582us/step - loss: 46.8984 - mse: 46.8984\n",
      "Epoch 9/100\n",
      "13/13 [==============================] - 0s 665us/step - loss: 75.1805 - mse: 75.1805\n",
      "Epoch 10/100\n",
      "13/13 [==============================] - 0s 665us/step - loss: 48.2010 - mse: 48.2010\n",
      "Epoch 11/100\n",
      "13/13 [==============================] - 0s 665us/step - loss: 56.7460 - mse: 56.7460\n",
      "Epoch 12/100\n",
      "13/13 [==============================] - 0s 748us/step - loss: 45.7451 - mse: 45.7451\n",
      "Epoch 13/100\n",
      "13/13 [==============================] - 0s 665us/step - loss: 49.0140 - mse: 49.0140\n",
      "Epoch 14/100\n",
      "13/13 [==============================] - 0s 831us/step - loss: 50.3023 - mse: 50.3023\n",
      "Epoch 15/100\n",
      "13/13 [==============================] - 0s 665us/step - loss: 47.4415 - mse: 47.4415\n",
      "Epoch 16/100\n",
      "13/13 [==============================] - 0s 748us/step - loss: 39.6111 - mse: 39.6111\n",
      "Epoch 17/100\n",
      "13/13 [==============================] - 0s 665us/step - loss: 44.8383 - mse: 44.8383\n",
      "Epoch 18/100\n",
      "13/13 [==============================] - 0s 748us/step - loss: 52.0047 - mse: 52.0047\n",
      "Epoch 19/100\n",
      "13/13 [==============================] - 0s 666us/step - loss: 53.9791 - mse: 53.9791\n",
      "Epoch 20/100\n",
      "13/13 [==============================] - 0s 582us/step - loss: 50.9837 - mse: 50.9837\n",
      "Epoch 21/100\n",
      "13/13 [==============================] - 0s 582us/step - loss: 43.3408 - mse: 43.3408\n",
      "Epoch 22/100\n",
      "13/13 [==============================] - 0s 582us/step - loss: 53.3245 - mse: 53.3245\n",
      "Epoch 23/100\n",
      "13/13 [==============================] - 0s 748us/step - loss: 38.1180 - mse: 38.1180\n",
      "Epoch 24/100\n",
      "13/13 [==============================] - 0s 748us/step - loss: 34.2374 - mse: 34.2374\n",
      "Epoch 25/100\n",
      "13/13 [==============================] - 0s 665us/step - loss: 41.4128 - mse: 41.4128\n",
      "Epoch 26/100\n",
      "13/13 [==============================] - 0s 582us/step - loss: 41.5319 - mse: 41.5319\n",
      "Epoch 27/100\n",
      "13/13 [==============================] - 0s 831us/step - loss: 36.4603 - mse: 36.4603\n",
      "Epoch 28/100\n",
      "13/13 [==============================] - 0s 582us/step - loss: 40.3590 - mse: 40.3590\n",
      "Epoch 29/100\n",
      "13/13 [==============================] - 0s 665us/step - loss: 44.5435 - mse: 44.5435\n",
      "Epoch 30/100\n",
      "13/13 [==============================] - 0s 707us/step - loss: 39.4716 - mse: 39.4716\n",
      "Epoch 31/100\n",
      "13/13 [==============================] - 0s 582us/step - loss: 30.0391 - mse: 30.0391\n",
      "Epoch 32/100\n",
      "13/13 [==============================] - 0s 664us/step - loss: 49.1028 - mse: 49.1028\n",
      "Epoch 33/100\n",
      "13/13 [==============================] - 0s 665us/step - loss: 52.0132 - mse: 52.0132\n",
      "Epoch 34/100\n",
      "13/13 [==============================] - 0s 582us/step - loss: 36.6843 - mse: 36.6843\n",
      "Epoch 35/100\n",
      "13/13 [==============================] - 0s 748us/step - loss: 35.1861 - mse: 35.1861\n",
      "Epoch 36/100\n",
      "13/13 [==============================] - 0s 665us/step - loss: 32.4470 - mse: 32.4470\n",
      "Epoch 37/100\n",
      "13/13 [==============================] - 0s 665us/step - loss: 33.3758 - mse: 33.3758\n",
      "Epoch 38/100\n",
      "13/13 [==============================] - 0s 665us/step - loss: 32.1277 - mse: 32.1277\n",
      "Epoch 39/100\n",
      "13/13 [==============================] - 0s 582us/step - loss: 40.1567 - mse: 40.1567\n",
      "Epoch 40/100\n",
      "13/13 [==============================] - 0s 582us/step - loss: 47.1464 - mse: 47.1464\n",
      "Epoch 41/100\n",
      "13/13 [==============================] - 0s 665us/step - loss: 40.5319 - mse: 40.5319\n",
      "Epoch 42/100\n",
      "13/13 [==============================] - 0s 665us/step - loss: 39.5191 - mse: 39.5191\n",
      "Epoch 43/100\n",
      "13/13 [==============================] - 0s 748us/step - loss: 35.3232 - mse: 35.3232\n",
      "Epoch 44/100\n",
      "13/13 [==============================] - 0s 665us/step - loss: 30.8695 - mse: 30.8695\n",
      "Epoch 45/100\n",
      "13/13 [==============================] - 0s 582us/step - loss: 30.1245 - mse: 30.1245\n",
      "Epoch 46/100\n",
      "13/13 [==============================] - 0s 665us/step - loss: 34.9148 - mse: 34.9148\n",
      "Epoch 47/100\n",
      "13/13 [==============================] - 0s 664us/step - loss: 33.2806 - mse: 33.2806\n",
      "Epoch 48/100\n",
      "13/13 [==============================] - 0s 665us/step - loss: 35.4281 - mse: 35.4281\n",
      "Epoch 49/100\n",
      "13/13 [==============================] - 0s 707us/step - loss: 32.4337 - mse: 32.4337\n",
      "Epoch 50/100\n",
      "13/13 [==============================] - 0s 581us/step - loss: 38.2533 - mse: 38.2533\n",
      "Epoch 51/100\n",
      "13/13 [==============================] - 0s 748us/step - loss: 30.9983 - mse: 30.9983\n",
      "Epoch 52/100\n",
      "13/13 [==============================] - 0s 666us/step - loss: 39.6579 - mse: 39.6579\n",
      "Epoch 53/100\n",
      "13/13 [==============================] - 0s 665us/step - loss: 27.6491 - mse: 27.6491\n",
      "Epoch 54/100\n",
      "13/13 [==============================] - 0s 748us/step - loss: 30.2408 - mse: 30.2408\n",
      "Epoch 55/100\n",
      "13/13 [==============================] - 0s 665us/step - loss: 26.6357 - mse: 26.6357\n",
      "Epoch 56/100\n",
      "13/13 [==============================] - 0s 665us/step - loss: 26.9240 - mse: 26.9240\n",
      "Epoch 57/100\n",
      "13/13 [==============================] - 0s 748us/step - loss: 31.7687 - mse: 31.7687\n",
      "Epoch 58/100\n",
      "13/13 [==============================] - 0s 707us/step - loss: 30.6120 - mse: 30.6120\n",
      "Epoch 59/100\n",
      "13/13 [==============================] - 0s 665us/step - loss: 42.9895 - mse: 42.9895\n",
      "Epoch 60/100\n",
      "13/13 [==============================] - 0s 665us/step - loss: 33.0104 - mse: 33.0104\n",
      "Epoch 61/100\n",
      "13/13 [==============================] - 0s 748us/step - loss: 31.7796 - mse: 31.7796\n",
      "Epoch 62/100\n",
      "13/13 [==============================] - 0s 665us/step - loss: 32.0902 - mse: 32.0902\n",
      "Epoch 63/100\n",
      "13/13 [==============================] - 0s 748us/step - loss: 28.4887 - mse: 28.4887\n",
      "Epoch 64/100\n",
      "13/13 [==============================] - 0s 665us/step - loss: 24.5979 - mse: 24.5979\n",
      "Epoch 65/100\n",
      "13/13 [==============================] - 0s 665us/step - loss: 34.1607 - mse: 34.1607\n",
      "Epoch 66/100\n",
      "13/13 [==============================] - 0s 665us/step - loss: 34.5675 - mse: 34.5675\n",
      "Epoch 67/100\n",
      "13/13 [==============================] - 0s 665us/step - loss: 27.0576 - mse: 27.0576\n",
      "Epoch 68/100\n",
      "13/13 [==============================] - 0s 665us/step - loss: 31.5879 - mse: 31.5879\n",
      "Epoch 69/100\n",
      "13/13 [==============================] - 0s 672us/step - loss: 36.3760 - mse: 36.3760\n",
      "Epoch 70/100\n",
      "13/13 [==============================] - 0s 665us/step - loss: 25.1065 - mse: 25.1065\n",
      "Epoch 71/100\n",
      "13/13 [==============================] - 0s 748us/step - loss: 29.4639 - mse: 29.4639\n",
      "Epoch 72/100\n",
      "13/13 [==============================] - 0s 582us/step - loss: 24.5546 - mse: 24.5546\n",
      "Epoch 73/100\n",
      "13/13 [==============================] - 0s 665us/step - loss: 21.5453 - mse: 21.5453\n",
      "Epoch 74/100\n",
      "13/13 [==============================] - 0s 665us/step - loss: 19.3163 - mse: 19.3163\n",
      "Epoch 75/100\n",
      "13/13 [==============================] - 0s 582us/step - loss: 30.5732 - mse: 30.5732\n",
      "Epoch 76/100\n",
      "13/13 [==============================] - 0s 665us/step - loss: 25.2365 - mse: 25.2365\n",
      "Epoch 77/100\n",
      "13/13 [==============================] - 0s 582us/step - loss: 22.7164 - mse: 22.7164\n",
      "Epoch 78/100\n",
      "13/13 [==============================] - 0s 581us/step - loss: 29.5832 - mse: 29.5832\n",
      "Epoch 79/100\n",
      "13/13 [==============================] - 0s 581us/step - loss: 27.1238 - mse: 27.1238\n",
      "Epoch 80/100\n",
      "13/13 [==============================] - 0s 582us/step - loss: 23.6188 - mse: 23.6188\n",
      "Epoch 81/100\n",
      "13/13 [==============================] - 0s 748us/step - loss: 22.4083 - mse: 22.4083\n",
      "Epoch 82/100\n",
      "13/13 [==============================] - 0s 665us/step - loss: 26.9360 - mse: 26.9360\n",
      "Epoch 83/100\n"
     ]
    },
    {
     "name": "stdout",
     "output_type": "stream",
     "text": [
      "13/13 [==============================] - 0s 665us/step - loss: 23.3159 - mse: 23.3159\n",
      "Epoch 84/100\n",
      "13/13 [==============================] - 0s 665us/step - loss: 23.3236 - mse: 23.3236\n",
      "Epoch 85/100\n",
      "13/13 [==============================] - 0s 582us/step - loss: 20.2090 - mse: 20.2090\n",
      "Epoch 86/100\n",
      "13/13 [==============================] - 0s 582us/step - loss: 27.6024 - mse: 27.6024\n",
      "Epoch 87/100\n",
      "13/13 [==============================] - 0s 665us/step - loss: 26.6440 - mse: 26.6440\n",
      "Epoch 88/100\n",
      "13/13 [==============================] - 0s 665us/step - loss: 28.9086 - mse: 28.9086\n",
      "Epoch 89/100\n",
      "13/13 [==============================] - 0s 665us/step - loss: 18.4168 - mse: 18.4168\n",
      "Epoch 90/100\n",
      "13/13 [==============================] - 0s 665us/step - loss: 20.0026 - mse: 20.0026\n",
      "Epoch 91/100\n",
      "13/13 [==============================] - 0s 748us/step - loss: 21.1820 - mse: 21.1820\n",
      "Epoch 92/100\n",
      "13/13 [==============================] - 0s 665us/step - loss: 23.0118 - mse: 23.0118\n",
      "Epoch 93/100\n",
      "13/13 [==============================] - 0s 665us/step - loss: 21.5928 - mse: 21.5928\n",
      "Epoch 94/100\n",
      "13/13 [==============================] - 0s 665us/step - loss: 19.6456 - mse: 19.6456\n",
      "Epoch 95/100\n",
      "13/13 [==============================] - 0s 665us/step - loss: 21.0082 - mse: 21.0082\n",
      "Epoch 96/100\n",
      "13/13 [==============================] - 0s 582us/step - loss: 19.0903 - mse: 19.0903\n",
      "Epoch 97/100\n",
      "13/13 [==============================] - 0s 748us/step - loss: 16.4800 - mse: 16.4800\n",
      "Epoch 98/100\n",
      "13/13 [==============================] - 0s 582us/step - loss: 19.5241 - mse: 19.5241\n",
      "Epoch 99/100\n",
      "13/13 [==============================] - 0s 665us/step - loss: 15.4202 - mse: 15.4202\n",
      "Epoch 100/100\n",
      "13/13 [==============================] - 0s 665us/step - loss: 17.2696 - mse: 17.2696\n"
     ]
    }
   ],
   "source": [
    "model.compile(loss='mean_squared_error', optimizer='adam', metrics=['mse']) # loss가 곧 평가점수 \n",
    "model.fit(X_train, y_train, epochs=100)\n",
    "pred = model.predict(X_test)"
   ]
  },
  {
   "cell_type": "code",
   "execution_count": 9,
   "id": "15875088",
   "metadata": {
    "ExecuteTime": {
     "end_time": "2021-05-10T03:45:08.399860Z",
     "start_time": "2021-05-10T03:45:08.384900Z"
    }
   },
   "outputs": [
    {
     "name": "stdout",
     "output_type": "stream",
     "text": [
      "19.8 [23.38656]\n",
      "20.0 [21.124058]\n",
      "19.3 [19.646135]\n",
      "24.7 [24.20629]\n",
      "12.7 [17.29788]\n"
     ]
    }
   ],
   "source": [
    "pred.flatten()\n",
    "for i in range(5):\n",
    "    print(y_test.iloc[i], pred[i])"
   ]
  },
  {
   "cell_type": "code",
   "execution_count": 10,
   "id": "a9dc2e47",
   "metadata": {
    "ExecuteTime": {
     "end_time": "2021-05-10T03:45:08.537492Z",
     "start_time": "2021-05-10T03:45:08.400857Z"
    }
   },
   "outputs": [
    {
     "name": "stdout",
     "output_type": "stream",
     "text": [
      "4/4 [==============================] - 0s 665us/step - loss: 23.7256 - mse: 23.7256\n",
      "[23.725595474243164, 23.725595474243164]\n"
     ]
    }
   ],
   "source": [
    "eval = model.evaluate(X_test, y_test)\n",
    "print(eval)"
   ]
  },
  {
   "cell_type": "code",
   "execution_count": null,
   "id": "0d57b2c1",
   "metadata": {},
   "outputs": [],
   "source": []
  },
  {
   "cell_type": "code",
   "execution_count": null,
   "id": "d4a428d5",
   "metadata": {},
   "outputs": [],
   "source": []
  },
  {
   "cell_type": "code",
   "execution_count": 11,
   "id": "2f35cff4",
   "metadata": {
    "ExecuteTime": {
     "end_time": "2021-05-10T03:45:08.552452Z",
     "start_time": "2021-05-10T03:45:08.538489Z"
    }
   },
   "outputs": [],
   "source": [
    "from keras.models import save_model, load_model"
   ]
  },
  {
   "cell_type": "code",
   "execution_count": 12,
   "id": "caf01a73",
   "metadata": {
    "ExecuteTime": {
     "end_time": "2021-05-10T03:45:08.584366Z",
     "start_time": "2021-05-10T03:45:08.553450Z"
    }
   },
   "outputs": [],
   "source": [
    "model.save('./model/boston_.h5')"
   ]
  },
  {
   "cell_type": "code",
   "execution_count": 14,
   "id": "05b37a65",
   "metadata": {
    "ExecuteTime": {
     "end_time": "2021-05-10T03:45:32.503601Z",
     "start_time": "2021-05-10T03:45:32.475676Z"
    }
   },
   "outputs": [
    {
     "ename": "TypeError",
     "evalue": "Inputs to a layer should be tensors. Got: ./model/boston_.h5",
     "output_type": "error",
     "traceback": [
      "\u001b[1;31m---------------------------------------------------------------------------\u001b[0m",
      "\u001b[1;31mTypeError\u001b[0m                                 Traceback (most recent call last)",
      "\u001b[1;32m<ipython-input-14-327ea6354c89>\u001b[0m in \u001b[0;36m<module>\u001b[1;34m\u001b[0m\n\u001b[1;32m----> 1\u001b[1;33m \u001b[0mload_model\u001b[0m \u001b[1;33m=\u001b[0m \u001b[0mload_model\u001b[0m\u001b[1;33m(\u001b[0m\u001b[1;34m'./model/boston_.h5'\u001b[0m\u001b[1;33m)\u001b[0m\u001b[1;33m\u001b[0m\u001b[1;33m\u001b[0m\u001b[0m\n\u001b[0m\u001b[0;32m      2\u001b[0m \u001b[0mpred\u001b[0m \u001b[1;33m=\u001b[0m \u001b[0mload_model\u001b[0m\u001b[1;33m.\u001b[0m\u001b[0mpredict\u001b[0m\u001b[1;33m(\u001b[0m\u001b[0mX_test\u001b[0m\u001b[1;33m)\u001b[0m\u001b[1;33m.\u001b[0m\u001b[0mflatten\u001b[0m\u001b[1;33m(\u001b[0m\u001b[1;33m)\u001b[0m\u001b[1;33m\u001b[0m\u001b[1;33m\u001b[0m\u001b[0m\n\u001b[0;32m      3\u001b[0m \u001b[1;33m\u001b[0m\u001b[0m\n\u001b[0;32m      4\u001b[0m \u001b[0meval\u001b[0m \u001b[1;33m=\u001b[0m \u001b[0mload_model\u001b[0m\u001b[1;33m.\u001b[0m\u001b[0mevaluate\u001b[0m\u001b[1;33m(\u001b[0m\u001b[0mX_test\u001b[0m\u001b[1;33m,\u001b[0m \u001b[0my_test\u001b[0m\u001b[1;33m)\u001b[0m\u001b[1;33m\u001b[0m\u001b[1;33m\u001b[0m\u001b[0m\n\u001b[0;32m      5\u001b[0m \u001b[0mprint\u001b[0m\u001b[1;33m(\u001b[0m\u001b[0meval\u001b[0m\u001b[1;33m)\u001b[0m\u001b[1;33m\u001b[0m\u001b[1;33m\u001b[0m\u001b[0m\n",
      "\u001b[1;32mc:\\it\\python_workspace\\lecml\\venv_lecml\\lib\\site-packages\\tensorflow\\python\\keras\\engine\\base_layer.py\u001b[0m in \u001b[0;36m__call__\u001b[1;34m(self, *args, **kwargs)\u001b[0m\n\u001b[0;32m    996\u001b[0m         \u001b[0minputs\u001b[0m \u001b[1;33m=\u001b[0m \u001b[0mself\u001b[0m\u001b[1;33m.\u001b[0m\u001b[0m_maybe_cast_inputs\u001b[0m\u001b[1;33m(\u001b[0m\u001b[0minputs\u001b[0m\u001b[1;33m,\u001b[0m \u001b[0minput_list\u001b[0m\u001b[1;33m)\u001b[0m\u001b[1;33m\u001b[0m\u001b[1;33m\u001b[0m\u001b[0m\n\u001b[0;32m    997\u001b[0m \u001b[1;33m\u001b[0m\u001b[0m\n\u001b[1;32m--> 998\u001b[1;33m       \u001b[0minput_spec\u001b[0m\u001b[1;33m.\u001b[0m\u001b[0massert_input_compatibility\u001b[0m\u001b[1;33m(\u001b[0m\u001b[0mself\u001b[0m\u001b[1;33m.\u001b[0m\u001b[0minput_spec\u001b[0m\u001b[1;33m,\u001b[0m \u001b[0minputs\u001b[0m\u001b[1;33m,\u001b[0m \u001b[0mself\u001b[0m\u001b[1;33m.\u001b[0m\u001b[0mname\u001b[0m\u001b[1;33m)\u001b[0m\u001b[1;33m\u001b[0m\u001b[1;33m\u001b[0m\u001b[0m\n\u001b[0m\u001b[0;32m    999\u001b[0m       \u001b[1;32mif\u001b[0m \u001b[0meager\u001b[0m\u001b[1;33m:\u001b[0m\u001b[1;33m\u001b[0m\u001b[1;33m\u001b[0m\u001b[0m\n\u001b[0;32m   1000\u001b[0m         \u001b[0mcall_fn\u001b[0m \u001b[1;33m=\u001b[0m \u001b[0mself\u001b[0m\u001b[1;33m.\u001b[0m\u001b[0mcall\u001b[0m\u001b[1;33m\u001b[0m\u001b[1;33m\u001b[0m\u001b[0m\n",
      "\u001b[1;32mc:\\it\\python_workspace\\lecml\\venv_lecml\\lib\\site-packages\\tensorflow\\python\\keras\\engine\\input_spec.py\u001b[0m in \u001b[0;36massert_input_compatibility\u001b[1;34m(input_spec, inputs, layer_name)\u001b[0m\n\u001b[0;32m    199\u001b[0m     \u001b[1;31m# have a `shape` attribute.\u001b[0m\u001b[1;33m\u001b[0m\u001b[1;33m\u001b[0m\u001b[1;33m\u001b[0m\u001b[0m\n\u001b[0;32m    200\u001b[0m     \u001b[1;32mif\u001b[0m \u001b[1;32mnot\u001b[0m \u001b[0mhasattr\u001b[0m\u001b[1;33m(\u001b[0m\u001b[0mx\u001b[0m\u001b[1;33m,\u001b[0m \u001b[1;34m'shape'\u001b[0m\u001b[1;33m)\u001b[0m\u001b[1;33m:\u001b[0m\u001b[1;33m\u001b[0m\u001b[1;33m\u001b[0m\u001b[0m\n\u001b[1;32m--> 201\u001b[1;33m       \u001b[1;32mraise\u001b[0m \u001b[0mTypeError\u001b[0m\u001b[1;33m(\u001b[0m\u001b[1;34m'Inputs to a layer should be tensors. Got: %s'\u001b[0m \u001b[1;33m%\u001b[0m \u001b[1;33m(\u001b[0m\u001b[0mx\u001b[0m\u001b[1;33m,\u001b[0m\u001b[1;33m)\u001b[0m\u001b[1;33m)\u001b[0m\u001b[1;33m\u001b[0m\u001b[1;33m\u001b[0m\u001b[0m\n\u001b[0m\u001b[0;32m    202\u001b[0m \u001b[1;33m\u001b[0m\u001b[0m\n\u001b[0;32m    203\u001b[0m   \u001b[1;32mif\u001b[0m \u001b[0mlen\u001b[0m\u001b[1;33m(\u001b[0m\u001b[0minputs\u001b[0m\u001b[1;33m)\u001b[0m \u001b[1;33m!=\u001b[0m \u001b[0mlen\u001b[0m\u001b[1;33m(\u001b[0m\u001b[0minput_spec\u001b[0m\u001b[1;33m)\u001b[0m\u001b[1;33m:\u001b[0m\u001b[1;33m\u001b[0m\u001b[1;33m\u001b[0m\u001b[0m\n",
      "\u001b[1;31mTypeError\u001b[0m: Inputs to a layer should be tensors. Got: ./model/boston_.h5"
     ]
    }
   ],
   "source": [
    "load_model = load_model('./model/boston_.h5')\n",
    "pred = load_model.predict(X_test).flatten() # reshape(1, -1)\n",
    "\n",
    "eval = load_model.evaluate(X_test, y_test)\n",
    "print(eval)\n",
    "\n",
    "print(pred[:5])\n",
    "print(y_test[:5])"
   ]
  },
  {
   "cell_type": "code",
   "execution_count": null,
   "id": "54460084",
   "metadata": {},
   "outputs": [],
   "source": []
  }
 ],
 "metadata": {
  "kernelspec": {
   "display_name": "Python 3",
   "language": "python",
   "name": "python3"
  },
  "language_info": {
   "codemirror_mode": {
    "name": "ipython",
    "version": 3
   },
   "file_extension": ".py",
   "mimetype": "text/x-python",
   "name": "python",
   "nbconvert_exporter": "python",
   "pygments_lexer": "ipython3",
   "version": "3.7.7"
  },
  "toc": {
   "base_numbering": 1,
   "nav_menu": {},
   "number_sections": true,
   "sideBar": true,
   "skip_h1_title": false,
   "title_cell": "Table of Contents",
   "title_sidebar": "Contents",
   "toc_cell": false,
   "toc_position": {},
   "toc_section_display": true,
   "toc_window_display": false
  }
 },
 "nbformat": 4,
 "nbformat_minor": 5
}
