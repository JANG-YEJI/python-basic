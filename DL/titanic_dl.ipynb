{
 "cells": [
  {
   "cell_type": "code",
   "execution_count": 1,
   "id": "f339d3de",
   "metadata": {
    "ExecuteTime": {
     "end_time": "2021-05-10T06:53:12.405913Z",
     "start_time": "2021-05-10T06:53:10.122477Z"
    }
   },
   "outputs": [],
   "source": [
    "from keras.models import Sequential\n",
    "from keras.layers import Dense\n",
    "from keras.utils import to_categorical\n",
    "from keras.layers import Dense\n",
    "from keras.callbacks import ModelCheckpoint, EarlyStopping\n",
    "import tensorflow as tf\n",
    "\n",
    "from sklearn.datasets import load_iris\n",
    "from sklearn.preprocessing import LabelEncoder, OneHotEncoder\n",
    "from sklearn.model_selection import train_test_split\n",
    "\n",
    "import pandas as pd\n",
    "import numpy as np\n",
    "import matplotlib.pyplot as plt\n",
    "\n",
    "import warnings\n",
    "warnings.filterwarnings(action='ignore')"
   ]
  },
  {
   "cell_type": "code",
   "execution_count": 2,
   "id": "0fc67306",
   "metadata": {
    "ExecuteTime": {
     "end_time": "2021-05-10T06:53:12.421870Z",
     "start_time": "2021-05-10T06:53:12.406910Z"
    }
   },
   "outputs": [],
   "source": [
    "np.random.seed(121)\n",
    "tf.random.set_seed(121)"
   ]
  },
  {
   "cell_type": "markdown",
   "id": "61ff5f91",
   "metadata": {},
   "source": [
    "## 데이터 확인"
   ]
  },
  {
   "cell_type": "code",
   "execution_count": 3,
   "id": "6b006b07",
   "metadata": {
    "ExecuteTime": {
     "end_time": "2021-05-10T06:53:12.437829Z",
     "start_time": "2021-05-10T06:53:12.422868Z"
    }
   },
   "outputs": [],
   "source": [
    "train = pd.read_csv('../ML/titanic/train.csv')\n",
    "test = pd.read_csv('../ML/titanic/test.csv')"
   ]
  },
  {
   "cell_type": "code",
   "execution_count": 4,
   "id": "71d60355",
   "metadata": {
    "ExecuteTime": {
     "end_time": "2021-05-10T06:53:12.469252Z",
     "start_time": "2021-05-10T06:53:12.438825Z"
    }
   },
   "outputs": [
    {
     "name": "stdout",
     "output_type": "stream",
     "text": [
      "<class 'pandas.core.frame.DataFrame'>\n",
      "RangeIndex: 891 entries, 0 to 890\n",
      "Data columns (total 12 columns):\n",
      " #   Column       Non-Null Count  Dtype  \n",
      "---  ------       --------------  -----  \n",
      " 0   PassengerId  891 non-null    int64  \n",
      " 1   Survived     891 non-null    int64  \n",
      " 2   Pclass       891 non-null    int64  \n",
      " 3   Name         891 non-null    object \n",
      " 4   Sex          891 non-null    object \n",
      " 5   Age          714 non-null    float64\n",
      " 6   SibSp        891 non-null    int64  \n",
      " 7   Parch        891 non-null    int64  \n",
      " 8   Ticket       891 non-null    object \n",
      " 9   Fare         891 non-null    float64\n",
      " 10  Cabin        204 non-null    object \n",
      " 11  Embarked     889 non-null    object \n",
      "dtypes: float64(2), int64(5), object(5)\n",
      "memory usage: 83.7+ KB\n"
     ]
    },
    {
     "data": {
      "text/html": [
       "<div>\n",
       "<style scoped>\n",
       "    .dataframe tbody tr th:only-of-type {\n",
       "        vertical-align: middle;\n",
       "    }\n",
       "\n",
       "    .dataframe tbody tr th {\n",
       "        vertical-align: top;\n",
       "    }\n",
       "\n",
       "    .dataframe thead th {\n",
       "        text-align: right;\n",
       "    }\n",
       "</style>\n",
       "<table border=\"1\" class=\"dataframe\">\n",
       "  <thead>\n",
       "    <tr style=\"text-align: right;\">\n",
       "      <th></th>\n",
       "      <th>PassengerId</th>\n",
       "      <th>Survived</th>\n",
       "      <th>Pclass</th>\n",
       "      <th>Name</th>\n",
       "      <th>Sex</th>\n",
       "      <th>Age</th>\n",
       "      <th>SibSp</th>\n",
       "      <th>Parch</th>\n",
       "      <th>Ticket</th>\n",
       "      <th>Fare</th>\n",
       "      <th>Cabin</th>\n",
       "      <th>Embarked</th>\n",
       "    </tr>\n",
       "  </thead>\n",
       "  <tbody>\n",
       "    <tr>\n",
       "      <th>0</th>\n",
       "      <td>1</td>\n",
       "      <td>0</td>\n",
       "      <td>3</td>\n",
       "      <td>Braund, Mr. Owen Harris</td>\n",
       "      <td>male</td>\n",
       "      <td>22.0</td>\n",
       "      <td>1</td>\n",
       "      <td>0</td>\n",
       "      <td>A/5 21171</td>\n",
       "      <td>7.2500</td>\n",
       "      <td>NaN</td>\n",
       "      <td>S</td>\n",
       "    </tr>\n",
       "    <tr>\n",
       "      <th>1</th>\n",
       "      <td>2</td>\n",
       "      <td>1</td>\n",
       "      <td>1</td>\n",
       "      <td>Cumings, Mrs. John Bradley (Florence Briggs Th...</td>\n",
       "      <td>female</td>\n",
       "      <td>38.0</td>\n",
       "      <td>1</td>\n",
       "      <td>0</td>\n",
       "      <td>PC 17599</td>\n",
       "      <td>71.2833</td>\n",
       "      <td>C85</td>\n",
       "      <td>C</td>\n",
       "    </tr>\n",
       "    <tr>\n",
       "      <th>2</th>\n",
       "      <td>3</td>\n",
       "      <td>1</td>\n",
       "      <td>3</td>\n",
       "      <td>Heikkinen, Miss. Laina</td>\n",
       "      <td>female</td>\n",
       "      <td>26.0</td>\n",
       "      <td>0</td>\n",
       "      <td>0</td>\n",
       "      <td>STON/O2. 3101282</td>\n",
       "      <td>7.9250</td>\n",
       "      <td>NaN</td>\n",
       "      <td>S</td>\n",
       "    </tr>\n",
       "    <tr>\n",
       "      <th>3</th>\n",
       "      <td>4</td>\n",
       "      <td>1</td>\n",
       "      <td>1</td>\n",
       "      <td>Futrelle, Mrs. Jacques Heath (Lily May Peel)</td>\n",
       "      <td>female</td>\n",
       "      <td>35.0</td>\n",
       "      <td>1</td>\n",
       "      <td>0</td>\n",
       "      <td>113803</td>\n",
       "      <td>53.1000</td>\n",
       "      <td>C123</td>\n",
       "      <td>S</td>\n",
       "    </tr>\n",
       "    <tr>\n",
       "      <th>4</th>\n",
       "      <td>5</td>\n",
       "      <td>0</td>\n",
       "      <td>3</td>\n",
       "      <td>Allen, Mr. William Henry</td>\n",
       "      <td>male</td>\n",
       "      <td>35.0</td>\n",
       "      <td>0</td>\n",
       "      <td>0</td>\n",
       "      <td>373450</td>\n",
       "      <td>8.0500</td>\n",
       "      <td>NaN</td>\n",
       "      <td>S</td>\n",
       "    </tr>\n",
       "  </tbody>\n",
       "</table>\n",
       "</div>"
      ],
      "text/plain": [
       "   PassengerId  Survived  Pclass  \\\n",
       "0            1         0       3   \n",
       "1            2         1       1   \n",
       "2            3         1       3   \n",
       "3            4         1       1   \n",
       "4            5         0       3   \n",
       "\n",
       "                                                Name     Sex   Age  SibSp  \\\n",
       "0                            Braund, Mr. Owen Harris    male  22.0      1   \n",
       "1  Cumings, Mrs. John Bradley (Florence Briggs Th...  female  38.0      1   \n",
       "2                             Heikkinen, Miss. Laina  female  26.0      0   \n",
       "3       Futrelle, Mrs. Jacques Heath (Lily May Peel)  female  35.0      1   \n",
       "4                           Allen, Mr. William Henry    male  35.0      0   \n",
       "\n",
       "   Parch            Ticket     Fare Cabin Embarked  \n",
       "0      0         A/5 21171   7.2500   NaN        S  \n",
       "1      0          PC 17599  71.2833   C85        C  \n",
       "2      0  STON/O2. 3101282   7.9250   NaN        S  \n",
       "3      0            113803  53.1000  C123        S  \n",
       "4      0            373450   8.0500   NaN        S  "
      ]
     },
     "execution_count": 4,
     "metadata": {},
     "output_type": "execute_result"
    }
   ],
   "source": [
    "train.info()\n",
    "train.head()"
   ]
  },
  {
   "cell_type": "code",
   "execution_count": null,
   "id": "7e0c1607",
   "metadata": {},
   "outputs": [],
   "source": []
  },
  {
   "cell_type": "markdown",
   "id": "81d1a4a1",
   "metadata": {},
   "source": [
    "## ID 제거, 결측 확인"
   ]
  },
  {
   "cell_type": "code",
   "execution_count": 5,
   "id": "498e2d86",
   "metadata": {
    "ExecuteTime": {
     "end_time": "2021-05-10T06:53:12.484212Z",
     "start_time": "2021-05-10T06:53:12.470250Z"
    }
   },
   "outputs": [],
   "source": [
    "train.drop('PassengerId', axis=1, inplace=True)\n",
    "test.drop('PassengerId', axis=1, inplace=True)"
   ]
  },
  {
   "cell_type": "code",
   "execution_count": 6,
   "id": "65cf064a",
   "metadata": {
    "ExecuteTime": {
     "end_time": "2021-05-10T06:53:12.515130Z",
     "start_time": "2021-05-10T06:53:12.485210Z"
    }
   },
   "outputs": [
    {
     "name": "stdout",
     "output_type": "stream",
     "text": [
      "           CNT        RATE\n",
      "Cabin     1014  113.804714\n",
      "Survived   418   46.913580\n",
      "Age        263   29.517396\n",
      "Embarked     2    0.224467\n",
      "Fare         1    0.112233\n"
     ]
    }
   ],
   "source": [
    "train_test = train.append(test)\n",
    "nan_dict = {\"CNT\":train_test.isna().sum(),\n",
    "            \"RATE\": train_test.isna().sum()/train.shape[0] *100\n",
    "}\n",
    "nan_df = pd.DataFrame(nan_dict)\n",
    "print(nan_df[nan_df[\"RATE\"]>0].sort_values(\"CNT\", ascending=False))\n",
    "# Fare: fillna 0\n",
    "# Age: group by name_title fill na mean\n",
    "# Survived:\n",
    "\n",
    "# Cabin: 삭제\n",
    "# Embarked: fillna mode "
   ]
  },
  {
   "cell_type": "code",
   "execution_count": 7,
   "id": "873ad064",
   "metadata": {
    "ExecuteTime": {
     "end_time": "2021-05-10T06:53:12.531087Z",
     "start_time": "2021-05-10T06:53:12.516127Z"
    }
   },
   "outputs": [],
   "source": [
    "train[\"Fare\"].fillna(0, inplace=True)\n",
    "test[\"Fare\"].fillna(0, inplace=True)"
   ]
  },
  {
   "cell_type": "code",
   "execution_count": null,
   "id": "30ea1652",
   "metadata": {},
   "outputs": [],
   "source": []
  },
  {
   "cell_type": "markdown",
   "id": "2c7e7725",
   "metadata": {
    "ExecuteTime": {
     "end_time": "2021-05-10T06:02:22.010352Z",
     "start_time": "2021-05-10T06:02:21.993398Z"
    }
   },
   "source": [
    "## EDA"
   ]
  },
  {
   "cell_type": "markdown",
   "id": "76d9ed01",
   "metadata": {},
   "source": [
    "### Name_title"
   ]
  },
  {
   "cell_type": "code",
   "execution_count": 8,
   "id": "5b4b9108",
   "metadata": {
    "ExecuteTime": {
     "end_time": "2021-05-10T06:53:12.547044Z",
     "start_time": "2021-05-10T06:53:12.533082Z"
    }
   },
   "outputs": [],
   "source": [
    "# object type: Name, Sex, Ticket, Cabin, Embarked"
   ]
  },
  {
   "cell_type": "code",
   "execution_count": 9,
   "id": "0fc4e29c",
   "metadata": {
    "ExecuteTime": {
     "end_time": "2021-05-10T06:53:12.562512Z",
     "start_time": "2021-05-10T06:53:12.548557Z"
    }
   },
   "outputs": [
    {
     "name": "stdout",
     "output_type": "stream",
     "text": [
      "['Mr' 'Mrs' 'Miss' 'Master' 'Ms' 'Col' 'Rev' 'Dr' 'Dona']\n",
      "['Mr' 'Mrs' 'Miss' 'Master' 'Don' 'Rev' 'Dr' 'Mme' 'Ms' 'Major' 'Lady'\n",
      " 'Sir' 'Mlle' 'Col' 'Capt' 'Countess' 'Jonkheer']\n"
     ]
    }
   ],
   "source": [
    "train['Name_title'] = train['Name'].str.extract(' ([A-Za-z]+)\\.')\n",
    "test['Name_title'] = test['Name'].str.extract(' ([A-Za-z]+)\\.')\n",
    "print(test['Name_title'].unique())\n",
    "print(train['Name_title'].unique())"
   ]
  },
  {
   "cell_type": "code",
   "execution_count": 10,
   "id": "c53d2000",
   "metadata": {
    "ExecuteTime": {
     "end_time": "2021-05-10T06:53:12.577472Z",
     "start_time": "2021-05-10T06:53:12.563510Z"
    }
   },
   "outputs": [
    {
     "name": "stdout",
     "output_type": "stream",
     "text": [
      "0    1\n",
      "1    2\n",
      "2    3\n",
      "3    2\n",
      "4    1\n",
      "Name: Name_title, dtype: int64\n"
     ]
    }
   ],
   "source": [
    "name_title_dict = {\n",
    "'Mr':1,\n",
    "'Mrs':2, 'Mme':2,\n",
    "'Miss':3, 'Lady':3, 'Ms' :3,'Mlle':3,\n",
    "'Master':4 ,\n",
    "    'Don':5 , 'Dona':5, 'Rev':6 , 'Dr':7 , 'Major':8 ,\n",
    " 'Sir':9, 'Col':10, 'Capt':11, 'Countess':12, 'Jonkheer':13\n",
    "}\n",
    "train['Name_title'] = train['Name_title'].map(name_title_dict)\n",
    "test['Name_title'] = test['Name_title'].map(name_title_dict)\n",
    "print(train['Name_title'].head())"
   ]
  },
  {
   "cell_type": "code",
   "execution_count": 11,
   "id": "e1571a3c",
   "metadata": {
    "ExecuteTime": {
     "end_time": "2021-05-10T06:53:12.593430Z",
     "start_time": "2021-05-10T06:53:12.578470Z"
    }
   },
   "outputs": [],
   "source": [
    "train.drop(['Name'], axis=1, inplace=True)\n",
    "test.drop(['Name'], axis=1, inplace=True)"
   ]
  },
  {
   "cell_type": "code",
   "execution_count": null,
   "id": "54907c4b",
   "metadata": {},
   "outputs": [],
   "source": []
  },
  {
   "cell_type": "markdown",
   "id": "a69ea699",
   "metadata": {},
   "source": [
    "### Sex"
   ]
  },
  {
   "cell_type": "code",
   "execution_count": 12,
   "id": "a66aecc3",
   "metadata": {
    "ExecuteTime": {
     "end_time": "2021-05-10T06:53:12.608389Z",
     "start_time": "2021-05-10T06:53:12.594427Z"
    }
   },
   "outputs": [],
   "source": [
    "train['Sex'] = train['Sex'].replace(['female','male'],[0,1])\n",
    "test['Sex'] = test['Sex'].replace(['female','male'],[0,1])"
   ]
  },
  {
   "cell_type": "code",
   "execution_count": null,
   "id": "3f021566",
   "metadata": {},
   "outputs": [],
   "source": []
  },
  {
   "cell_type": "markdown",
   "id": "dce4c865",
   "metadata": {},
   "source": [
    "### Drop Ticket, Cabin"
   ]
  },
  {
   "cell_type": "code",
   "execution_count": 13,
   "id": "367ffa27",
   "metadata": {
    "ExecuteTime": {
     "end_time": "2021-05-10T06:53:12.624347Z",
     "start_time": "2021-05-10T06:53:12.610384Z"
    }
   },
   "outputs": [],
   "source": [
    "train.drop(['Ticket', 'Cabin'], axis=1, inplace=True)\n",
    "test.drop(['Ticket', 'Cabin'], axis=1, inplace=True)"
   ]
  },
  {
   "cell_type": "code",
   "execution_count": null,
   "id": "ef13f0c7",
   "metadata": {},
   "outputs": [],
   "source": []
  },
  {
   "cell_type": "markdown",
   "id": "831115ba",
   "metadata": {},
   "source": [
    "### Labeling Embarked"
   ]
  },
  {
   "cell_type": "code",
   "execution_count": 14,
   "id": "0ce76abd",
   "metadata": {
    "ExecuteTime": {
     "end_time": "2021-05-10T06:53:12.640305Z",
     "start_time": "2021-05-10T06:53:12.625345Z"
    }
   },
   "outputs": [],
   "source": [
    "mode_value = train[\"Embarked\"].mode()\n",
    "train[\"Embarked\"].fillna(mode_value[0], inplace=True)\n",
    "test[\"Embarked\"].fillna(mode_value[0], inplace=True)"
   ]
  },
  {
   "cell_type": "code",
   "execution_count": 15,
   "id": "8f6413e9",
   "metadata": {
    "ExecuteTime": {
     "end_time": "2021-05-10T06:53:12.655770Z",
     "start_time": "2021-05-10T06:53:12.642299Z"
    }
   },
   "outputs": [],
   "source": [
    "label_encoder = LabelEncoder()\n",
    "train[\"Embarked\"] = label_encoder.fit_transform(train[\"Embarked\"])\n",
    "test[\"Embarked\"] = label_encoder.transform(test[\"Embarked\"])"
   ]
  },
  {
   "cell_type": "code",
   "execution_count": null,
   "id": "03a0605e",
   "metadata": {},
   "outputs": [],
   "source": []
  },
  {
   "cell_type": "code",
   "execution_count": 16,
   "id": "0c42c48b",
   "metadata": {
    "ExecuteTime": {
     "end_time": "2021-05-10T06:53:12.671728Z",
     "start_time": "2021-05-10T06:53:12.656768Z"
    }
   },
   "outputs": [
    {
     "name": "stdout",
     "output_type": "stream",
     "text": [
      "<class 'pandas.core.frame.DataFrame'>\n",
      "RangeIndex: 891 entries, 0 to 890\n",
      "Data columns (total 9 columns):\n",
      " #   Column      Non-Null Count  Dtype  \n",
      "---  ------      --------------  -----  \n",
      " 0   Survived    891 non-null    int64  \n",
      " 1   Pclass      891 non-null    int64  \n",
      " 2   Sex         891 non-null    int64  \n",
      " 3   Age         714 non-null    float64\n",
      " 4   SibSp       891 non-null    int64  \n",
      " 5   Parch       891 non-null    int64  \n",
      " 6   Fare        891 non-null    float64\n",
      " 7   Embarked    891 non-null    int32  \n",
      " 8   Name_title  891 non-null    int64  \n",
      "dtypes: float64(2), int32(1), int64(6)\n",
      "memory usage: 59.3 KB\n"
     ]
    }
   ],
   "source": [
    "train.info()"
   ]
  },
  {
   "cell_type": "code",
   "execution_count": null,
   "id": "405ea20e",
   "metadata": {},
   "outputs": [],
   "source": []
  },
  {
   "cell_type": "markdown",
   "id": "d58f3c50",
   "metadata": {},
   "source": [
    "### FillNA Age"
   ]
  },
  {
   "cell_type": "code",
   "execution_count": 17,
   "id": "87b11ec3",
   "metadata": {
    "ExecuteTime": {
     "end_time": "2021-05-10T06:53:12.687684Z",
     "start_time": "2021-05-10T06:53:12.672725Z"
    }
   },
   "outputs": [
    {
     "name": "stdout",
     "output_type": "stream",
     "text": [
      "[22.         38.         26.         35.         32.36809045 54.\n",
      "  2.         27.         14.          4.         58.         20.\n",
      " 39.         55.         31.         35.78899083 34.         15.\n",
      " 28.          8.         19.         22.02       40.         66.\n",
      " 42.         21.         18.          3.          7.         49.\n",
      " 29.         65.         28.5         5.         11.         45.\n",
      "  4.57416667 17.         32.         16.         25.          0.83\n",
      " 30.         33.         23.         24.         46.         59.\n",
      " 71.         37.         47.         14.5        70.5        32.5\n",
      " 12.          9.         36.5        51.         55.5        40.5\n",
      " 44.          1.         61.         56.         50.         36.\n",
      " 45.5        20.5        62.         41.         52.         63.\n",
      " 23.5         0.92       43.         60.         10.         64.\n",
      " 13.         48.          0.75       53.         57.         80.\n",
      " 70.         24.5         6.          0.67       30.5         0.42\n",
      " 34.5        74.        ]\n"
     ]
    }
   ],
   "source": [
    "train[\"Age\"].fillna(train.groupby(\"Name_title\")[\"Age\"].transform(\"mean\"), inplace=True)\n",
    "test[\"Age\"].fillna(test.groupby(\"Name_title\")[\"Age\"].transform(\"mean\"), inplace=True)\n",
    "print(train[\"Age\"].unique())"
   ]
  },
  {
   "cell_type": "code",
   "execution_count": 19,
   "id": "3120b00e",
   "metadata": {
    "ExecuteTime": {
     "end_time": "2021-05-10T06:53:37.802192Z",
     "start_time": "2021-05-10T06:53:37.789227Z"
    }
   },
   "outputs": [
    {
     "name": "stdout",
     "output_type": "stream",
     "text": [
      "<class 'pandas.core.frame.DataFrame'>\n",
      "RangeIndex: 891 entries, 0 to 890\n",
      "Data columns (total 9 columns):\n",
      " #   Column      Non-Null Count  Dtype  \n",
      "---  ------      --------------  -----  \n",
      " 0   Survived    891 non-null    int64  \n",
      " 1   Pclass      891 non-null    int64  \n",
      " 2   Sex         891 non-null    int64  \n",
      " 3   Age         891 non-null    float64\n",
      " 4   SibSp       891 non-null    int64  \n",
      " 5   Parch       891 non-null    int64  \n",
      " 6   Fare        891 non-null    float64\n",
      " 7   Embarked    891 non-null    int32  \n",
      " 8   Name_title  891 non-null    int64  \n",
      "dtypes: float64(2), int32(1), int64(6)\n",
      "memory usage: 59.3 KB\n"
     ]
    }
   ],
   "source": [
    "train.info()"
   ]
  },
  {
   "cell_type": "code",
   "execution_count": null,
   "id": "63ee1208",
   "metadata": {},
   "outputs": [],
   "source": []
  },
  {
   "cell_type": "code",
   "execution_count": null,
   "id": "dc239b8b",
   "metadata": {},
   "outputs": [],
   "source": []
  },
  {
   "cell_type": "markdown",
   "id": "427631c1",
   "metadata": {},
   "source": [
    "## Modeling"
   ]
  },
  {
   "cell_type": "code",
   "execution_count": 20,
   "id": "6ac535ff",
   "metadata": {
    "ExecuteTime": {
     "end_time": "2021-05-10T06:53:41.279511Z",
     "start_time": "2021-05-10T06:53:41.268540Z"
    }
   },
   "outputs": [],
   "source": [
    "X = train.drop('Survived', axis = 1)\n",
    "y = train['Survived']"
   ]
  },
  {
   "cell_type": "code",
   "execution_count": 21,
   "id": "38472765",
   "metadata": {
    "ExecuteTime": {
     "end_time": "2021-05-10T06:53:41.294470Z",
     "start_time": "2021-05-10T06:53:41.281505Z"
    }
   },
   "outputs": [],
   "source": [
    "# y_oh = to_categorical(y) # 원핫 인코딩 001 010 100"
   ]
  },
  {
   "cell_type": "code",
   "execution_count": null,
   "id": "c150ebba",
   "metadata": {},
   "outputs": [],
   "source": []
  },
  {
   "cell_type": "code",
   "execution_count": 22,
   "id": "d6a93de1",
   "metadata": {
    "ExecuteTime": {
     "end_time": "2021-05-10T06:53:41.421130Z",
     "start_time": "2021-05-10T06:53:41.295467Z"
    }
   },
   "outputs": [],
   "source": [
    "model = Sequential()\n",
    "model.add(Dense(units=128, input_dim = 8, activation='relu'))\n",
    "model.add(Dense(units=64,                activation='relu'))\n",
    "model.add(Dense(units=16,                activation='relu'))\n",
    "model.add(Dense(units=1,                activation='sigmoid')) # multi\n",
    "# model.add(Dense(units=2,                activation='softmax')) # binary"
   ]
  },
  {
   "cell_type": "code",
   "execution_count": 23,
   "id": "cece896f",
   "metadata": {
    "ExecuteTime": {
     "end_time": "2021-05-10T06:53:41.436091Z",
     "start_time": "2021-05-10T06:53:41.422128Z"
    }
   },
   "outputs": [],
   "source": [
    "model.compile(loss='binary_crossentropy', optimizer='adam', metrics=['accuracy'])\n",
    "# sparce_crossentroby : 원핫 인코딩 없이 할 때, 0, 1, 2로 분류 "
   ]
  },
  {
   "cell_type": "code",
   "execution_count": 24,
   "id": "7209ee1e",
   "metadata": {
    "ExecuteTime": {
     "end_time": "2021-05-10T06:53:41.452048Z",
     "start_time": "2021-05-10T06:53:41.437088Z"
    }
   },
   "outputs": [],
   "source": [
    "estop = EarlyStopping(monitor='val_accuracy', patience=4)"
   ]
  },
  {
   "cell_type": "code",
   "execution_count": 25,
   "id": "f8e656b8",
   "metadata": {
    "ExecuteTime": {
     "end_time": "2021-05-10T06:53:42.749612Z",
     "start_time": "2021-05-10T06:53:41.453046Z"
    }
   },
   "outputs": [
    {
     "name": "stdout",
     "output_type": "stream",
     "text": [
      "Epoch 1/200\n",
      "23/23 [==============================] - 0s 7ms/step - loss: 0.7243 - accuracy: 0.5786 - val_loss: 0.5744 - val_accuracy: 0.6760\n",
      "Epoch 2/200\n",
      "23/23 [==============================] - 0s 2ms/step - loss: 0.6170 - accuracy: 0.6867 - val_loss: 0.5439 - val_accuracy: 0.7374\n",
      "Epoch 3/200\n",
      "23/23 [==============================] - 0s 2ms/step - loss: 0.5656 - accuracy: 0.6961 - val_loss: 0.4938 - val_accuracy: 0.7598\n",
      "Epoch 4/200\n",
      "23/23 [==============================] - 0s 2ms/step - loss: 0.6248 - accuracy: 0.6667 - val_loss: 0.4783 - val_accuracy: 0.7765\n",
      "Epoch 5/200\n",
      "23/23 [==============================] - 0s 2ms/step - loss: 0.5720 - accuracy: 0.7191 - val_loss: 0.4790 - val_accuracy: 0.8045\n",
      "Epoch 6/200\n",
      "23/23 [==============================] - 0s 2ms/step - loss: 0.5822 - accuracy: 0.7030 - val_loss: 0.4605 - val_accuracy: 0.7933\n",
      "Epoch 7/200\n",
      "23/23 [==============================] - 0s 2ms/step - loss: 0.5621 - accuracy: 0.7264 - val_loss: 0.4859 - val_accuracy: 0.7598\n",
      "Epoch 8/200\n",
      "23/23 [==============================] - 0s 2ms/step - loss: 0.5196 - accuracy: 0.7481 - val_loss: 0.5343 - val_accuracy: 0.8212\n",
      "Epoch 9/200\n",
      "23/23 [==============================] - 0s 2ms/step - loss: 0.5219 - accuracy: 0.7889 - val_loss: 0.4910 - val_accuracy: 0.8212\n",
      "Epoch 10/200\n",
      "23/23 [==============================] - 0s 2ms/step - loss: 0.4996 - accuracy: 0.7512 - val_loss: 0.4903 - val_accuracy: 0.8212\n",
      "Epoch 11/200\n",
      "23/23 [==============================] - 0s 2ms/step - loss: 0.5203 - accuracy: 0.7743 - val_loss: 0.4605 - val_accuracy: 0.8324\n",
      "Epoch 12/200\n",
      "23/23 [==============================] - 0s 2ms/step - loss: 0.4929 - accuracy: 0.7757 - val_loss: 0.4914 - val_accuracy: 0.7933\n",
      "Epoch 13/200\n",
      "23/23 [==============================] - 0s 2ms/step - loss: 0.4827 - accuracy: 0.7740 - val_loss: 0.4411 - val_accuracy: 0.8212\n",
      "Epoch 14/200\n",
      "23/23 [==============================] - 0s 2ms/step - loss: 0.4879 - accuracy: 0.7833 - val_loss: 0.4210 - val_accuracy: 0.8380\n",
      "Epoch 15/200\n",
      "23/23 [==============================] - 0s 2ms/step - loss: 0.4916 - accuracy: 0.7702 - val_loss: 0.4414 - val_accuracy: 0.8324\n",
      "Epoch 16/200\n",
      "23/23 [==============================] - 0s 2ms/step - loss: 0.4828 - accuracy: 0.8096 - val_loss: 0.4407 - val_accuracy: 0.8268\n",
      "Epoch 17/200\n",
      "23/23 [==============================] - 0s 2ms/step - loss: 0.4965 - accuracy: 0.7843 - val_loss: 0.4536 - val_accuracy: 0.7877\n",
      "Epoch 18/200\n",
      "23/23 [==============================] - 0s 2ms/step - loss: 0.4552 - accuracy: 0.8034 - val_loss: 0.4661 - val_accuracy: 0.8156\n"
     ]
    }
   ],
   "source": [
    "res = model.fit(X, y, epochs=200, \n",
    "          callbacks=[estop],\n",
    "          validation_split=0.2, verbose=1)"
   ]
  },
  {
   "cell_type": "code",
   "execution_count": 26,
   "id": "b3476ebf",
   "metadata": {
    "ExecuteTime": {
     "end_time": "2021-05-10T06:53:42.924145Z",
     "start_time": "2021-05-10T06:53:42.750610Z"
    }
   },
   "outputs": [
    {
     "data": {
      "image/png": "[encoded data removed]",
      "text/plain": [
       "<Figure size 576x360 with 2 Axes>"
      ]
     },
     "metadata": {
      "needs_background": "light"
     },
     "output_type": "display_data"
    }
   ],
   "source": [
    "plt.figure(figsize=(8,5))\n",
    "plt.subplot(1,2,1)\n",
    "plt.plot(res.history['accuracy'], label='accuracy')\n",
    "plt.plot(res.history['val_accuracy'], label='val_accuracy')\n",
    "\n",
    "plt.subplot(1,2,2)\n",
    "plt.plot(res.history['loss'], label='loss')\n",
    "plt.plot(res.history['val_loss'], label='val_loss')\n",
    "\n",
    "plt.legend()\n",
    "plt.show()"
   ]
  },
  {
   "cell_type": "code",
   "execution_count": null,
   "id": "3787a412",
   "metadata": {},
   "outputs": [],
   "source": []
  }
 ],
 "metadata": {
  "kernelspec": {
   "display_name": "Python 3",
   "language": "python",
   "name": "python3"
  },
  "language_info": {
   "codemirror_mode": {
    "name": "ipython",
    "version": 3
   },
   "file_extension": ".py",
   "mimetype": "text/x-python",
   "name": "python",
   "nbconvert_exporter": "python",
   "pygments_lexer": "ipython3",
   "version": "3.7.7"
  },
  "toc": {
   "base_numbering": 1,
   "nav_menu": {},
   "number_sections": true,
   "sideBar": true,
   "skip_h1_title": false,
   "title_cell": "Table of Contents",
   "title_sidebar": "Contents",
   "toc_cell": false,
   "toc_position": {
    "height": "calc(100% - 180px)",
    "left": "10px",
    "top": "150px",
    "width": "307.2px"
   },
   "toc_section_display": true,
   "toc_window_display": true
  }
 },
 "nbformat": 4,
 "nbformat_minor": 5
}
