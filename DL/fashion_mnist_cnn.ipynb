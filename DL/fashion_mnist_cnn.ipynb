{
 "cells": [
  {
   "cell_type": "markdown",
   "id": "complimentary-geography",
   "metadata": {},
   "source": [
    "# Fashion MNIST\n",
    "ref : https://www.tensorflow.org/tutorials/keras/classification?hl=ko"
   ]
  },
  {
   "cell_type": "code",
   "execution_count": 1,
   "id": "considerable-software",
   "metadata": {
    "ExecuteTime": {
     "end_time": "2021-05-12T02:28:28.229439Z",
     "start_time": "2021-05-12T02:28:20.574279Z"
    }
   },
   "outputs": [],
   "source": [
    "# coding: utf-8\n",
    "\n",
    "import sys \n",
    "import os\n",
    "sys.path.append(os.pardir)  # 부모 디렉터리의 파일을 가져올 수 있도록 설정\n",
    "\n",
    "import tensorflow as tf\n",
    "from keras.models import Sequential\n",
    "from keras.layers import Dense, Input, Conv2D, MaxPooling2D, Dropout, Flatten\n",
    "from keras.utils import to_categorical\n",
    "from keras.datasets import fashion_mnist\n",
    "from keras.callbacks import EarlyStopping, ModelCheckpoint\n",
    "\n",
    "from sklearn.preprocessing import LabelEncoder, OneHotEncoder\n",
    "from sklearn.model_selection import train_test_split\n",
    "\n",
    "import pandas as pd\n",
    "import numpy as np\n",
    "import matplotlib.pyplot as plt\n",
    "\n",
    "import warnings\n",
    "warnings.filterwarnings(action='ignore')"
   ]
  },
  {
   "cell_type": "code",
   "execution_count": 2,
   "id": "elegant-boring",
   "metadata": {
    "ExecuteTime": {
     "end_time": "2021-05-12T02:28:28.245395Z",
     "start_time": "2021-05-12T02:28:28.230436Z"
    }
   },
   "outputs": [],
   "source": [
    "np.random.seed(121)\n",
    "tf.random.set_seed(121)"
   ]
  },
  {
   "cell_type": "code",
   "execution_count": 3,
   "id": "scenic-switch",
   "metadata": {
    "ExecuteTime": {
     "end_time": "2021-05-12T02:28:30.039143Z",
     "start_time": "2021-05-12T02:28:28.247391Z"
    }
   },
   "outputs": [
    {
     "name": "stdout",
     "output_type": "stream",
     "text": [
      "Downloading data from https://storage.googleapis.com/tensorflow/tf-keras-datasets/train-labels-idx1-ubyte.gz\n",
      "32768/29515 [=================================] - 0s 0us/step\n",
      "Downloading data from https://storage.googleapis.com/tensorflow/tf-keras-datasets/train-images-idx3-ubyte.gz\n",
      "26427392/26421880 [==============================] - 1s 0us/step\n",
      "Downloading data from https://storage.googleapis.com/tensorflow/tf-keras-datasets/t10k-labels-idx1-ubyte.gz\n",
      "8192/5148 [===============================================] - 0s 0us/step\n",
      "Downloading data from https://storage.googleapis.com/tensorflow/tf-keras-datasets/t10k-images-idx3-ubyte.gz\n",
      "4423680/4422102 [==============================] - 0s 0us/step\n"
     ]
    }
   ],
   "source": [
    "(train_images, train_labels), (test_images, test_labels) = fashion_mnist.load_data()"
   ]
  },
  {
   "cell_type": "code",
   "execution_count": 4,
   "id": "organizational-bargain",
   "metadata": {
    "ExecuteTime": {
     "end_time": "2021-05-12T02:28:30.055101Z",
     "start_time": "2021-05-12T02:28:30.040141Z"
    }
   },
   "outputs": [
    {
     "name": "stdout",
     "output_type": "stream",
     "text": [
      "(60000, 28, 28) 60000 [9 0 0 3 0]\n",
      "(10000, 28, 28) 10000 [9 2 1 1 6]\n"
     ]
    }
   ],
   "source": [
    "print(train_images.shape, len(train_labels), train_labels[:5])\n",
    "print(test_images.shape, len(test_labels), test_labels[:5])"
   ]
  },
  {
   "cell_type": "markdown",
   "id": "emerging-occasions",
   "metadata": {},
   "source": [
    "# 공통 변수 설정"
   ]
  },
  {
   "cell_type": "code",
   "execution_count": 5,
   "id": "alpine-little",
   "metadata": {
    "ExecuteTime": {
     "end_time": "2021-05-12T02:28:30.070568Z",
     "start_time": "2021-05-12T02:28:30.056098Z"
    }
   },
   "outputs": [],
   "source": [
    "SPLIT__=0.1\n",
    "BATCH_SIZE__=128\n",
    "EPOCHS__=10"
   ]
  },
  {
   "cell_type": "markdown",
   "id": "touched-saskatchewan",
   "metadata": {},
   "source": [
    "* target "
   ]
  },
  {
   "cell_type": "code",
   "execution_count": 6,
   "id": "encouraging-devil",
   "metadata": {
    "ExecuteTime": {
     "end_time": "2021-05-12T02:28:30.100488Z",
     "start_time": "2021-05-12T02:28:30.071566Z"
    }
   },
   "outputs": [
    {
     "name": "stdout",
     "output_type": "stream",
     "text": [
      "{0, 1, 2, 3, 4, 5, 6, 7, 8, 9}\n",
      "10\n"
     ]
    }
   ],
   "source": [
    "print(set(train_labels))\n",
    "NUM_CLASSES__ = len(set(train_labels))\n",
    "print(NUM_CLASSES__)"
   ]
  },
  {
   "cell_type": "markdown",
   "id": "mechanical-toilet",
   "metadata": {},
   "source": [
    "* 보기 편하려고 만든 레이블"
   ]
  },
  {
   "cell_type": "code",
   "execution_count": 7,
   "id": "passive-album",
   "metadata": {
    "ExecuteTime": {
     "end_time": "2021-05-12T02:28:30.116447Z",
     "start_time": "2021-05-12T02:28:30.102483Z"
    }
   },
   "outputs": [],
   "source": [
    "LABEL_NAME__ = ['T-shirt/top', 'Trouser', 'Pullover', 'Dress', 'Coat', 'Sandal', 'Shirt', 'Sneaker', 'Bag', 'Ankle boot']"
   ]
  },
  {
   "cell_type": "markdown",
   "id": "nearby-karen",
   "metadata": {},
   "source": [
    "# 공통 함수"
   ]
  },
  {
   "cell_type": "code",
   "execution_count": 8,
   "id": "authorized-privilege",
   "metadata": {
    "ExecuteTime": {
     "end_time": "2021-05-12T02:28:30.132406Z",
     "start_time": "2021-05-12T02:28:30.119438Z"
    }
   },
   "outputs": [],
   "source": [
    "def myPlot(fit_res) :\n",
    "    key_ = list(fit_res.history.keys())\n",
    "    plt.figure(figsize=(12,5))\n",
    "    for i in range(len(key_)):\n",
    "        plt.plot(fit_res.history[key_[i]], label=key_[i])\n",
    "    plt.title(\"metrics\")\n",
    "    plt.xlabel(\"epoch\")\n",
    "    plt.ylabel(\"score\")\n",
    "    plt.legend()\n",
    "    plt.show()"
   ]
  },
  {
   "cell_type": "code",
   "execution_count": 9,
   "id": "valued-singapore",
   "metadata": {
    "ExecuteTime": {
     "end_time": "2021-05-12T02:28:30.148361Z",
     "start_time": "2021-05-12T02:28:30.136394Z"
    }
   },
   "outputs": [],
   "source": [
    "def myscore(X,y,fit_res=None):\n",
    "    # test_loss, test_acc = model.evaluate(test_images,  test_labels, verbose=1)\n",
    "    # print(f\"loss: {test_loss:.5f} accuracy: {test_acc:.5f}\" )\n",
    "    history = model.evaluate(X,  y, verbose=1)\n",
    "    print(f\"loss: {history[0]:.5f} accuracy: {history[1]:.5f}\" )\n",
    "    if fit_res != None:\n",
    "        myPlot(fit_res)\n",
    "# myscore(test_images,  test_labels, fit_res)"
   ]
  },
  {
   "cell_type": "code",
   "execution_count": 10,
   "id": "czech-haven",
   "metadata": {
    "ExecuteTime": {
     "end_time": "2021-05-12T02:28:30.164318Z",
     "start_time": "2021-05-12T02:28:30.150359Z"
    }
   },
   "outputs": [],
   "source": [
    "def myfit(X, y, SPLIT__=0.1, BATCH_SIZE__=128, EPOCHS__=10, ):\n",
    "    fit_res = model.fit(X, y, batch_size=BATCH_SIZE__, epochs=EPOCHS__, validation_split=SPLIT__)\n",
    "    return fit_res"
   ]
  },
  {
   "cell_type": "code",
   "execution_count": 11,
   "id": "appreciated-familiar",
   "metadata": {
    "ExecuteTime": {
     "end_time": "2021-05-12T02:28:30.180275Z",
     "start_time": "2021-05-12T02:28:30.166314Z"
    }
   },
   "outputs": [],
   "source": [
    "def mypredit_check(test_X, idx=0):\n",
    "    pred = model.predict(test_X)\n",
    "    print(pred[idx])\n",
    "    pred_label = np.argmax(pred[idx])\n",
    "    print(pred_label, LABEL_NAME__[pred_label])\n",
    "    plt.imshow(test_X[idx])\n",
    "    plt.show()"
   ]
  },
  {
   "cell_type": "markdown",
   "id": "amateur-moses",
   "metadata": {},
   "source": [
    "# EDA"
   ]
  },
  {
   "cell_type": "markdown",
   "id": "narrative-static",
   "metadata": {},
   "source": [
    "* visualization sample image"
   ]
  },
  {
   "cell_type": "code",
   "execution_count": 12,
   "id": "rapid-bookmark",
   "metadata": {
    "ExecuteTime": {
     "end_time": "2021-05-12T02:28:31.683782Z",
     "start_time": "2021-05-12T02:28:30.181272Z"
    }
   },
   "outputs": [
    {
     "data": {
      "image/png": "[encoded data removed]",
      "text/plain": [
       "<Figure size 720x720 with 25 Axes>"
      ]
     },
     "metadata": {
      "needs_background": "light"
     },
     "output_type": "display_data"
    }
   ],
   "source": [
    "plt.figure(figsize=(10,10))\n",
    "for i in range(25):\n",
    "    plt.subplot(5,5,i+1)\n",
    "    plt.grid(False)\n",
    "    plt.imshow(train_images[i])\n",
    "    plt.xlabel(LABEL_NAME__[train_labels[i]])\n",
    "plt.show()"
   ]
  },
  {
   "cell_type": "markdown",
   "id": "sophisticated-sheffield",
   "metadata": {},
   "source": [
    "# Preprocessing"
   ]
  },
  {
   "cell_type": "markdown",
   "id": "serious-photography",
   "metadata": {},
   "source": [
    "* scaling"
   ]
  },
  {
   "cell_type": "code",
   "execution_count": 13,
   "id": "loving-budget",
   "metadata": {
    "ExecuteTime": {
     "end_time": "2021-05-12T02:28:31.809446Z",
     "start_time": "2021-05-12T02:28:31.684780Z"
    }
   },
   "outputs": [],
   "source": [
    "train_images = train_images / 255.0\n",
    "test_images = test_images / 255.0"
   ]
  },
  {
   "cell_type": "markdown",
   "id": "emotional-indiana",
   "metadata": {},
   "source": [
    "* reshape 에러 주의!!!!\n",
    "<pre>\n",
    "import numpy as np\n",
    "data = np.zeros(2352)              # 2352 is 784 x 3\n",
    "data = data.reshape((-1,28,28,1))  # [3,1,28,28]\n",
    "print(data.shape)\n",
    "data = np.zeros(9992)              # 9992 is 784 x 12.745 ... not integer divisible\n",
    "data = data.reshape((-1,28,28,1))  # throws ValueError\n",
    "</pre>"
   ]
  },
  {
   "cell_type": "code",
   "execution_count": 14,
   "id": "frequent-montgomery",
   "metadata": {
    "ExecuteTime": {
     "end_time": "2021-05-12T02:28:31.825403Z",
     "start_time": "2021-05-12T02:28:31.810444Z"
    }
   },
   "outputs": [
    {
     "name": "stdout",
     "output_type": "stream",
     "text": [
      "(60000, 28, 28, 1) 60000 [9 0 0 3 0]\n",
      "(10000, 28, 28, 1) 10000 [9 2 1 1 6]\n"
     ]
    }
   ],
   "source": [
    "train_images = train_images.reshape(-1, 28, 28, 1)\n",
    "test_images = test_images.reshape(-1, 28, 28, 1)\n",
    "print(train_images.shape, len(train_labels), train_labels[:5])\n",
    "print(test_images.shape, len(test_labels), test_labels[:5])"
   ]
  },
  {
   "cell_type": "markdown",
   "id": "comparable-xerox",
   "metadata": {},
   "source": [
    "* 방법2 ) categorical_crosseentropy"
   ]
  },
  {
   "cell_type": "code",
   "execution_count": 15,
   "id": "stopped-russia",
   "metadata": {
    "ExecuteTime": {
     "end_time": "2021-05-12T02:28:31.841361Z",
     "start_time": "2021-05-12T02:28:31.826401Z"
    }
   },
   "outputs": [
    {
     "name": "stdout",
     "output_type": "stream",
     "text": [
      "(60000, 10)\n",
      "[[0. 0. 0. 0. 0. 0. 0. 0. 0. 1.]\n",
      " [1. 0. 0. 0. 0. 0. 0. 0. 0. 0.]\n",
      " [1. 0. 0. 0. 0. 0. 0. 0. 0. 0.]]\n"
     ]
    }
   ],
   "source": [
    "train_labels_cate = to_categorical(train_labels, NUM_CLASSES__)  # 원-핫 인코딩. 1차원 -> 2차원\n",
    "test_labels_cate = to_categorical(test_labels, NUM_CLASSES__)\n",
    "\n",
    "print(train_labels_cate.shape)  # (60000, 10)\n",
    "print(train_labels_cate[:3])"
   ]
  },
  {
   "cell_type": "markdown",
   "id": "legal-marks",
   "metadata": {},
   "source": [
    "# CNN Model Build & Fit "
   ]
  },
  {
   "cell_type": "code",
   "execution_count": 16,
   "id": "suburban-acquisition",
   "metadata": {
    "ExecuteTime": {
     "end_time": "2021-05-12T02:28:34.275937Z",
     "start_time": "2021-05-12T02:28:31.842358Z"
    }
   },
   "outputs": [
    {
     "name": "stdout",
     "output_type": "stream",
     "text": [
      "Model: \"sequential\"\n",
      "_________________________________________________________________\n",
      "Layer (type)                 Output Shape              Param #   \n",
      "=================================================================\n",
      "conv2d (Conv2D)              (None, 26, 26, 32)        320       \n",
      "_________________________________________________________________\n",
      "max_pooling2d (MaxPooling2D) (None, 13, 13, 32)        0         \n",
      "_________________________________________________________________\n",
      "conv2d_1 (Conv2D)            (None, 11, 11, 64)        18496     \n",
      "_________________________________________________________________\n",
      "max_pooling2d_1 (MaxPooling2 (None, 5, 5, 64)          0         \n",
      "_________________________________________________________________\n",
      "flatten (Flatten)            (None, 1600)              0         \n",
      "_________________________________________________________________\n",
      "dense (Dense)                (None, 128)               204928    \n",
      "_________________________________________________________________\n",
      "dropout (Dropout)            (None, 128)               0         \n",
      "_________________________________________________________________\n",
      "dense_1 (Dense)              (None, 10)                1290      \n",
      "=================================================================\n",
      "Total params: 225,034\n",
      "Trainable params: 225,034\n",
      "Non-trainable params: 0\n",
      "_________________________________________________________________\n",
      "None\n"
     ]
    }
   ],
   "source": [
    "input_shape = (28,28,1) #-----------------------------------★★★ 주의(Width, Height, Channel)\n",
    "model = Sequential( [\n",
    "        Conv2D(32, kernel_size=(3, 3), input_shape=input_shape, activation=\"relu\"),\n",
    "        MaxPooling2D(pool_size=(2, 2)),\n",
    "        Conv2D(64, kernel_size=(3, 3), activation=\"relu\"),\n",
    "        MaxPooling2D(pool_size=(2, 2)),\n",
    "        Flatten(),\n",
    "        Dense(128, activation='relu'),\n",
    "        Dropout(0.5),\n",
    "        Dense(NUM_CLASSES__, activation=\"softmax\")\n",
    "        ] )\n",
    "model.compile(loss=\"categorical_crossentropy\", optimizer=\"adam\", metrics=[\"accuracy\"])\n",
    "print(model.summary())"
   ]
  },
  {
   "cell_type": "code",
   "execution_count": 17,
   "id": "derived-plain",
   "metadata": {
    "ExecuteTime": {
     "end_time": "2021-05-12T02:28:34.290898Z",
     "start_time": "2021-05-12T02:28:34.276934Z"
    }
   },
   "outputs": [],
   "source": [
    "# 모델 저장 폴더\n",
    "import os\n",
    "if not os.path.exists(\"./model\"):\n",
    "    os.mkdir('./model')\n",
    "\n",
    "filepath = \"./model/{epoch:02d}{val_loss:.3f}.h5\"\n",
    "checkpnt = ModelCheckpoint(filepath, monitor='val_loss', save_best_only=True)\n",
    "estop = EarlyStopping(monitor='val_loss', patience=4)\n"
   ]
  },
  {
   "cell_type": "code",
   "execution_count": 18,
   "id": "blank-venezuela",
   "metadata": {
    "ExecuteTime": {
     "end_time": "2021-05-12T02:29:53.753941Z",
     "start_time": "2021-05-12T02:28:34.292893Z"
    }
   },
   "outputs": [
    {
     "name": "stdout",
     "output_type": "stream",
     "text": [
      "Epoch 1/20\n",
      "422/422 [==============================] - 9s 10ms/step - loss: 0.9767 - accuracy: 0.6563 - val_loss: 0.4073 - val_accuracy: 0.8507\n",
      "Epoch 2/20\n",
      "422/422 [==============================] - 4s 8ms/step - loss: 0.4529 - accuracy: 0.8400 - val_loss: 0.3416 - val_accuracy: 0.8693\n",
      "Epoch 3/20\n",
      "422/422 [==============================] - 4s 9ms/step - loss: 0.3774 - accuracy: 0.8644 - val_loss: 0.3128 - val_accuracy: 0.8842\n",
      "Epoch 4/20\n",
      "422/422 [==============================] - 4s 9ms/step - loss: 0.3464 - accuracy: 0.8758 - val_loss: 0.2970 - val_accuracy: 0.8852\n",
      "Epoch 5/20\n",
      "422/422 [==============================] - 4s 9ms/step - loss: 0.3196 - accuracy: 0.8839 - val_loss: 0.2830 - val_accuracy: 0.8947\n",
      "Epoch 6/20\n",
      "422/422 [==============================] - 4s 9ms/step - loss: 0.2987 - accuracy: 0.8932 - val_loss: 0.2799 - val_accuracy: 0.8930\n",
      "Epoch 7/20\n",
      "422/422 [==============================] - 4s 9ms/step - loss: 0.2898 - accuracy: 0.8940 - val_loss: 0.2677 - val_accuracy: 0.8965\n",
      "Epoch 8/20\n",
      "422/422 [==============================] - 4s 8ms/step - loss: 0.2709 - accuracy: 0.9006 - val_loss: 0.2614 - val_accuracy: 0.9020\n",
      "Epoch 9/20\n",
      "422/422 [==============================] - 4s 9ms/step - loss: 0.2536 - accuracy: 0.9074 - val_loss: 0.2539 - val_accuracy: 0.9045\n",
      "Epoch 10/20\n",
      "422/422 [==============================] - 4s 9ms/step - loss: 0.2466 - accuracy: 0.9093 - val_loss: 0.2530 - val_accuracy: 0.9055\n",
      "Epoch 11/20\n",
      "422/422 [==============================] - 4s 9ms/step - loss: 0.2400 - accuracy: 0.9135 - val_loss: 0.2395 - val_accuracy: 0.9138\n",
      "Epoch 12/20\n",
      "422/422 [==============================] - 4s 9ms/step - loss: 0.2281 - accuracy: 0.9150 - val_loss: 0.2375 - val_accuracy: 0.9118\n",
      "Epoch 13/20\n",
      "422/422 [==============================] - 4s 9ms/step - loss: 0.2147 - accuracy: 0.9208 - val_loss: 0.2336 - val_accuracy: 0.9170\n",
      "Epoch 14/20\n",
      "422/422 [==============================] - 4s 9ms/step - loss: 0.2061 - accuracy: 0.9262 - val_loss: 0.2320 - val_accuracy: 0.9147\n",
      "Epoch 15/20\n",
      "422/422 [==============================] - 4s 9ms/step - loss: 0.1968 - accuracy: 0.9266 - val_loss: 0.2425 - val_accuracy: 0.9127\n",
      "Epoch 16/20\n",
      "422/422 [==============================] - 4s 9ms/step - loss: 0.1941 - accuracy: 0.9289 - val_loss: 0.2304 - val_accuracy: 0.9157\n",
      "Epoch 17/20\n",
      "422/422 [==============================] - 4s 9ms/step - loss: 0.1857 - accuracy: 0.9309 - val_loss: 0.2347 - val_accuracy: 0.9160\n",
      "Epoch 18/20\n",
      "422/422 [==============================] - 4s 9ms/step - loss: 0.1755 - accuracy: 0.9346 - val_loss: 0.2419 - val_accuracy: 0.9133\n",
      "Epoch 19/20\n",
      "422/422 [==============================] - 4s 9ms/step - loss: 0.1714 - accuracy: 0.9367 - val_loss: 0.2367 - val_accuracy: 0.9165\n",
      "Epoch 20/20\n",
      "422/422 [==============================] - 4s 9ms/step - loss: 0.1641 - accuracy: 0.9374 - val_loss: 0.2450 - val_accuracy: 0.9178\n"
     ]
    }
   ],
   "source": [
    "fit_res = model.fit(train_images, train_labels_cate, callbacks = [checkpnt,estop], batch_size=BATCH_SIZE__, epochs=20, validation_split=SPLIT__ )\n"
   ]
  },
  {
   "cell_type": "code",
   "execution_count": 19,
   "id": "simple-huntington",
   "metadata": {
    "ExecuteTime": {
     "end_time": "2021-05-12T02:29:55.129796Z",
     "start_time": "2021-05-12T02:29:53.756932Z"
    }
   },
   "outputs": [
    {
     "name": "stdout",
     "output_type": "stream",
     "text": [
      "313/313 [==============================] - 1s 3ms/step - loss: 0.2564 - accuracy: 0.9159\n",
      "loss: 0.25638 accuracy: 0.91590\n"
     ]
    },
    {
     "data": {
      "image/png": "[encoded data removed]",
      "text/plain": [
       "<Figure size 864x360 with 1 Axes>"
      ]
     },
     "metadata": {
      "needs_background": "light"
     },
     "output_type": "display_data"
    }
   ],
   "source": [
    "myscore(test_images,  test_labels_cate, fit_res)"
   ]
  },
  {
   "cell_type": "markdown",
   "id": "refined-crisis",
   "metadata": {},
   "source": [
    "# 예측모델 서비스"
   ]
  },
  {
   "cell_type": "markdown",
   "id": "religious-purpose",
   "metadata": {},
   "source": [
    "#### 방법1) 임의의 test_images로 테스트"
   ]
  },
  {
   "cell_type": "code",
   "execution_count": 20,
   "id": "brazilian-depth",
   "metadata": {
    "ExecuteTime": {
     "end_time": "2021-05-12T02:29:55.741160Z",
     "start_time": "2021-05-12T02:29:55.131793Z"
    }
   },
   "outputs": [
    {
     "name": "stdout",
     "output_type": "stream",
     "text": [
      "(1, 28, 28, 1)\n",
      "[1.3031509e-16 1.3218258e-16 2.4130736e-15 4.3190289e-17 1.1287160e-18\n",
      " 5.3627932e-08 4.5541383e-16 3.3716564e-08 8.0934320e-15 9.9999988e-01]\n",
      "9 Ankle boot\n"
     ]
    },
    {
     "data": {
      "image/png": "[encoded data removed]",
      "text/plain": [
       "<Figure size 432x288 with 1 Axes>"
      ]
     },
     "metadata": {
      "needs_background": "light"
     },
     "output_type": "display_data"
    }
   ],
   "source": [
    "img = (np.expand_dims(test_images[0],0))\n",
    "print(img.shape)\n",
    "mypredit_check(test_images, idx=0)"
   ]
  },
  {
   "cell_type": "markdown",
   "id": "exceptional-database",
   "metadata": {},
   "source": [
    "### 방법2) test_images FileUpload"
   ]
  },
  {
   "cell_type": "code",
   "execution_count": 27,
   "id": "equivalent-discussion",
   "metadata": {},
   "outputs": [
    {
     "data": {
      "application/vnd.jupyter.widget-view+json": {
       "model_id": "5cc6b6cd34fd49d38959ed762a3d47a1",
       "version_major": 2,
       "version_minor": 0
      },
      "text/plain": [
       "FileUpload(value={}, accept='.png', description='Upload', multiple=True)"
      ]
     },
     "metadata": {},
     "output_type": "display_data"
    }
   ],
   "source": [
    "import ipywidgets as widgets\n",
    "myupload = widgets.FileUpload(\n",
    "    accept= '.png', \n",
    "    multiple=True  \n",
    ")\n",
    "myupload"
   ]
  },
  {
   "cell_type": "code",
   "execution_count": 28,
   "id": "corrected-piece",
   "metadata": {},
   "outputs": [
    {
     "name": "stdout",
     "output_type": "stream",
     "text": [
      "['test_sneaker_3.png']\n",
      "(28, 28, 1)\n",
      "(1, 28, 28, 1)\n",
      "[8.8246389e-11 9.1709411e-11 4.8069804e-10 6.4217458e-11 7.5489230e-14\n",
      " 8.4509775e-06 5.3191473e-10 2.3811572e-05 2.3115848e-10 9.9996769e-01]\n",
      "9 Ankle boot\n"
     ]
    },
    {
     "data": {
      "image/png": "[encoded data removed]",
      "text/plain": [
       "<Figure size 432x288 with 1 Axes>"
      ]
     },
     "metadata": {
      "needs_background": "light"
     },
     "output_type": "display_data"
    }
   ],
   "source": [
    "from PIL import Image  \n",
    "import io\n",
    "from keras.preprocessing.image import img_to_array\n",
    "\n",
    "uploaded_filename = list(myupload.value)\n",
    "print(uploaded_filename)\n",
    "\n",
    "for i, fname in enumerate(uploaded_filename):\n",
    "    content = myupload.value[uploaded_filename[i]]['content']\n",
    "    upload_img = Image.open(io.BytesIO(content)).resize((28, 28))   \n",
    "    plt.imshow(upload_img)\n",
    "    \n",
    "    upload_img = np.array(upload_img)[:, :, 1].reshape(28,28,1) / 255.0\n",
    "    print(upload_img.shape)\n",
    "    upload_img = (np.expand_dims(upload_img,0))\n",
    "    print(upload_img.shape)\n",
    "    mypredit_check(upload_img)"
   ]
  }
 ],
 "metadata": {
  "kernelspec": {
   "display_name": "Python 3",
   "language": "python",
   "name": "python3"
  },
  "language_info": {
   "codemirror_mode": {
    "name": "ipython",
    "version": 3
   },
   "file_extension": ".py",
   "mimetype": "text/x-python",
   "name": "python",
   "nbconvert_exporter": "python",
   "pygments_lexer": "ipython3",
   "version": "3.7.7"
  },
  "toc": {
   "base_numbering": 1,
   "nav_menu": {},
   "number_sections": true,
   "sideBar": true,
   "skip_h1_title": false,
   "title_cell": "Table of Contents",
   "title_sidebar": "Contents",
   "toc_cell": false,
   "toc_position": {},
   "toc_section_display": true,
   "toc_window_display": false
  }
 },
 "nbformat": 4,
 "nbformat_minor": 5
}
