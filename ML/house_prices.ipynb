{
 "cells": [
  {
   "cell_type": "markdown",
   "id": "ee11daa1",
   "metadata": {
    "ExecuteTime": {
     "end_time": "2021-04-20T07:31:00.467908Z",
     "start_time": "2021-04-20T07:31:00.458932Z"
    }
   },
   "source": [
    " - https://www.kaggle.com/c/house-prices-advanced-regression-techniques/overview"
   ]
  },
  {
   "cell_type": "code",
   "execution_count": 1,
   "id": "4d28802d",
   "metadata": {
    "ExecuteTime": {
     "end_time": "2021-04-21T08:25:46.392575Z",
     "start_time": "2021-04-21T08:25:45.535866Z"
    }
   },
   "outputs": [],
   "source": [
    "import numpy as np\n",
    "import pandas as pd\n",
    "import seaborn as sns\n",
    "import matplotlib.pyplot as plt\n",
    "import warnings\n",
    "warnings.filterwarnings(action='ignore')"
   ]
  },
  {
   "cell_type": "code",
   "execution_count": 2,
   "id": "e4cdc9da",
   "metadata": {
    "ExecuteTime": {
     "end_time": "2021-04-21T08:25:46.615484Z",
     "start_time": "2021-04-21T08:25:46.394569Z"
    }
   },
   "outputs": [],
   "source": [
    "from sklearn.model_selection import train_test_split\n",
    "from sklearn.preprocessing import StandardScaler\n",
    "from sklearn.model_selection import GridSearchCV, cross_val_score, KFold, cross_validate\n",
    "from sklearn.linear_model import LinearRegression\n",
    "from sklearn.metrics import mean_squared_error\n",
    "from sklearn.linear_model import Lasso, Ridge, LinearRegression, ElasticNet\n",
    "from sklearn.preprocessing import LabelEncoder, OneHotEncoder\n",
    "from sklearn.decomposition import PCA"
   ]
  },
  {
   "cell_type": "markdown",
   "id": "ea8937e2",
   "metadata": {},
   "source": [
    "## 데이터 확인"
   ]
  },
  {
   "cell_type": "code",
   "execution_count": 3,
   "id": "734c6c3a",
   "metadata": {
    "ExecuteTime": {
     "end_time": "2021-04-21T08:25:46.661866Z",
     "start_time": "2021-04-21T08:25:46.616482Z"
    }
   },
   "outputs": [],
   "source": [
    "train_df = pd.read_csv('train.csv')\n",
    "test_df = pd.read_csv('test.csv')\n",
    "sub_df = pd.read_csv('sample_submission.csv')"
   ]
  },
  {
   "cell_type": "code",
   "execution_count": 4,
   "id": "42169f54",
   "metadata": {
    "ExecuteTime": {
     "end_time": "2021-04-21T08:25:46.708741Z",
     "start_time": "2021-04-21T08:25:46.662864Z"
    }
   },
   "outputs": [],
   "source": [
    "train = pd.read_csv('train.csv')\n",
    "test = pd.read_csv('test.csv')"
   ]
  },
  {
   "cell_type": "code",
   "execution_count": 5,
   "id": "23463e78",
   "metadata": {
    "ExecuteTime": {
     "end_time": "2021-04-21T08:25:46.724698Z",
     "start_time": "2021-04-21T08:25:46.710737Z"
    }
   },
   "outputs": [
    {
     "name": "stdout",
     "output_type": "stream",
     "text": [
      "(1460, 81) (1459, 80)\n"
     ]
    }
   ],
   "source": [
    "print(train.shape, test.shape)"
   ]
  },
  {
   "cell_type": "code",
   "execution_count": 6,
   "id": "02a20aaa",
   "metadata": {
    "ExecuteTime": {
     "end_time": "2021-04-21T08:25:46.740656Z",
     "start_time": "2021-04-21T08:25:46.726694Z"
    }
   },
   "outputs": [],
   "source": [
    "#train[train.select_dtypes(include='float').columns].astype(int)"
   ]
  },
  {
   "cell_type": "code",
   "execution_count": 7,
   "id": "9bee8b9e",
   "metadata": {
    "ExecuteTime": {
     "end_time": "2021-04-21T08:25:46.772570Z",
     "start_time": "2021-04-21T08:25:46.742653Z"
    }
   },
   "outputs": [
    {
     "data": {
      "text/html": [
       "<div>\n",
       "<style scoped>\n",
       "    .dataframe tbody tr th:only-of-type {\n",
       "        vertical-align: middle;\n",
       "    }\n",
       "\n",
       "    .dataframe tbody tr th {\n",
       "        vertical-align: top;\n",
       "    }\n",
       "\n",
       "    .dataframe thead th {\n",
       "        text-align: right;\n",
       "    }\n",
       "</style>\n",
       "<table border=\"1\" class=\"dataframe\">\n",
       "  <thead>\n",
       "    <tr style=\"text-align: right;\">\n",
       "      <th></th>\n",
       "      <th>LotFrontage</th>\n",
       "      <th>MasVnrArea</th>\n",
       "      <th>BsmtFinSF1</th>\n",
       "      <th>BsmtFinSF2</th>\n",
       "      <th>BsmtUnfSF</th>\n",
       "      <th>TotalBsmtSF</th>\n",
       "      <th>BsmtFullBath</th>\n",
       "      <th>BsmtHalfBath</th>\n",
       "      <th>GarageYrBlt</th>\n",
       "      <th>GarageCars</th>\n",
       "      <th>GarageArea</th>\n",
       "    </tr>\n",
       "  </thead>\n",
       "  <tbody>\n",
       "    <tr>\n",
       "      <th>0</th>\n",
       "      <td>80.0</td>\n",
       "      <td>0.0</td>\n",
       "      <td>468.0</td>\n",
       "      <td>144.0</td>\n",
       "      <td>270.0</td>\n",
       "      <td>882.0</td>\n",
       "      <td>0.0</td>\n",
       "      <td>0.0</td>\n",
       "      <td>1961.0</td>\n",
       "      <td>1.0</td>\n",
       "      <td>730.0</td>\n",
       "    </tr>\n",
       "    <tr>\n",
       "      <th>1</th>\n",
       "      <td>81.0</td>\n",
       "      <td>108.0</td>\n",
       "      <td>923.0</td>\n",
       "      <td>0.0</td>\n",
       "      <td>406.0</td>\n",
       "      <td>1329.0</td>\n",
       "      <td>0.0</td>\n",
       "      <td>0.0</td>\n",
       "      <td>1958.0</td>\n",
       "      <td>1.0</td>\n",
       "      <td>312.0</td>\n",
       "    </tr>\n",
       "    <tr>\n",
       "      <th>2</th>\n",
       "      <td>74.0</td>\n",
       "      <td>0.0</td>\n",
       "      <td>791.0</td>\n",
       "      <td>0.0</td>\n",
       "      <td>137.0</td>\n",
       "      <td>928.0</td>\n",
       "      <td>0.0</td>\n",
       "      <td>0.0</td>\n",
       "      <td>1997.0</td>\n",
       "      <td>2.0</td>\n",
       "      <td>482.0</td>\n",
       "    </tr>\n",
       "    <tr>\n",
       "      <th>3</th>\n",
       "      <td>78.0</td>\n",
       "      <td>20.0</td>\n",
       "      <td>602.0</td>\n",
       "      <td>0.0</td>\n",
       "      <td>324.0</td>\n",
       "      <td>926.0</td>\n",
       "      <td>0.0</td>\n",
       "      <td>0.0</td>\n",
       "      <td>1998.0</td>\n",
       "      <td>2.0</td>\n",
       "      <td>470.0</td>\n",
       "    </tr>\n",
       "    <tr>\n",
       "      <th>4</th>\n",
       "      <td>43.0</td>\n",
       "      <td>0.0</td>\n",
       "      <td>263.0</td>\n",
       "      <td>0.0</td>\n",
       "      <td>1017.0</td>\n",
       "      <td>1280.0</td>\n",
       "      <td>0.0</td>\n",
       "      <td>0.0</td>\n",
       "      <td>1992.0</td>\n",
       "      <td>2.0</td>\n",
       "      <td>506.0</td>\n",
       "    </tr>\n",
       "    <tr>\n",
       "      <th>...</th>\n",
       "      <td>...</td>\n",
       "      <td>...</td>\n",
       "      <td>...</td>\n",
       "      <td>...</td>\n",
       "      <td>...</td>\n",
       "      <td>...</td>\n",
       "      <td>...</td>\n",
       "      <td>...</td>\n",
       "      <td>...</td>\n",
       "      <td>...</td>\n",
       "      <td>...</td>\n",
       "    </tr>\n",
       "    <tr>\n",
       "      <th>1454</th>\n",
       "      <td>21.0</td>\n",
       "      <td>0.0</td>\n",
       "      <td>0.0</td>\n",
       "      <td>0.0</td>\n",
       "      <td>546.0</td>\n",
       "      <td>546.0</td>\n",
       "      <td>0.0</td>\n",
       "      <td>0.0</td>\n",
       "      <td>NaN</td>\n",
       "      <td>0.0</td>\n",
       "      <td>0.0</td>\n",
       "    </tr>\n",
       "    <tr>\n",
       "      <th>1455</th>\n",
       "      <td>21.0</td>\n",
       "      <td>0.0</td>\n",
       "      <td>252.0</td>\n",
       "      <td>0.0</td>\n",
       "      <td>294.0</td>\n",
       "      <td>546.0</td>\n",
       "      <td>0.0</td>\n",
       "      <td>0.0</td>\n",
       "      <td>1970.0</td>\n",
       "      <td>1.0</td>\n",
       "      <td>286.0</td>\n",
       "    </tr>\n",
       "    <tr>\n",
       "      <th>1456</th>\n",
       "      <td>160.0</td>\n",
       "      <td>0.0</td>\n",
       "      <td>1224.0</td>\n",
       "      <td>0.0</td>\n",
       "      <td>0.0</td>\n",
       "      <td>1224.0</td>\n",
       "      <td>1.0</td>\n",
       "      <td>0.0</td>\n",
       "      <td>1960.0</td>\n",
       "      <td>2.0</td>\n",
       "      <td>576.0</td>\n",
       "    </tr>\n",
       "    <tr>\n",
       "      <th>1457</th>\n",
       "      <td>62.0</td>\n",
       "      <td>0.0</td>\n",
       "      <td>337.0</td>\n",
       "      <td>0.0</td>\n",
       "      <td>575.0</td>\n",
       "      <td>912.0</td>\n",
       "      <td>0.0</td>\n",
       "      <td>1.0</td>\n",
       "      <td>NaN</td>\n",
       "      <td>0.0</td>\n",
       "      <td>0.0</td>\n",
       "    </tr>\n",
       "    <tr>\n",
       "      <th>1458</th>\n",
       "      <td>74.0</td>\n",
       "      <td>94.0</td>\n",
       "      <td>758.0</td>\n",
       "      <td>0.0</td>\n",
       "      <td>238.0</td>\n",
       "      <td>996.0</td>\n",
       "      <td>0.0</td>\n",
       "      <td>0.0</td>\n",
       "      <td>1993.0</td>\n",
       "      <td>3.0</td>\n",
       "      <td>650.0</td>\n",
       "    </tr>\n",
       "  </tbody>\n",
       "</table>\n",
       "<p>1459 rows × 11 columns</p>\n",
       "</div>"
      ],
      "text/plain": [
       "      LotFrontage  MasVnrArea  BsmtFinSF1  BsmtFinSF2  BsmtUnfSF  TotalBsmtSF  \\\n",
       "0            80.0         0.0       468.0       144.0      270.0        882.0   \n",
       "1            81.0       108.0       923.0         0.0      406.0       1329.0   \n",
       "2            74.0         0.0       791.0         0.0      137.0        928.0   \n",
       "3            78.0        20.0       602.0         0.0      324.0        926.0   \n",
       "4            43.0         0.0       263.0         0.0     1017.0       1280.0   \n",
       "...           ...         ...         ...         ...        ...          ...   \n",
       "1454         21.0         0.0         0.0         0.0      546.0        546.0   \n",
       "1455         21.0         0.0       252.0         0.0      294.0        546.0   \n",
       "1456        160.0         0.0      1224.0         0.0        0.0       1224.0   \n",
       "1457         62.0         0.0       337.0         0.0      575.0        912.0   \n",
       "1458         74.0        94.0       758.0         0.0      238.0        996.0   \n",
       "\n",
       "      BsmtFullBath  BsmtHalfBath  GarageYrBlt  GarageCars  GarageArea  \n",
       "0              0.0           0.0       1961.0         1.0       730.0  \n",
       "1              0.0           0.0       1958.0         1.0       312.0  \n",
       "2              0.0           0.0       1997.0         2.0       482.0  \n",
       "3              0.0           0.0       1998.0         2.0       470.0  \n",
       "4              0.0           0.0       1992.0         2.0       506.0  \n",
       "...            ...           ...          ...         ...         ...  \n",
       "1454           0.0           0.0          NaN         0.0         0.0  \n",
       "1455           0.0           0.0       1970.0         1.0       286.0  \n",
       "1456           1.0           0.0       1960.0         2.0       576.0  \n",
       "1457           0.0           1.0          NaN         0.0         0.0  \n",
       "1458           0.0           0.0       1993.0         3.0       650.0  \n",
       "\n",
       "[1459 rows x 11 columns]"
      ]
     },
     "execution_count": 7,
     "metadata": {},
     "output_type": "execute_result"
    }
   ],
   "source": [
    "test.select_dtypes(include='float')"
   ]
  },
  {
   "cell_type": "code",
   "execution_count": null,
   "id": "bad58005",
   "metadata": {
    "ExecuteTime": {
     "end_time": "2021-04-21T08:23:52.403751Z",
     "start_time": "2021-04-21T08:23:52.312995Z"
    }
   },
   "outputs": [],
   "source": []
  },
  {
   "cell_type": "code",
   "execution_count": null,
   "id": "cf0d7e5f",
   "metadata": {},
   "outputs": [],
   "source": []
  },
  {
   "cell_type": "markdown",
   "id": "72c5d00c",
   "metadata": {
    "ExecuteTime": {
     "end_time": "2021-04-20T07:51:47.416689Z",
     "start_time": "2021-04-20T07:51:47.405718Z"
    }
   },
   "source": [
    "### 결측치 확인"
   ]
  },
  {
   "cell_type": "code",
   "execution_count": 8,
   "id": "ca353352",
   "metadata": {
    "ExecuteTime": {
     "end_time": "2021-04-21T08:25:46.804485Z",
     "start_time": "2021-04-21T08:25:46.774566Z"
    },
    "scrolled": true
   },
   "outputs": [
    {
     "name": "stdout",
     "output_type": "stream",
     "text": [
      "               CNT       RATE\n",
      "PoolQC        1453  99.520548\n",
      "MiscFeature   1406  96.301370\n",
      "Alley         1369  93.767123\n",
      "Fence         1179  80.753425\n",
      "FireplaceQu    690  47.260274\n",
      "LotFrontage    259  17.739726\n",
      "GarageType      81   5.547945\n",
      "GarageYrBlt     81   5.547945\n",
      "GarageFinish    81   5.547945\n",
      "GarageQual      81   5.547945\n",
      "GarageCond      81   5.547945\n",
      "BsmtExposure    38   2.602740\n",
      "BsmtFinType2    38   2.602740\n",
      "BsmtFinType1    37   2.534247\n",
      "BsmtCond        37   2.534247\n",
      "BsmtQual        37   2.534247\n",
      "MasVnrArea       8   0.547945\n",
      "MasVnrType       8   0.547945\n",
      "Electrical       1   0.068493\n"
     ]
    }
   ],
   "source": [
    "nan_dict = {\"CNT\":train.isna().sum(),\n",
    "            \"RATE\": train.isna().sum()/train.shape[0] *100\n",
    "}\n",
    "nan_df = pd.DataFrame(nan_dict)\n",
    "print(nan_df[nan_df[\"RATE\"]>0].sort_values(\"CNT\", ascending=False))\n",
    "\n",
    "# PoolQC        1453  99.520548     Pool quality                                              NA\tNo Pool\n",
    "# MiscFeature   1406  96.301370     Miscellaneous feature not covered in other categories,    NA\tNone\n",
    "# Alley         1369  93.767123     Type of alley access to property,                         NA \tNo alley access\n",
    "# Fence         1179  80.753425     Fence quality,                                            NA\tNo Fence\n",
    "# FireplaceQu    690  47.260274     Fireplace quality                                         NA\tNo Fireplace\n",
    "# LotFrontage    259  17.739726     Linear feet of street connected to property\n",
    "\n",
    "# GarageType      81   5.547945     Garage location                          NA\tNo Garage         \n",
    "# GarageYrBlt     81   5.547945     Year garage was built\n",
    "# GarageFinish    81   5.547945     Interior finish of the garage            NA\tNo Garage\n",
    "# GarageQual      81   5.547945     Garage quality                           NA\tNo Garage\n",
    "# GarageCond      81   5.547945     Garage condition                         NA\tNo Garage     \n",
    "\n",
    "# BsmtExposure    38   2.602740      Refers to walkout or garden level walls                 NA\tNo Basement     No\tNo Exposure\n",
    "# BsmtFinType2    38   2.602740      Rating of basement finished area (if multiple types)    NA\tNo Basement\n",
    "# BsmtFinType1    37   2.534247      Rating of basement finished area                        NA\tNo Basement\n",
    "# BsmtCond        37   2.534247      Evaluates the general condition of the basement         NA\tNo Basement\n",
    "# BsmtQual        37   2.534247      Evaluates the height of the basement                    NA\tNo Basement"
   ]
  },
  {
   "cell_type": "code",
   "execution_count": 9,
   "id": "f08c91fd",
   "metadata": {
    "ExecuteTime": {
     "end_time": "2021-04-21T08:25:46.835402Z",
     "start_time": "2021-04-21T08:25:46.807477Z"
    }
   },
   "outputs": [
    {
     "name": "stdout",
     "output_type": "stream",
     "text": [
      "               CNT       RATE\n",
      "PoolQC        1456  99.794380\n",
      "MiscFeature   1408  96.504455\n",
      "Alley         1352  92.666210\n",
      "Fence         1169  80.123372\n",
      "FireplaceQu    730  50.034270\n",
      "LotFrontage    227  15.558602\n",
      "GarageCond      78   5.346127\n",
      "GarageYrBlt     78   5.346127\n",
      "GarageQual      78   5.346127\n",
      "GarageFinish    78   5.346127\n",
      "GarageType      76   5.209047\n",
      "BsmtCond        45   3.084304\n",
      "BsmtExposure    44   3.015764\n",
      "BsmtQual        44   3.015764\n",
      "BsmtFinType1    42   2.878684\n",
      "BsmtFinType2    42   2.878684\n",
      "MasVnrType      16   1.096642\n",
      "MasVnrArea      15   1.028101\n",
      "MSZoning         4   0.274160\n",
      "BsmtFullBath     2   0.137080\n",
      "BsmtHalfBath     2   0.137080\n",
      "Functional       2   0.137080\n",
      "Utilities        2   0.137080\n",
      "GarageCars       1   0.068540\n",
      "GarageArea       1   0.068540\n",
      "TotalBsmtSF      1   0.068540\n",
      "KitchenQual      1   0.068540\n",
      "BsmtUnfSF        1   0.068540\n",
      "BsmtFinSF2       1   0.068540\n",
      "BsmtFinSF1       1   0.068540\n",
      "Exterior2nd      1   0.068540\n",
      "Exterior1st      1   0.068540\n",
      "SaleType         1   0.068540\n"
     ]
    }
   ],
   "source": [
    "nan_dict = {\"CNT\":test.isna().sum(),\n",
    "            \"RATE\": test.isna().sum()/test.shape[0] *100\n",
    "}\n",
    "nan_df = pd.DataFrame(nan_dict)\n",
    "print(nan_df[nan_df[\"RATE\"]>0].sort_values(\"CNT\", ascending=False))\n",
    "\n",
    "# train에는 없는 null \n",
    "# MSZoning         4   0.274160            Identifies the general zoning classification of the sale.\n",
    "# BsmtFullBath     2   0.137080            Basement full bathrooms\n",
    "# BsmtHalfBath     2   0.137080\n",
    "# Functional       2   0.137080\n",
    "# Utilities        2   0.137080\n",
    "# GarageCars       1   0.068540\n",
    "# GarageArea       1   0.068540\n",
    "# TotalBsmtSF      1   0.068540\n",
    "# KitchenQual      1   0.068540\n",
    "# BsmtUnfSF        1   0.068540\n",
    "# BsmtFinSF2       1   0.068540\n",
    "# BsmtFinSF1       1   0.068540\n",
    "# Exterior2nd      1   0.068540\n",
    "# Exterior1st      1   0.068540\n",
    "# SaleType         1   0.068540"
   ]
  },
  {
   "cell_type": "markdown",
   "id": "9280e6fc",
   "metadata": {},
   "source": [
    "#### 불필요한 피쳐 삭제"
   ]
  },
  {
   "cell_type": "code",
   "execution_count": 10,
   "id": "810556ba",
   "metadata": {
    "ExecuteTime": {
     "end_time": "2021-04-21T08:25:46.851359Z",
     "start_time": "2021-04-21T08:25:46.836399Z"
    }
   },
   "outputs": [
    {
     "name": "stdout",
     "output_type": "stream",
     "text": [
      "Index(['Alley', 'FireplaceQu', 'PoolQC', 'Fence', 'MiscFeature'], dtype='object')\n"
     ]
    }
   ],
   "source": [
    "nan_features_list = nan_df[nan_df[\"RATE\"]>50]\n",
    "print(nan_features_list.index)"
   ]
  },
  {
   "cell_type": "code",
   "execution_count": 11,
   "id": "560bbe96",
   "metadata": {
    "ExecuteTime": {
     "end_time": "2021-04-21T08:25:46.867317Z",
     "start_time": "2021-04-21T08:25:46.852357Z"
    }
   },
   "outputs": [],
   "source": [
    "train.drop(nan_features_list.index, axis=1, inplace=True)\n",
    "test.drop(nan_features_list.index, axis=1, inplace=True)"
   ]
  },
  {
   "cell_type": "code",
   "execution_count": 12,
   "id": "9fd74ab2",
   "metadata": {
    "ExecuteTime": {
     "end_time": "2021-04-21T08:25:46.883274Z",
     "start_time": "2021-04-21T08:25:46.868314Z"
    }
   },
   "outputs": [],
   "source": [
    "train.drop('Id', axis=1, inplace=True)\n",
    "test.drop('Id', axis=1, inplace=True)"
   ]
  },
  {
   "cell_type": "code",
   "execution_count": 13,
   "id": "26a1aff9",
   "metadata": {
    "ExecuteTime": {
     "end_time": "2021-04-21T08:25:46.899231Z",
     "start_time": "2021-04-21T08:25:46.884272Z"
    }
   },
   "outputs": [
    {
     "name": "stdout",
     "output_type": "stream",
     "text": [
      "(1460, 75) (1459, 74)\n"
     ]
    }
   ],
   "source": [
    "print(train.shape, test.shape)"
   ]
  },
  {
   "cell_type": "code",
   "execution_count": null,
   "id": "f8515556",
   "metadata": {},
   "outputs": [],
   "source": []
  },
  {
   "cell_type": "markdown",
   "id": "6e1b9ea0",
   "metadata": {
    "ExecuteTime": {
     "end_time": "2021-04-20T09:07:39.002508Z",
     "start_time": "2021-04-20T09:07:38.989546Z"
    }
   },
   "source": [
    "### 상관분석"
   ]
  },
  {
   "cell_type": "code",
   "execution_count": 14,
   "id": "ffa12403",
   "metadata": {
    "ExecuteTime": {
     "end_time": "2021-04-21T08:25:46.930148Z",
     "start_time": "2021-04-21T08:25:46.900229Z"
    }
   },
   "outputs": [
    {
     "name": "stdout",
     "output_type": "stream",
     "text": [
      "SalePrice        1.000000\n",
      "OverallQual      0.790982\n",
      "GrLivArea        0.708624\n",
      "GarageCars       0.640409\n",
      "GarageArea       0.623431\n",
      "TotalBsmtSF      0.613581\n",
      "1stFlrSF         0.605852\n",
      "FullBath         0.560664\n",
      "TotRmsAbvGrd     0.533723\n",
      "YearBuilt        0.522897\n",
      "YearRemodAdd     0.507101\n",
      "GarageYrBlt      0.486362\n",
      "MasVnrArea       0.477493\n",
      "Fireplaces       0.466929\n",
      "BsmtFinSF1       0.386420\n",
      "LotFrontage      0.351799\n",
      "WoodDeckSF       0.324413\n",
      "2ndFlrSF         0.319334\n",
      "OpenPorchSF      0.315856\n",
      "HalfBath         0.284108\n",
      "LotArea          0.263843\n",
      "BsmtFullBath     0.227122\n",
      "BsmtUnfSF        0.214479\n",
      "BedroomAbvGr     0.168213\n",
      "ScreenPorch      0.111447\n",
      "PoolArea         0.092404\n",
      "MoSold           0.046432\n",
      "3SsnPorch        0.044584\n",
      "BsmtFinSF2      -0.011378\n",
      "BsmtHalfBath    -0.016844\n",
      "MiscVal         -0.021190\n",
      "LowQualFinSF    -0.025606\n",
      "YrSold          -0.028923\n",
      "OverallCond     -0.077856\n",
      "MSSubClass      -0.084284\n",
      "EnclosedPorch   -0.128578\n",
      "KitchenAbvGr    -0.135907\n",
      "dtype: float64\n"
     ]
    }
   ],
   "source": [
    "corr_s = train.corrwith(train[\"SalePrice\"]).sort_values(ascending=False)\n",
    "print(corr_s)"
   ]
  },
  {
   "cell_type": "markdown",
   "id": "e5cac675",
   "metadata": {
    "ExecuteTime": {
     "end_time": "2021-04-20T09:10:21.762302Z",
     "start_time": "2021-04-20T09:10:21.757316Z"
    }
   },
   "source": [
    "#### 불필요한 피쳐 삭제"
   ]
  },
  {
   "cell_type": "code",
   "execution_count": 15,
   "id": "6b6e421b",
   "metadata": {
    "ExecuteTime": {
     "end_time": "2021-04-21T08:25:46.946106Z",
     "start_time": "2021-04-21T08:25:46.931146Z"
    }
   },
   "outputs": [
    {
     "name": "stdout",
     "output_type": "stream",
     "text": [
      "Index(['BedroomAbvGr', 'ScreenPorch', 'PoolArea', 'MoSold', '3SsnPorch',\n",
      "       'BsmtFinSF2', 'BsmtHalfBath', 'MiscVal', 'LowQualFinSF', 'YrSold',\n",
      "       'OverallCond', 'MSSubClass', 'EnclosedPorch', 'KitchenAbvGr'],\n",
      "      dtype='object')\n"
     ]
    }
   ],
   "source": [
    "corr_features_list = corr_s[abs(corr_s)<0.2]\n",
    "print(corr_features_list.index)"
   ]
  },
  {
   "cell_type": "code",
   "execution_count": 16,
   "id": "88ad7705",
   "metadata": {
    "ExecuteTime": {
     "end_time": "2021-04-21T08:25:46.961066Z",
     "start_time": "2021-04-21T08:25:46.947104Z"
    }
   },
   "outputs": [],
   "source": [
    "train.drop(corr_features_list.index, axis=1, inplace=True)\n",
    "test.drop(corr_features_list.index, axis=1, inplace=True)"
   ]
  },
  {
   "cell_type": "code",
   "execution_count": 17,
   "id": "dd1f4471",
   "metadata": {
    "ExecuteTime": {
     "end_time": "2021-04-21T08:25:46.977023Z",
     "start_time": "2021-04-21T08:25:46.962064Z"
    }
   },
   "outputs": [
    {
     "name": "stdout",
     "output_type": "stream",
     "text": [
      "(1460, 61) (1459, 60)\n"
     ]
    }
   ],
   "source": [
    "print(train.shape, test.shape)"
   ]
  },
  {
   "cell_type": "code",
   "execution_count": null,
   "id": "3478de3f",
   "metadata": {},
   "outputs": [],
   "source": []
  },
  {
   "cell_type": "markdown",
   "id": "0b21e801",
   "metadata": {
    "ExecuteTime": {
     "end_time": "2021-04-20T10:44:19.798596Z",
     "start_time": "2021-04-20T10:44:19.794607Z"
    }
   },
   "source": [
    "### 결측치 채우기"
   ]
  },
  {
   "cell_type": "code",
   "execution_count": 18,
   "id": "7d67e588",
   "metadata": {
    "ExecuteTime": {
     "end_time": "2021-04-21T08:25:46.991983Z",
     "start_time": "2021-04-21T08:25:46.978021Z"
    },
    "scrolled": true
   },
   "outputs": [
    {
     "name": "stdout",
     "output_type": "stream",
     "text": [
      "              CNT       RATE     TYPE\n",
      "LotFrontage   259  17.739726  float64\n",
      "GarageType     81   5.547945   object\n",
      "GarageYrBlt    81   5.547945  float64\n",
      "GarageFinish   81   5.547945   object\n",
      "GarageQual     81   5.547945   object\n",
      "GarageCond     81   5.547945   object\n",
      "BsmtExposure   38   2.602740   object\n",
      "BsmtFinType2   38   2.602740   object\n",
      "BsmtQual       37   2.534247   object\n",
      "BsmtCond       37   2.534247   object\n",
      "BsmtFinType1   37   2.534247   object\n",
      "MasVnrType      8   0.547945   object\n",
      "MasVnrArea      8   0.547945  float64\n",
      "Electrical      1   0.068493   object\n"
     ]
    }
   ],
   "source": [
    "nan_dict = {\"CNT\":train.isna().sum(),\n",
    "            \"RATE\": train.isna().sum()/train.shape[0] *100,\n",
    "            \"TYPE\": train.dtypes\n",
    "}\n",
    "nan_df = pd.DataFrame(nan_dict)\n",
    "print(nan_df[nan_df[\"RATE\"]>0].sort_values(\"CNT\", ascending=False))\n",
    "\n",
    "# null 의미 \n",
    "# LotFrontage   259  17.739726  float64 --> mean \n",
    "# GarageType     81  5.547945   object  NO\n",
    "# GarageYrBlt    81  5.547945  float64  Year garage was built --> 0             corr    GarageYrBlt      0.486362\n",
    "# GarageFinish   81  5.547945   object  NO\n",
    "# GarageQual     81  5.547945   object  NO\n",
    "# GarageCond     81  5.547945   object  NO\n",
    "# BsmtExposure   38  2.602740   object  NO\n",
    "# BsmtFinType2   38  2.602740   object  NO\n",
    "# BsmtQual       37  2.534247   object  NO\n",
    "# BsmtCond       37  2.534247   object  NO\n",
    "# BsmtFinType1   37  2.534247   object  NO\n",
    "# MasVnrType      8  0.547945   object  Masonry veneer area in square feet  --> None \n",
    "# MasVnrArea      8  0.547945  float64  Masonry veneer type  --> 0 \n",
    "# Electrical      1  0.068493   object  Electrical system  ---> 최빈값"
   ]
  },
  {
   "cell_type": "code",
   "execution_count": 19,
   "id": "85ac18e8",
   "metadata": {
    "ExecuteTime": {
     "end_time": "2021-04-21T08:25:47.006943Z",
     "start_time": "2021-04-21T08:25:46.992981Z"
    }
   },
   "outputs": [],
   "source": [
    "train[[\"GarageYrBlt\", \"MasVnrArea\"]] = train[[\"GarageYrBlt\", \"MasVnrArea\"]].fillna(0)\n",
    "test[[\"GarageYrBlt\", \"MasVnrArea\"]] = test[[\"GarageYrBlt\", \"MasVnrArea\"]].fillna(0)"
   ]
  },
  {
   "cell_type": "code",
   "execution_count": 20,
   "id": "5548b389",
   "metadata": {
    "ExecuteTime": {
     "end_time": "2021-04-21T08:25:47.022901Z",
     "start_time": "2021-04-21T08:25:47.007941Z"
    }
   },
   "outputs": [],
   "source": [
    "train[\"LotFrontage\"].fillna(train[\"LotFrontage\"].mean(), inplace=True)\n",
    "test[\"LotFrontage\"].fillna(test[\"LotFrontage\"].mean(), inplace=True)"
   ]
  },
  {
   "cell_type": "code",
   "execution_count": 21,
   "id": "94fca11b",
   "metadata": {
    "ExecuteTime": {
     "end_time": "2021-04-21T08:25:47.038858Z",
     "start_time": "2021-04-21T08:25:47.023898Z"
    }
   },
   "outputs": [],
   "source": [
    "train[\"MasVnrType\"].fillna(\"None\", inplace=True)\n",
    "test[\"MasVnrType\"].fillna(\"None\", inplace=True)"
   ]
  },
  {
   "cell_type": "code",
   "execution_count": 22,
   "id": "441b53e6",
   "metadata": {
    "ExecuteTime": {
     "end_time": "2021-04-21T08:25:47.054816Z",
     "start_time": "2021-04-21T08:25:47.039855Z"
    }
   },
   "outputs": [
    {
     "name": "stdout",
     "output_type": "stream",
     "text": [
      "              CNT      RATE    TYPE\n",
      "GarageType     81  5.547945  object\n",
      "GarageFinish   81  5.547945  object\n",
      "GarageQual     81  5.547945  object\n",
      "GarageCond     81  5.547945  object\n",
      "BsmtExposure   38  2.602740  object\n",
      "BsmtFinType2   38  2.602740  object\n",
      "BsmtQual       37  2.534247  object\n",
      "BsmtCond       37  2.534247  object\n",
      "BsmtFinType1   37  2.534247  object\n",
      "Electrical      1  0.068493  object\n"
     ]
    }
   ],
   "source": [
    "nan_dict = {\"CNT\":train.isna().sum(),\n",
    "            \"RATE\": train.isna().sum()/train.shape[0] *100,\n",
    "            \"TYPE\": train.dtypes\n",
    "}\n",
    "nan_df = pd.DataFrame(nan_dict)\n",
    "print(nan_df[nan_df[\"RATE\"]>0].sort_values(\"CNT\", ascending=False))"
   ]
  },
  {
   "cell_type": "code",
   "execution_count": 23,
   "id": "306898d9",
   "metadata": {
    "ExecuteTime": {
     "end_time": "2021-04-21T08:25:47.070773Z",
     "start_time": "2021-04-21T08:25:47.058804Z"
    }
   },
   "outputs": [],
   "source": [
    "train[nan_df[nan_df[\"RATE\"]>0].index] = train[nan_df[nan_df[\"RATE\"]>0].index].fillna(\"NO\")\n",
    "test[nan_df[nan_df[\"RATE\"]>0].index] = test[nan_df[nan_df[\"RATE\"]>0].index].fillna(\"NO\")"
   ]
  },
  {
   "cell_type": "code",
   "execution_count": 24,
   "id": "931ef383",
   "metadata": {
    "ExecuteTime": {
     "end_time": "2021-04-21T08:25:47.086730Z",
     "start_time": "2021-04-21T08:25:47.072767Z"
    }
   },
   "outputs": [
    {
     "name": "stdout",
     "output_type": "stream",
     "text": [
      "Empty DataFrame\n",
      "Columns: [CNT, RATE, TYPE]\n",
      "Index: []\n"
     ]
    }
   ],
   "source": [
    "nan_dict = {\"CNT\":train.isna().sum(),\n",
    "            \"RATE\": train.isna().sum()/train.shape[0] *100,\n",
    "            \"TYPE\": train.dtypes\n",
    "}\n",
    "nan_df = pd.DataFrame(nan_dict)\n",
    "print(nan_df[nan_df[\"RATE\"]>0].sort_values(\"CNT\", ascending=False))"
   ]
  },
  {
   "cell_type": "code",
   "execution_count": 25,
   "id": "7f8a0b4a",
   "metadata": {
    "ExecuteTime": {
     "end_time": "2021-04-21T08:25:47.117647Z",
     "start_time": "2021-04-21T08:25:47.088724Z"
    }
   },
   "outputs": [
    {
     "name": "stdout",
     "output_type": "stream",
     "text": [
      "              CNT     RATE     TYPE\n",
      "MSZoning        4  0.27416   object\n",
      "Utilities       2  0.13708   object\n",
      "BsmtFullBath    2  0.13708  float64\n",
      "Functional      2  0.13708   object\n",
      "Exterior1st     1  0.06854   object\n",
      "Exterior2nd     1  0.06854   object\n",
      "BsmtFinSF1      1  0.06854  float64\n",
      "BsmtUnfSF       1  0.06854  float64\n",
      "TotalBsmtSF     1  0.06854  float64\n",
      "KitchenQual     1  0.06854   object\n",
      "GarageCars      1  0.06854  float64\n",
      "GarageArea      1  0.06854  float64\n",
      "SaleType        1  0.06854   object\n"
     ]
    }
   ],
   "source": [
    "nan_dict = {\"CNT\":test.isna().sum(),\n",
    "            \"RATE\": test.isna().sum()/test.shape[0] *100,\n",
    "            \"TYPE\": test.dtypes\n",
    "}\n",
    "nan_df = pd.DataFrame(nan_dict)\n",
    "print(nan_df[nan_df[\"RATE\"]>0].sort_values(\"CNT\", ascending=False))"
   ]
  },
  {
   "cell_type": "code",
   "execution_count": 26,
   "id": "c6ca7394",
   "metadata": {
    "ExecuteTime": {
     "end_time": "2021-04-21T08:25:47.133604Z",
     "start_time": "2021-04-21T08:25:47.118644Z"
    }
   },
   "outputs": [],
   "source": [
    "nan_index = nan_df[nan_df[\"RATE\"]>0].index"
   ]
  },
  {
   "cell_type": "code",
   "execution_count": 27,
   "id": "1f43e27c",
   "metadata": {
    "ExecuteTime": {
     "end_time": "2021-04-21T08:25:47.164521Z",
     "start_time": "2021-04-21T08:25:47.134602Z"
    }
   },
   "outputs": [],
   "source": [
    "test[nan_index] = test[nan_index].fillna(test.mode().iloc[0])\n",
    "#test.dropna(inplace=True)"
   ]
  },
  {
   "cell_type": "code",
   "execution_count": 28,
   "id": "fe06f4d3",
   "metadata": {
    "ExecuteTime": {
     "end_time": "2021-04-21T08:25:47.180479Z",
     "start_time": "2021-04-21T08:25:47.165519Z"
    }
   },
   "outputs": [],
   "source": [
    "# for col in nan_index:\n",
    "#     test[col].fillna(test[col].mode()[0], inplace=True)"
   ]
  },
  {
   "cell_type": "code",
   "execution_count": 29,
   "id": "ba67950e",
   "metadata": {
    "ExecuteTime": {
     "end_time": "2021-04-21T08:25:47.195440Z",
     "start_time": "2021-04-21T08:25:47.181476Z"
    }
   },
   "outputs": [
    {
     "name": "stdout",
     "output_type": "stream",
     "text": [
      "Empty DataFrame\n",
      "Columns: [CNT, RATE, TYPE]\n",
      "Index: []\n"
     ]
    }
   ],
   "source": [
    "nan_dict = {\"CNT\":test.isna().sum(),\n",
    "            \"RATE\": test.isna().sum()/test.shape[0] *100,\n",
    "            \"TYPE\": test.dtypes\n",
    "}\n",
    "nan_df = pd.DataFrame(nan_dict)\n",
    "print(nan_df[nan_df[\"RATE\"]>0].sort_values(\"CNT\", ascending=False))"
   ]
  },
  {
   "cell_type": "code",
   "execution_count": 30,
   "id": "65f4bd33",
   "metadata": {
    "ExecuteTime": {
     "end_time": "2021-04-21T08:25:47.211397Z",
     "start_time": "2021-04-21T08:25:47.196438Z"
    }
   },
   "outputs": [
    {
     "name": "stdout",
     "output_type": "stream",
     "text": [
      "<class 'pandas.core.frame.DataFrame'>\n",
      "RangeIndex: 1460 entries, 0 to 1459\n",
      "Data columns (total 61 columns):\n",
      " #   Column         Non-Null Count  Dtype  \n",
      "---  ------         --------------  -----  \n",
      " 0   MSZoning       1460 non-null   object \n",
      " 1   LotFrontage    1460 non-null   float64\n",
      " 2   LotArea        1460 non-null   int64  \n",
      " 3   Street         1460 non-null   object \n",
      " 4   LotShape       1460 non-null   object \n",
      " 5   LandContour    1460 non-null   object \n",
      " 6   Utilities      1460 non-null   object \n",
      " 7   LotConfig      1460 non-null   object \n",
      " 8   LandSlope      1460 non-null   object \n",
      " 9   Neighborhood   1460 non-null   object \n",
      " 10  Condition1     1460 non-null   object \n",
      " 11  Condition2     1460 non-null   object \n",
      " 12  BldgType       1460 non-null   object \n",
      " 13  HouseStyle     1460 non-null   object \n",
      " 14  OverallQual    1460 non-null   int64  \n",
      " 15  YearBuilt      1460 non-null   int64  \n",
      " 16  YearRemodAdd   1460 non-null   int64  \n",
      " 17  RoofStyle      1460 non-null   object \n",
      " 18  RoofMatl       1460 non-null   object \n",
      " 19  Exterior1st    1460 non-null   object \n",
      " 20  Exterior2nd    1460 non-null   object \n",
      " 21  MasVnrType     1460 non-null   object \n",
      " 22  MasVnrArea     1460 non-null   float64\n",
      " 23  ExterQual      1460 non-null   object \n",
      " 24  ExterCond      1460 non-null   object \n",
      " 25  Foundation     1460 non-null   object \n",
      " 26  BsmtQual       1460 non-null   object \n",
      " 27  BsmtCond       1460 non-null   object \n",
      " 28  BsmtExposure   1460 non-null   object \n",
      " 29  BsmtFinType1   1460 non-null   object \n",
      " 30  BsmtFinSF1     1460 non-null   int64  \n",
      " 31  BsmtFinType2   1460 non-null   object \n",
      " 32  BsmtUnfSF      1460 non-null   int64  \n",
      " 33  TotalBsmtSF    1460 non-null   int64  \n",
      " 34  Heating        1460 non-null   object \n",
      " 35  HeatingQC      1460 non-null   object \n",
      " 36  CentralAir     1460 non-null   object \n",
      " 37  Electrical     1460 non-null   object \n",
      " 38  1stFlrSF       1460 non-null   int64  \n",
      " 39  2ndFlrSF       1460 non-null   int64  \n",
      " 40  GrLivArea      1460 non-null   int64  \n",
      " 41  BsmtFullBath   1460 non-null   int64  \n",
      " 42  FullBath       1460 non-null   int64  \n",
      " 43  HalfBath       1460 non-null   int64  \n",
      " 44  KitchenQual    1460 non-null   object \n",
      " 45  TotRmsAbvGrd   1460 non-null   int64  \n",
      " 46  Functional     1460 non-null   object \n",
      " 47  Fireplaces     1460 non-null   int64  \n",
      " 48  GarageType     1460 non-null   object \n",
      " 49  GarageYrBlt    1460 non-null   float64\n",
      " 50  GarageFinish   1460 non-null   object \n",
      " 51  GarageCars     1460 non-null   int64  \n",
      " 52  GarageArea     1460 non-null   int64  \n",
      " 53  GarageQual     1460 non-null   object \n",
      " 54  GarageCond     1460 non-null   object \n",
      " 55  PavedDrive     1460 non-null   object \n",
      " 56  WoodDeckSF     1460 non-null   int64  \n",
      " 57  OpenPorchSF    1460 non-null   int64  \n",
      " 58  SaleType       1460 non-null   object \n",
      " 59  SaleCondition  1460 non-null   object \n",
      " 60  SalePrice      1460 non-null   int64  \n",
      "dtypes: float64(3), int64(20), object(38)\n",
      "memory usage: 695.9+ KB\n"
     ]
    }
   ],
   "source": [
    "train.info()"
   ]
  },
  {
   "cell_type": "code",
   "execution_count": 31,
   "id": "72f80599",
   "metadata": {
    "ExecuteTime": {
     "end_time": "2021-04-21T08:25:47.242316Z",
     "start_time": "2021-04-21T08:25:47.212394Z"
    }
   },
   "outputs": [
    {
     "name": "stdout",
     "output_type": "stream",
     "text": [
      "<class 'pandas.core.frame.DataFrame'>\n",
      "RangeIndex: 1459 entries, 0 to 1458\n",
      "Data columns (total 60 columns):\n",
      " #   Column         Non-Null Count  Dtype  \n",
      "---  ------         --------------  -----  \n",
      " 0   MSZoning       1459 non-null   object \n",
      " 1   LotFrontage    1459 non-null   float64\n",
      " 2   LotArea        1459 non-null   int64  \n",
      " 3   Street         1459 non-null   object \n",
      " 4   LotShape       1459 non-null   object \n",
      " 5   LandContour    1459 non-null   object \n",
      " 6   Utilities      1459 non-null   object \n",
      " 7   LotConfig      1459 non-null   object \n",
      " 8   LandSlope      1459 non-null   object \n",
      " 9   Neighborhood   1459 non-null   object \n",
      " 10  Condition1     1459 non-null   object \n",
      " 11  Condition2     1459 non-null   object \n",
      " 12  BldgType       1459 non-null   object \n",
      " 13  HouseStyle     1459 non-null   object \n",
      " 14  OverallQual    1459 non-null   int64  \n",
      " 15  YearBuilt      1459 non-null   int64  \n",
      " 16  YearRemodAdd   1459 non-null   int64  \n",
      " 17  RoofStyle      1459 non-null   object \n",
      " 18  RoofMatl       1459 non-null   object \n",
      " 19  Exterior1st    1459 non-null   object \n",
      " 20  Exterior2nd    1459 non-null   object \n",
      " 21  MasVnrType     1459 non-null   object \n",
      " 22  MasVnrArea     1459 non-null   float64\n",
      " 23  ExterQual      1459 non-null   object \n",
      " 24  ExterCond      1459 non-null   object \n",
      " 25  Foundation     1459 non-null   object \n",
      " 26  BsmtQual       1459 non-null   object \n",
      " 27  BsmtCond       1459 non-null   object \n",
      " 28  BsmtExposure   1459 non-null   object \n",
      " 29  BsmtFinType1   1459 non-null   object \n",
      " 30  BsmtFinSF1     1459 non-null   float64\n",
      " 31  BsmtFinType2   1459 non-null   object \n",
      " 32  BsmtUnfSF      1459 non-null   float64\n",
      " 33  TotalBsmtSF    1459 non-null   float64\n",
      " 34  Heating        1459 non-null   object \n",
      " 35  HeatingQC      1459 non-null   object \n",
      " 36  CentralAir     1459 non-null   object \n",
      " 37  Electrical     1459 non-null   object \n",
      " 38  1stFlrSF       1459 non-null   int64  \n",
      " 39  2ndFlrSF       1459 non-null   int64  \n",
      " 40  GrLivArea      1459 non-null   int64  \n",
      " 41  BsmtFullBath   1459 non-null   float64\n",
      " 42  FullBath       1459 non-null   int64  \n",
      " 43  HalfBath       1459 non-null   int64  \n",
      " 44  KitchenQual    1459 non-null   object \n",
      " 45  TotRmsAbvGrd   1459 non-null   int64  \n",
      " 46  Functional     1459 non-null   object \n",
      " 47  Fireplaces     1459 non-null   int64  \n",
      " 48  GarageType     1459 non-null   object \n",
      " 49  GarageYrBlt    1459 non-null   float64\n",
      " 50  GarageFinish   1459 non-null   object \n",
      " 51  GarageCars     1459 non-null   float64\n",
      " 52  GarageArea     1459 non-null   float64\n",
      " 53  GarageQual     1459 non-null   object \n",
      " 54  GarageCond     1459 non-null   object \n",
      " 55  PavedDrive     1459 non-null   object \n",
      " 56  WoodDeckSF     1459 non-null   int64  \n",
      " 57  OpenPorchSF    1459 non-null   int64  \n",
      " 58  SaleType       1459 non-null   object \n",
      " 59  SaleCondition  1459 non-null   object \n",
      "dtypes: float64(9), int64(13), object(38)\n",
      "memory usage: 684.0+ KB\n"
     ]
    }
   ],
   "source": [
    "test.info()"
   ]
  },
  {
   "cell_type": "code",
   "execution_count": 32,
   "id": "ac73321d",
   "metadata": {
    "ExecuteTime": {
     "end_time": "2021-04-21T08:25:47.257274Z",
     "start_time": "2021-04-21T08:25:47.245306Z"
    }
   },
   "outputs": [
    {
     "name": "stdout",
     "output_type": "stream",
     "text": [
      "Index(['LotFrontage', 'MasVnrArea', 'GarageYrBlt'], dtype='object')\n"
     ]
    }
   ],
   "source": [
    "cols = train.select_dtypes(include='float').columns\n",
    "print(cols)\n",
    "train[cols] = train[cols].astype(int)\n",
    "\n"
   ]
  },
  {
   "cell_type": "code",
   "execution_count": 33,
   "id": "147ad137",
   "metadata": {
    "ExecuteTime": {
     "end_time": "2021-04-21T08:25:47.272234Z",
     "start_time": "2021-04-21T08:25:47.259271Z"
    }
   },
   "outputs": [
    {
     "name": "stdout",
     "output_type": "stream",
     "text": [
      "Index(['LotFrontage', 'MasVnrArea', 'BsmtFinSF1', 'BsmtUnfSF', 'TotalBsmtSF',\n",
      "       'BsmtFullBath', 'GarageYrBlt', 'GarageCars', 'GarageArea'],\n",
      "      dtype='object')\n"
     ]
    }
   ],
   "source": [
    "cols = test.select_dtypes(include='float').columns\n",
    "print(cols)\n",
    "test[cols] = test[cols].astype(int)"
   ]
  },
  {
   "cell_type": "code",
   "execution_count": null,
   "id": "9e4a2519",
   "metadata": {},
   "outputs": [],
   "source": []
  },
  {
   "cell_type": "code",
   "execution_count": null,
   "id": "5c648b4b",
   "metadata": {},
   "outputs": [],
   "source": []
  },
  {
   "cell_type": "code",
   "execution_count": null,
   "id": "cd74997d",
   "metadata": {},
   "outputs": [],
   "source": []
  },
  {
   "cell_type": "markdown",
   "id": "1436a480",
   "metadata": {},
   "source": [
    "### Object --> Numeric"
   ]
  },
  {
   "cell_type": "code",
   "execution_count": 34,
   "id": "4dac7cc4",
   "metadata": {
    "ExecuteTime": {
     "end_time": "2021-04-21T08:25:47.303151Z",
     "start_time": "2021-04-21T08:25:47.273231Z"
    }
   },
   "outputs": [
    {
     "data": {
      "text/html": [
       "<div>\n",
       "<style scoped>\n",
       "    .dataframe tbody tr th:only-of-type {\n",
       "        vertical-align: middle;\n",
       "    }\n",
       "\n",
       "    .dataframe tbody tr th {\n",
       "        vertical-align: top;\n",
       "    }\n",
       "\n",
       "    .dataframe thead th {\n",
       "        text-align: right;\n",
       "    }\n",
       "</style>\n",
       "<table border=\"1\" class=\"dataframe\">\n",
       "  <thead>\n",
       "    <tr style=\"text-align: right;\">\n",
       "      <th></th>\n",
       "      <th>MSZoning</th>\n",
       "      <th>Street</th>\n",
       "      <th>LotShape</th>\n",
       "      <th>LandContour</th>\n",
       "      <th>Utilities</th>\n",
       "      <th>LotConfig</th>\n",
       "      <th>LandSlope</th>\n",
       "      <th>Neighborhood</th>\n",
       "      <th>Condition1</th>\n",
       "      <th>Condition2</th>\n",
       "      <th>...</th>\n",
       "      <th>Electrical</th>\n",
       "      <th>KitchenQual</th>\n",
       "      <th>Functional</th>\n",
       "      <th>GarageType</th>\n",
       "      <th>GarageFinish</th>\n",
       "      <th>GarageQual</th>\n",
       "      <th>GarageCond</th>\n",
       "      <th>PavedDrive</th>\n",
       "      <th>SaleType</th>\n",
       "      <th>SaleCondition</th>\n",
       "    </tr>\n",
       "  </thead>\n",
       "  <tbody>\n",
       "    <tr>\n",
       "      <th>0</th>\n",
       "      <td>RL</td>\n",
       "      <td>Pave</td>\n",
       "      <td>Reg</td>\n",
       "      <td>Lvl</td>\n",
       "      <td>AllPub</td>\n",
       "      <td>Inside</td>\n",
       "      <td>Gtl</td>\n",
       "      <td>CollgCr</td>\n",
       "      <td>Norm</td>\n",
       "      <td>Norm</td>\n",
       "      <td>...</td>\n",
       "      <td>SBrkr</td>\n",
       "      <td>Gd</td>\n",
       "      <td>Typ</td>\n",
       "      <td>Attchd</td>\n",
       "      <td>RFn</td>\n",
       "      <td>TA</td>\n",
       "      <td>TA</td>\n",
       "      <td>Y</td>\n",
       "      <td>WD</td>\n",
       "      <td>Normal</td>\n",
       "    </tr>\n",
       "    <tr>\n",
       "      <th>1</th>\n",
       "      <td>RL</td>\n",
       "      <td>Pave</td>\n",
       "      <td>Reg</td>\n",
       "      <td>Lvl</td>\n",
       "      <td>AllPub</td>\n",
       "      <td>FR2</td>\n",
       "      <td>Gtl</td>\n",
       "      <td>Veenker</td>\n",
       "      <td>Feedr</td>\n",
       "      <td>Norm</td>\n",
       "      <td>...</td>\n",
       "      <td>SBrkr</td>\n",
       "      <td>TA</td>\n",
       "      <td>Typ</td>\n",
       "      <td>Attchd</td>\n",
       "      <td>RFn</td>\n",
       "      <td>TA</td>\n",
       "      <td>TA</td>\n",
       "      <td>Y</td>\n",
       "      <td>WD</td>\n",
       "      <td>Normal</td>\n",
       "    </tr>\n",
       "    <tr>\n",
       "      <th>2</th>\n",
       "      <td>RL</td>\n",
       "      <td>Pave</td>\n",
       "      <td>IR1</td>\n",
       "      <td>Lvl</td>\n",
       "      <td>AllPub</td>\n",
       "      <td>Inside</td>\n",
       "      <td>Gtl</td>\n",
       "      <td>CollgCr</td>\n",
       "      <td>Norm</td>\n",
       "      <td>Norm</td>\n",
       "      <td>...</td>\n",
       "      <td>SBrkr</td>\n",
       "      <td>Gd</td>\n",
       "      <td>Typ</td>\n",
       "      <td>Attchd</td>\n",
       "      <td>RFn</td>\n",
       "      <td>TA</td>\n",
       "      <td>TA</td>\n",
       "      <td>Y</td>\n",
       "      <td>WD</td>\n",
       "      <td>Normal</td>\n",
       "    </tr>\n",
       "    <tr>\n",
       "      <th>3</th>\n",
       "      <td>RL</td>\n",
       "      <td>Pave</td>\n",
       "      <td>IR1</td>\n",
       "      <td>Lvl</td>\n",
       "      <td>AllPub</td>\n",
       "      <td>Corner</td>\n",
       "      <td>Gtl</td>\n",
       "      <td>Crawfor</td>\n",
       "      <td>Norm</td>\n",
       "      <td>Norm</td>\n",
       "      <td>...</td>\n",
       "      <td>SBrkr</td>\n",
       "      <td>Gd</td>\n",
       "      <td>Typ</td>\n",
       "      <td>Detchd</td>\n",
       "      <td>Unf</td>\n",
       "      <td>TA</td>\n",
       "      <td>TA</td>\n",
       "      <td>Y</td>\n",
       "      <td>WD</td>\n",
       "      <td>Abnorml</td>\n",
       "    </tr>\n",
       "    <tr>\n",
       "      <th>4</th>\n",
       "      <td>RL</td>\n",
       "      <td>Pave</td>\n",
       "      <td>IR1</td>\n",
       "      <td>Lvl</td>\n",
       "      <td>AllPub</td>\n",
       "      <td>FR2</td>\n",
       "      <td>Gtl</td>\n",
       "      <td>NoRidge</td>\n",
       "      <td>Norm</td>\n",
       "      <td>Norm</td>\n",
       "      <td>...</td>\n",
       "      <td>SBrkr</td>\n",
       "      <td>Gd</td>\n",
       "      <td>Typ</td>\n",
       "      <td>Attchd</td>\n",
       "      <td>RFn</td>\n",
       "      <td>TA</td>\n",
       "      <td>TA</td>\n",
       "      <td>Y</td>\n",
       "      <td>WD</td>\n",
       "      <td>Normal</td>\n",
       "    </tr>\n",
       "    <tr>\n",
       "      <th>...</th>\n",
       "      <td>...</td>\n",
       "      <td>...</td>\n",
       "      <td>...</td>\n",
       "      <td>...</td>\n",
       "      <td>...</td>\n",
       "      <td>...</td>\n",
       "      <td>...</td>\n",
       "      <td>...</td>\n",
       "      <td>...</td>\n",
       "      <td>...</td>\n",
       "      <td>...</td>\n",
       "      <td>...</td>\n",
       "      <td>...</td>\n",
       "      <td>...</td>\n",
       "      <td>...</td>\n",
       "      <td>...</td>\n",
       "      <td>...</td>\n",
       "      <td>...</td>\n",
       "      <td>...</td>\n",
       "      <td>...</td>\n",
       "      <td>...</td>\n",
       "    </tr>\n",
       "    <tr>\n",
       "      <th>1455</th>\n",
       "      <td>RL</td>\n",
       "      <td>Pave</td>\n",
       "      <td>Reg</td>\n",
       "      <td>Lvl</td>\n",
       "      <td>AllPub</td>\n",
       "      <td>Inside</td>\n",
       "      <td>Gtl</td>\n",
       "      <td>Gilbert</td>\n",
       "      <td>Norm</td>\n",
       "      <td>Norm</td>\n",
       "      <td>...</td>\n",
       "      <td>SBrkr</td>\n",
       "      <td>TA</td>\n",
       "      <td>Typ</td>\n",
       "      <td>Attchd</td>\n",
       "      <td>RFn</td>\n",
       "      <td>TA</td>\n",
       "      <td>TA</td>\n",
       "      <td>Y</td>\n",
       "      <td>WD</td>\n",
       "      <td>Normal</td>\n",
       "    </tr>\n",
       "    <tr>\n",
       "      <th>1456</th>\n",
       "      <td>RL</td>\n",
       "      <td>Pave</td>\n",
       "      <td>Reg</td>\n",
       "      <td>Lvl</td>\n",
       "      <td>AllPub</td>\n",
       "      <td>Inside</td>\n",
       "      <td>Gtl</td>\n",
       "      <td>NWAmes</td>\n",
       "      <td>Norm</td>\n",
       "      <td>Norm</td>\n",
       "      <td>...</td>\n",
       "      <td>SBrkr</td>\n",
       "      <td>TA</td>\n",
       "      <td>Min1</td>\n",
       "      <td>Attchd</td>\n",
       "      <td>Unf</td>\n",
       "      <td>TA</td>\n",
       "      <td>TA</td>\n",
       "      <td>Y</td>\n",
       "      <td>WD</td>\n",
       "      <td>Normal</td>\n",
       "    </tr>\n",
       "    <tr>\n",
       "      <th>1457</th>\n",
       "      <td>RL</td>\n",
       "      <td>Pave</td>\n",
       "      <td>Reg</td>\n",
       "      <td>Lvl</td>\n",
       "      <td>AllPub</td>\n",
       "      <td>Inside</td>\n",
       "      <td>Gtl</td>\n",
       "      <td>Crawfor</td>\n",
       "      <td>Norm</td>\n",
       "      <td>Norm</td>\n",
       "      <td>...</td>\n",
       "      <td>SBrkr</td>\n",
       "      <td>Gd</td>\n",
       "      <td>Typ</td>\n",
       "      <td>Attchd</td>\n",
       "      <td>RFn</td>\n",
       "      <td>TA</td>\n",
       "      <td>TA</td>\n",
       "      <td>Y</td>\n",
       "      <td>WD</td>\n",
       "      <td>Normal</td>\n",
       "    </tr>\n",
       "    <tr>\n",
       "      <th>1458</th>\n",
       "      <td>RL</td>\n",
       "      <td>Pave</td>\n",
       "      <td>Reg</td>\n",
       "      <td>Lvl</td>\n",
       "      <td>AllPub</td>\n",
       "      <td>Inside</td>\n",
       "      <td>Gtl</td>\n",
       "      <td>NAmes</td>\n",
       "      <td>Norm</td>\n",
       "      <td>Norm</td>\n",
       "      <td>...</td>\n",
       "      <td>FuseA</td>\n",
       "      <td>Gd</td>\n",
       "      <td>Typ</td>\n",
       "      <td>Attchd</td>\n",
       "      <td>Unf</td>\n",
       "      <td>TA</td>\n",
       "      <td>TA</td>\n",
       "      <td>Y</td>\n",
       "      <td>WD</td>\n",
       "      <td>Normal</td>\n",
       "    </tr>\n",
       "    <tr>\n",
       "      <th>1459</th>\n",
       "      <td>RL</td>\n",
       "      <td>Pave</td>\n",
       "      <td>Reg</td>\n",
       "      <td>Lvl</td>\n",
       "      <td>AllPub</td>\n",
       "      <td>Inside</td>\n",
       "      <td>Gtl</td>\n",
       "      <td>Edwards</td>\n",
       "      <td>Norm</td>\n",
       "      <td>Norm</td>\n",
       "      <td>...</td>\n",
       "      <td>SBrkr</td>\n",
       "      <td>TA</td>\n",
       "      <td>Typ</td>\n",
       "      <td>Attchd</td>\n",
       "      <td>Fin</td>\n",
       "      <td>TA</td>\n",
       "      <td>TA</td>\n",
       "      <td>Y</td>\n",
       "      <td>WD</td>\n",
       "      <td>Normal</td>\n",
       "    </tr>\n",
       "  </tbody>\n",
       "</table>\n",
       "<p>1460 rows × 38 columns</p>\n",
       "</div>"
      ],
      "text/plain": [
       "     MSZoning Street LotShape LandContour Utilities LotConfig LandSlope  \\\n",
       "0          RL   Pave      Reg         Lvl    AllPub    Inside       Gtl   \n",
       "1          RL   Pave      Reg         Lvl    AllPub       FR2       Gtl   \n",
       "2          RL   Pave      IR1         Lvl    AllPub    Inside       Gtl   \n",
       "3          RL   Pave      IR1         Lvl    AllPub    Corner       Gtl   \n",
       "4          RL   Pave      IR1         Lvl    AllPub       FR2       Gtl   \n",
       "...       ...    ...      ...         ...       ...       ...       ...   \n",
       "1455       RL   Pave      Reg         Lvl    AllPub    Inside       Gtl   \n",
       "1456       RL   Pave      Reg         Lvl    AllPub    Inside       Gtl   \n",
       "1457       RL   Pave      Reg         Lvl    AllPub    Inside       Gtl   \n",
       "1458       RL   Pave      Reg         Lvl    AllPub    Inside       Gtl   \n",
       "1459       RL   Pave      Reg         Lvl    AllPub    Inside       Gtl   \n",
       "\n",
       "     Neighborhood Condition1 Condition2  ... Electrical KitchenQual  \\\n",
       "0         CollgCr       Norm       Norm  ...      SBrkr          Gd   \n",
       "1         Veenker      Feedr       Norm  ...      SBrkr          TA   \n",
       "2         CollgCr       Norm       Norm  ...      SBrkr          Gd   \n",
       "3         Crawfor       Norm       Norm  ...      SBrkr          Gd   \n",
       "4         NoRidge       Norm       Norm  ...      SBrkr          Gd   \n",
       "...           ...        ...        ...  ...        ...         ...   \n",
       "1455      Gilbert       Norm       Norm  ...      SBrkr          TA   \n",
       "1456       NWAmes       Norm       Norm  ...      SBrkr          TA   \n",
       "1457      Crawfor       Norm       Norm  ...      SBrkr          Gd   \n",
       "1458        NAmes       Norm       Norm  ...      FuseA          Gd   \n",
       "1459      Edwards       Norm       Norm  ...      SBrkr          TA   \n",
       "\n",
       "     Functional GarageType GarageFinish GarageQual GarageCond PavedDrive  \\\n",
       "0           Typ     Attchd          RFn         TA         TA          Y   \n",
       "1           Typ     Attchd          RFn         TA         TA          Y   \n",
       "2           Typ     Attchd          RFn         TA         TA          Y   \n",
       "3           Typ     Detchd          Unf         TA         TA          Y   \n",
       "4           Typ     Attchd          RFn         TA         TA          Y   \n",
       "...         ...        ...          ...        ...        ...        ...   \n",
       "1455        Typ     Attchd          RFn         TA         TA          Y   \n",
       "1456       Min1     Attchd          Unf         TA         TA          Y   \n",
       "1457        Typ     Attchd          RFn         TA         TA          Y   \n",
       "1458        Typ     Attchd          Unf         TA         TA          Y   \n",
       "1459        Typ     Attchd          Fin         TA         TA          Y   \n",
       "\n",
       "     SaleType SaleCondition  \n",
       "0          WD        Normal  \n",
       "1          WD        Normal  \n",
       "2          WD        Normal  \n",
       "3          WD       Abnorml  \n",
       "4          WD        Normal  \n",
       "...       ...           ...  \n",
       "1455       WD        Normal  \n",
       "1456       WD        Normal  \n",
       "1457       WD        Normal  \n",
       "1458       WD        Normal  \n",
       "1459       WD        Normal  \n",
       "\n",
       "[1460 rows x 38 columns]"
      ]
     },
     "execution_count": 34,
     "metadata": {},
     "output_type": "execute_result"
    }
   ],
   "source": [
    "train.select_dtypes(include='object')"
   ]
  },
  {
   "cell_type": "code",
   "execution_count": 35,
   "id": "f0b0fc81",
   "metadata": {
    "ExecuteTime": {
     "end_time": "2021-04-21T08:25:47.318111Z",
     "start_time": "2021-04-21T08:25:47.304149Z"
    }
   },
   "outputs": [],
   "source": [
    "object_index = train.select_dtypes(include='object').columns   # 38개"
   ]
  },
  {
   "cell_type": "code",
   "execution_count": 36,
   "id": "2441e58b",
   "metadata": {
    "ExecuteTime": {
     "end_time": "2021-04-21T08:25:47.334068Z",
     "start_time": "2021-04-21T08:25:47.319108Z"
    }
   },
   "outputs": [
    {
     "name": "stdout",
     "output_type": "stream",
     "text": [
      "MSZoning ['RL' 'RM' 'C (all)' 'FV' 'RH']\n",
      "Street ['Pave' 'Grvl']\n",
      "LotShape ['Reg' 'IR1' 'IR2' 'IR3']\n",
      "LandContour ['Lvl' 'Bnk' 'Low' 'HLS']\n",
      "Utilities ['AllPub' 'NoSeWa']\n",
      "LotConfig ['Inside' 'FR2' 'Corner' 'CulDSac' 'FR3']\n",
      "LandSlope ['Gtl' 'Mod' 'Sev']\n",
      "Neighborhood ['CollgCr' 'Veenker' 'Crawfor' 'NoRidge' 'Mitchel' 'Somerst' 'NWAmes'\n",
      " 'OldTown' 'BrkSide' 'Sawyer' 'NridgHt' 'NAmes' 'SawyerW' 'IDOTRR'\n",
      " 'MeadowV' 'Edwards' 'Timber' 'Gilbert' 'StoneBr' 'ClearCr' 'NPkVill'\n",
      " 'Blmngtn' 'BrDale' 'SWISU' 'Blueste']\n",
      "Condition1 ['Norm' 'Feedr' 'PosN' 'Artery' 'RRAe' 'RRNn' 'RRAn' 'PosA' 'RRNe']\n",
      "Condition2 ['Norm' 'Artery' 'RRNn' 'Feedr' 'PosN' 'PosA' 'RRAn' 'RRAe']\n",
      "BldgType ['1Fam' '2fmCon' 'Duplex' 'TwnhsE' 'Twnhs']\n",
      "HouseStyle ['2Story' '1Story' '1.5Fin' '1.5Unf' 'SFoyer' 'SLvl' '2.5Unf' '2.5Fin']\n",
      "RoofStyle ['Gable' 'Hip' 'Gambrel' 'Mansard' 'Flat' 'Shed']\n",
      "RoofMatl ['CompShg' 'WdShngl' 'Metal' 'WdShake' 'Membran' 'Tar&Grv' 'Roll'\n",
      " 'ClyTile']\n",
      "Exterior1st ['VinylSd' 'MetalSd' 'Wd Sdng' 'HdBoard' 'BrkFace' 'WdShing' 'CemntBd'\n",
      " 'Plywood' 'AsbShng' 'Stucco' 'BrkComm' 'AsphShn' 'Stone' 'ImStucc'\n",
      " 'CBlock']\n",
      "Exterior2nd ['VinylSd' 'MetalSd' 'Wd Shng' 'HdBoard' 'Plywood' 'Wd Sdng' 'CmentBd'\n",
      " 'BrkFace' 'Stucco' 'AsbShng' 'Brk Cmn' 'ImStucc' 'AsphShn' 'Stone'\n",
      " 'Other' 'CBlock']\n",
      "MasVnrType ['BrkFace' 'None' 'Stone' 'BrkCmn']\n",
      "ExterQual ['Gd' 'TA' 'Ex' 'Fa']\n",
      "ExterCond ['TA' 'Gd' 'Fa' 'Po' 'Ex']\n",
      "Foundation ['PConc' 'CBlock' 'BrkTil' 'Wood' 'Slab' 'Stone']\n",
      "BsmtQual ['Gd' 'TA' 'Ex' 'NO' 'Fa']\n",
      "BsmtCond ['TA' 'Gd' 'NO' 'Fa' 'Po']\n",
      "BsmtExposure ['No' 'Gd' 'Mn' 'Av' 'NO']\n",
      "BsmtFinType1 ['GLQ' 'ALQ' 'Unf' 'Rec' 'BLQ' 'NO' 'LwQ']\n",
      "BsmtFinType2 ['Unf' 'BLQ' 'NO' 'ALQ' 'Rec' 'LwQ' 'GLQ']\n",
      "Heating ['GasA' 'GasW' 'Grav' 'Wall' 'OthW' 'Floor']\n",
      "HeatingQC ['Ex' 'Gd' 'TA' 'Fa' 'Po']\n",
      "CentralAir ['Y' 'N']\n",
      "Electrical ['SBrkr' 'FuseF' 'FuseA' 'FuseP' 'Mix' 'NO']\n",
      "KitchenQual ['Gd' 'TA' 'Ex' 'Fa']\n",
      "Functional ['Typ' 'Min1' 'Maj1' 'Min2' 'Mod' 'Maj2' 'Sev']\n",
      "GarageType ['Attchd' 'Detchd' 'BuiltIn' 'CarPort' 'NO' 'Basment' '2Types']\n",
      "GarageFinish ['RFn' 'Unf' 'Fin' 'NO']\n",
      "GarageQual ['TA' 'Fa' 'Gd' 'NO' 'Ex' 'Po']\n",
      "GarageCond ['TA' 'Fa' 'NO' 'Gd' 'Po' 'Ex']\n",
      "PavedDrive ['Y' 'N' 'P']\n",
      "SaleType ['WD' 'New' 'COD' 'ConLD' 'ConLI' 'CWD' 'ConLw' 'Con' 'Oth']\n",
      "SaleCondition ['Normal' 'Abnorml' 'Partial' 'AdjLand' 'Alloca' 'Family']\n"
     ]
    }
   ],
   "source": [
    "for col in object_index:\n",
    "    print(col, train[col].unique())"
   ]
  },
  {
   "cell_type": "code",
   "execution_count": 37,
   "id": "a683bfd1",
   "metadata": {
    "ExecuteTime": {
     "end_time": "2021-04-21T08:25:47.350025Z",
     "start_time": "2021-04-21T08:25:47.335066Z"
    }
   },
   "outputs": [
    {
     "name": "stdout",
     "output_type": "stream",
     "text": [
      "(1460, 61) (1459, 60)\n"
     ]
    }
   ],
   "source": [
    "print(train.shape, test.shape)"
   ]
  },
  {
   "cell_type": "code",
   "execution_count": null,
   "id": "e2e05781",
   "metadata": {
    "ExecuteTime": {
     "end_time": "2021-04-20T12:38:30.146137Z",
     "start_time": "2021-04-20T12:38:30.137161Z"
    }
   },
   "outputs": [],
   "source": []
  },
  {
   "cell_type": "code",
   "execution_count": 38,
   "id": "9b3137fb",
   "metadata": {
    "ExecuteTime": {
     "end_time": "2021-04-21T08:25:47.413855Z",
     "start_time": "2021-04-21T08:25:47.351023Z"
    }
   },
   "outputs": [
    {
     "data": {
      "text/html": [
       "<div>\n",
       "<style scoped>\n",
       "    .dataframe tbody tr th:only-of-type {\n",
       "        vertical-align: middle;\n",
       "    }\n",
       "\n",
       "    .dataframe tbody tr th {\n",
       "        vertical-align: top;\n",
       "    }\n",
       "\n",
       "    .dataframe thead th {\n",
       "        text-align: right;\n",
       "    }\n",
       "</style>\n",
       "<table border=\"1\" class=\"dataframe\">\n",
       "  <thead>\n",
       "    <tr style=\"text-align: right;\">\n",
       "      <th></th>\n",
       "      <th>MSZoning</th>\n",
       "      <th>LotFrontage</th>\n",
       "      <th>LotArea</th>\n",
       "      <th>Street</th>\n",
       "      <th>LotShape</th>\n",
       "      <th>LandContour</th>\n",
       "      <th>Utilities</th>\n",
       "      <th>LotConfig</th>\n",
       "      <th>LandSlope</th>\n",
       "      <th>Neighborhood</th>\n",
       "      <th>...</th>\n",
       "      <th>LE_Electrical</th>\n",
       "      <th>LE_KitchenQual</th>\n",
       "      <th>LE_Functional</th>\n",
       "      <th>LE_GarageType</th>\n",
       "      <th>LE_GarageFinish</th>\n",
       "      <th>LE_GarageQual</th>\n",
       "      <th>LE_GarageCond</th>\n",
       "      <th>LE_PavedDrive</th>\n",
       "      <th>LE_SaleType</th>\n",
       "      <th>LE_SaleCondition</th>\n",
       "    </tr>\n",
       "  </thead>\n",
       "  <tbody>\n",
       "    <tr>\n",
       "      <th>0</th>\n",
       "      <td>RL</td>\n",
       "      <td>65</td>\n",
       "      <td>8450</td>\n",
       "      <td>Pave</td>\n",
       "      <td>Reg</td>\n",
       "      <td>Lvl</td>\n",
       "      <td>AllPub</td>\n",
       "      <td>Inside</td>\n",
       "      <td>Gtl</td>\n",
       "      <td>CollgCr</td>\n",
       "      <td>...</td>\n",
       "      <td>5</td>\n",
       "      <td>2</td>\n",
       "      <td>6</td>\n",
       "      <td>1</td>\n",
       "      <td>2</td>\n",
       "      <td>5</td>\n",
       "      <td>5</td>\n",
       "      <td>2</td>\n",
       "      <td>8</td>\n",
       "      <td>4</td>\n",
       "    </tr>\n",
       "    <tr>\n",
       "      <th>1</th>\n",
       "      <td>RL</td>\n",
       "      <td>80</td>\n",
       "      <td>9600</td>\n",
       "      <td>Pave</td>\n",
       "      <td>Reg</td>\n",
       "      <td>Lvl</td>\n",
       "      <td>AllPub</td>\n",
       "      <td>FR2</td>\n",
       "      <td>Gtl</td>\n",
       "      <td>Veenker</td>\n",
       "      <td>...</td>\n",
       "      <td>5</td>\n",
       "      <td>3</td>\n",
       "      <td>6</td>\n",
       "      <td>1</td>\n",
       "      <td>2</td>\n",
       "      <td>5</td>\n",
       "      <td>5</td>\n",
       "      <td>2</td>\n",
       "      <td>8</td>\n",
       "      <td>4</td>\n",
       "    </tr>\n",
       "    <tr>\n",
       "      <th>2</th>\n",
       "      <td>RL</td>\n",
       "      <td>68</td>\n",
       "      <td>11250</td>\n",
       "      <td>Pave</td>\n",
       "      <td>IR1</td>\n",
       "      <td>Lvl</td>\n",
       "      <td>AllPub</td>\n",
       "      <td>Inside</td>\n",
       "      <td>Gtl</td>\n",
       "      <td>CollgCr</td>\n",
       "      <td>...</td>\n",
       "      <td>5</td>\n",
       "      <td>2</td>\n",
       "      <td>6</td>\n",
       "      <td>1</td>\n",
       "      <td>2</td>\n",
       "      <td>5</td>\n",
       "      <td>5</td>\n",
       "      <td>2</td>\n",
       "      <td>8</td>\n",
       "      <td>4</td>\n",
       "    </tr>\n",
       "    <tr>\n",
       "      <th>3</th>\n",
       "      <td>RL</td>\n",
       "      <td>60</td>\n",
       "      <td>9550</td>\n",
       "      <td>Pave</td>\n",
       "      <td>IR1</td>\n",
       "      <td>Lvl</td>\n",
       "      <td>AllPub</td>\n",
       "      <td>Corner</td>\n",
       "      <td>Gtl</td>\n",
       "      <td>Crawfor</td>\n",
       "      <td>...</td>\n",
       "      <td>5</td>\n",
       "      <td>2</td>\n",
       "      <td>6</td>\n",
       "      <td>5</td>\n",
       "      <td>3</td>\n",
       "      <td>5</td>\n",
       "      <td>5</td>\n",
       "      <td>2</td>\n",
       "      <td>8</td>\n",
       "      <td>0</td>\n",
       "    </tr>\n",
       "    <tr>\n",
       "      <th>4</th>\n",
       "      <td>RL</td>\n",
       "      <td>84</td>\n",
       "      <td>14260</td>\n",
       "      <td>Pave</td>\n",
       "      <td>IR1</td>\n",
       "      <td>Lvl</td>\n",
       "      <td>AllPub</td>\n",
       "      <td>FR2</td>\n",
       "      <td>Gtl</td>\n",
       "      <td>NoRidge</td>\n",
       "      <td>...</td>\n",
       "      <td>5</td>\n",
       "      <td>2</td>\n",
       "      <td>6</td>\n",
       "      <td>1</td>\n",
       "      <td>2</td>\n",
       "      <td>5</td>\n",
       "      <td>5</td>\n",
       "      <td>2</td>\n",
       "      <td>8</td>\n",
       "      <td>4</td>\n",
       "    </tr>\n",
       "  </tbody>\n",
       "</table>\n",
       "<p>5 rows × 99 columns</p>\n",
       "</div>"
      ],
      "text/plain": [
       "  MSZoning  LotFrontage  LotArea Street LotShape LandContour Utilities  \\\n",
       "0       RL           65     8450   Pave      Reg         Lvl    AllPub   \n",
       "1       RL           80     9600   Pave      Reg         Lvl    AllPub   \n",
       "2       RL           68    11250   Pave      IR1         Lvl    AllPub   \n",
       "3       RL           60     9550   Pave      IR1         Lvl    AllPub   \n",
       "4       RL           84    14260   Pave      IR1         Lvl    AllPub   \n",
       "\n",
       "  LotConfig LandSlope Neighborhood  ... LE_Electrical LE_KitchenQual  \\\n",
       "0    Inside       Gtl      CollgCr  ...             5              2   \n",
       "1       FR2       Gtl      Veenker  ...             5              3   \n",
       "2    Inside       Gtl      CollgCr  ...             5              2   \n",
       "3    Corner       Gtl      Crawfor  ...             5              2   \n",
       "4       FR2       Gtl      NoRidge  ...             5              2   \n",
       "\n",
       "  LE_Functional LE_GarageType  LE_GarageFinish  LE_GarageQual  LE_GarageCond  \\\n",
       "0             6             1                2              5              5   \n",
       "1             6             1                2              5              5   \n",
       "2             6             1                2              5              5   \n",
       "3             6             5                3              5              5   \n",
       "4             6             1                2              5              5   \n",
       "\n",
       "  LE_PavedDrive LE_SaleType LE_SaleCondition  \n",
       "0             2           8                4  \n",
       "1             2           8                4  \n",
       "2             2           8                4  \n",
       "3             2           8                0  \n",
       "4             2           8                4  \n",
       "\n",
       "[5 rows x 99 columns]"
      ]
     },
     "execution_count": 38,
     "metadata": {},
     "output_type": "execute_result"
    }
   ],
   "source": [
    "le_encoder = LabelEncoder()\n",
    "\n",
    "cols = object_index\n",
    "for col in cols:   \n",
    "    le_encoder.fit(train[col])\n",
    "    train[\"LE_\"+ col] = le_encoder.transform(train[col])\n",
    "    test[\"LE_\"+ col] = le_encoder.transform(test[col])\n",
    "\n",
    "train.head()"
   ]
  },
  {
   "cell_type": "code",
   "execution_count": 39,
   "id": "61d8b135",
   "metadata": {
    "ExecuteTime": {
     "end_time": "2021-04-21T08:25:47.444772Z",
     "start_time": "2021-04-21T08:25:47.414852Z"
    }
   },
   "outputs": [
    {
     "data": {
      "text/html": [
       "<div>\n",
       "<style scoped>\n",
       "    .dataframe tbody tr th:only-of-type {\n",
       "        vertical-align: middle;\n",
       "    }\n",
       "\n",
       "    .dataframe tbody tr th {\n",
       "        vertical-align: top;\n",
       "    }\n",
       "\n",
       "    .dataframe thead th {\n",
       "        text-align: right;\n",
       "    }\n",
       "</style>\n",
       "<table border=\"1\" class=\"dataframe\">\n",
       "  <thead>\n",
       "    <tr style=\"text-align: right;\">\n",
       "      <th></th>\n",
       "      <th>MSZoning</th>\n",
       "      <th>LotFrontage</th>\n",
       "      <th>LotArea</th>\n",
       "      <th>Street</th>\n",
       "      <th>LotShape</th>\n",
       "      <th>LandContour</th>\n",
       "      <th>Utilities</th>\n",
       "      <th>LotConfig</th>\n",
       "      <th>LandSlope</th>\n",
       "      <th>Neighborhood</th>\n",
       "      <th>...</th>\n",
       "      <th>LE_Electrical</th>\n",
       "      <th>LE_KitchenQual</th>\n",
       "      <th>LE_Functional</th>\n",
       "      <th>LE_GarageType</th>\n",
       "      <th>LE_GarageFinish</th>\n",
       "      <th>LE_GarageQual</th>\n",
       "      <th>LE_GarageCond</th>\n",
       "      <th>LE_PavedDrive</th>\n",
       "      <th>LE_SaleType</th>\n",
       "      <th>LE_SaleCondition</th>\n",
       "    </tr>\n",
       "  </thead>\n",
       "  <tbody>\n",
       "    <tr>\n",
       "      <th>0</th>\n",
       "      <td>RH</td>\n",
       "      <td>80</td>\n",
       "      <td>11622</td>\n",
       "      <td>Pave</td>\n",
       "      <td>Reg</td>\n",
       "      <td>Lvl</td>\n",
       "      <td>AllPub</td>\n",
       "      <td>Inside</td>\n",
       "      <td>Gtl</td>\n",
       "      <td>NAmes</td>\n",
       "      <td>...</td>\n",
       "      <td>5</td>\n",
       "      <td>3</td>\n",
       "      <td>6</td>\n",
       "      <td>1</td>\n",
       "      <td>3</td>\n",
       "      <td>5</td>\n",
       "      <td>5</td>\n",
       "      <td>2</td>\n",
       "      <td>8</td>\n",
       "      <td>4</td>\n",
       "    </tr>\n",
       "    <tr>\n",
       "      <th>1</th>\n",
       "      <td>RL</td>\n",
       "      <td>81</td>\n",
       "      <td>14267</td>\n",
       "      <td>Pave</td>\n",
       "      <td>IR1</td>\n",
       "      <td>Lvl</td>\n",
       "      <td>AllPub</td>\n",
       "      <td>Corner</td>\n",
       "      <td>Gtl</td>\n",
       "      <td>NAmes</td>\n",
       "      <td>...</td>\n",
       "      <td>5</td>\n",
       "      <td>2</td>\n",
       "      <td>6</td>\n",
       "      <td>1</td>\n",
       "      <td>3</td>\n",
       "      <td>5</td>\n",
       "      <td>5</td>\n",
       "      <td>2</td>\n",
       "      <td>8</td>\n",
       "      <td>4</td>\n",
       "    </tr>\n",
       "    <tr>\n",
       "      <th>2</th>\n",
       "      <td>RL</td>\n",
       "      <td>74</td>\n",
       "      <td>13830</td>\n",
       "      <td>Pave</td>\n",
       "      <td>IR1</td>\n",
       "      <td>Lvl</td>\n",
       "      <td>AllPub</td>\n",
       "      <td>Inside</td>\n",
       "      <td>Gtl</td>\n",
       "      <td>Gilbert</td>\n",
       "      <td>...</td>\n",
       "      <td>5</td>\n",
       "      <td>3</td>\n",
       "      <td>6</td>\n",
       "      <td>1</td>\n",
       "      <td>0</td>\n",
       "      <td>5</td>\n",
       "      <td>5</td>\n",
       "      <td>2</td>\n",
       "      <td>8</td>\n",
       "      <td>4</td>\n",
       "    </tr>\n",
       "    <tr>\n",
       "      <th>3</th>\n",
       "      <td>RL</td>\n",
       "      <td>78</td>\n",
       "      <td>9978</td>\n",
       "      <td>Pave</td>\n",
       "      <td>IR1</td>\n",
       "      <td>Lvl</td>\n",
       "      <td>AllPub</td>\n",
       "      <td>Inside</td>\n",
       "      <td>Gtl</td>\n",
       "      <td>Gilbert</td>\n",
       "      <td>...</td>\n",
       "      <td>5</td>\n",
       "      <td>2</td>\n",
       "      <td>6</td>\n",
       "      <td>1</td>\n",
       "      <td>0</td>\n",
       "      <td>5</td>\n",
       "      <td>5</td>\n",
       "      <td>2</td>\n",
       "      <td>8</td>\n",
       "      <td>4</td>\n",
       "    </tr>\n",
       "    <tr>\n",
       "      <th>4</th>\n",
       "      <td>RL</td>\n",
       "      <td>43</td>\n",
       "      <td>5005</td>\n",
       "      <td>Pave</td>\n",
       "      <td>IR1</td>\n",
       "      <td>HLS</td>\n",
       "      <td>AllPub</td>\n",
       "      <td>Inside</td>\n",
       "      <td>Gtl</td>\n",
       "      <td>StoneBr</td>\n",
       "      <td>...</td>\n",
       "      <td>5</td>\n",
       "      <td>2</td>\n",
       "      <td>6</td>\n",
       "      <td>1</td>\n",
       "      <td>2</td>\n",
       "      <td>5</td>\n",
       "      <td>5</td>\n",
       "      <td>2</td>\n",
       "      <td>8</td>\n",
       "      <td>4</td>\n",
       "    </tr>\n",
       "  </tbody>\n",
       "</table>\n",
       "<p>5 rows × 98 columns</p>\n",
       "</div>"
      ],
      "text/plain": [
       "  MSZoning  LotFrontage  LotArea Street LotShape LandContour Utilities  \\\n",
       "0       RH           80    11622   Pave      Reg         Lvl    AllPub   \n",
       "1       RL           81    14267   Pave      IR1         Lvl    AllPub   \n",
       "2       RL           74    13830   Pave      IR1         Lvl    AllPub   \n",
       "3       RL           78     9978   Pave      IR1         Lvl    AllPub   \n",
       "4       RL           43     5005   Pave      IR1         HLS    AllPub   \n",
       "\n",
       "  LotConfig LandSlope Neighborhood  ... LE_Electrical LE_KitchenQual  \\\n",
       "0    Inside       Gtl        NAmes  ...             5              3   \n",
       "1    Corner       Gtl        NAmes  ...             5              2   \n",
       "2    Inside       Gtl      Gilbert  ...             5              3   \n",
       "3    Inside       Gtl      Gilbert  ...             5              2   \n",
       "4    Inside       Gtl      StoneBr  ...             5              2   \n",
       "\n",
       "  LE_Functional LE_GarageType  LE_GarageFinish  LE_GarageQual  LE_GarageCond  \\\n",
       "0             6             1                3              5              5   \n",
       "1             6             1                3              5              5   \n",
       "2             6             1                0              5              5   \n",
       "3             6             1                0              5              5   \n",
       "4             6             1                2              5              5   \n",
       "\n",
       "  LE_PavedDrive LE_SaleType LE_SaleCondition  \n",
       "0             2           8                4  \n",
       "1             2           8                4  \n",
       "2             2           8                4  \n",
       "3             2           8                4  \n",
       "4             2           8                4  \n",
       "\n",
       "[5 rows x 98 columns]"
      ]
     },
     "execution_count": 39,
     "metadata": {},
     "output_type": "execute_result"
    }
   ],
   "source": [
    "test.head()"
   ]
  },
  {
   "cell_type": "code",
   "execution_count": 40,
   "id": "cd64624c",
   "metadata": {
    "ExecuteTime": {
     "end_time": "2021-04-21T08:25:47.459732Z",
     "start_time": "2021-04-21T08:25:47.445770Z"
    }
   },
   "outputs": [],
   "source": [
    "train.drop(object_index, axis=1, inplace=True)\n",
    "test.drop(object_index, axis=1, inplace=True)"
   ]
  },
  {
   "cell_type": "code",
   "execution_count": 41,
   "id": "2f1c9d86",
   "metadata": {
    "ExecuteTime": {
     "end_time": "2021-04-21T08:25:47.475689Z",
     "start_time": "2021-04-21T08:25:47.460730Z"
    }
   },
   "outputs": [
    {
     "name": "stdout",
     "output_type": "stream",
     "text": [
      "(1460, 61) (1459, 60)\n"
     ]
    }
   ],
   "source": [
    "print(train.shape, test.shape)"
   ]
  },
  {
   "cell_type": "code",
   "execution_count": 42,
   "id": "366a08e7",
   "metadata": {
    "ExecuteTime": {
     "end_time": "2021-04-21T08:25:47.491647Z",
     "start_time": "2021-04-21T08:25:47.476687Z"
    }
   },
   "outputs": [
    {
     "name": "stdout",
     "output_type": "stream",
     "text": [
      "<class 'pandas.core.frame.DataFrame'>\n",
      "RangeIndex: 1460 entries, 0 to 1459\n",
      "Data columns (total 61 columns):\n",
      " #   Column            Non-Null Count  Dtype\n",
      "---  ------            --------------  -----\n",
      " 0   LotFrontage       1460 non-null   int32\n",
      " 1   LotArea           1460 non-null   int64\n",
      " 2   OverallQual       1460 non-null   int64\n",
      " 3   YearBuilt         1460 non-null   int64\n",
      " 4   YearRemodAdd      1460 non-null   int64\n",
      " 5   MasVnrArea        1460 non-null   int32\n",
      " 6   BsmtFinSF1        1460 non-null   int64\n",
      " 7   BsmtUnfSF         1460 non-null   int64\n",
      " 8   TotalBsmtSF       1460 non-null   int64\n",
      " 9   1stFlrSF          1460 non-null   int64\n",
      " 10  2ndFlrSF          1460 non-null   int64\n",
      " 11  GrLivArea         1460 non-null   int64\n",
      " 12  BsmtFullBath      1460 non-null   int64\n",
      " 13  FullBath          1460 non-null   int64\n",
      " 14  HalfBath          1460 non-null   int64\n",
      " 15  TotRmsAbvGrd      1460 non-null   int64\n",
      " 16  Fireplaces        1460 non-null   int64\n",
      " 17  GarageYrBlt       1460 non-null   int32\n",
      " 18  GarageCars        1460 non-null   int64\n",
      " 19  GarageArea        1460 non-null   int64\n",
      " 20  WoodDeckSF        1460 non-null   int64\n",
      " 21  OpenPorchSF       1460 non-null   int64\n",
      " 22  SalePrice         1460 non-null   int64\n",
      " 23  LE_MSZoning       1460 non-null   int32\n",
      " 24  LE_Street         1460 non-null   int32\n",
      " 25  LE_LotShape       1460 non-null   int32\n",
      " 26  LE_LandContour    1460 non-null   int32\n",
      " 27  LE_Utilities      1460 non-null   int32\n",
      " 28  LE_LotConfig      1460 non-null   int32\n",
      " 29  LE_LandSlope      1460 non-null   int32\n",
      " 30  LE_Neighborhood   1460 non-null   int32\n",
      " 31  LE_Condition1     1460 non-null   int32\n",
      " 32  LE_Condition2     1460 non-null   int32\n",
      " 33  LE_BldgType       1460 non-null   int32\n",
      " 34  LE_HouseStyle     1460 non-null   int32\n",
      " 35  LE_RoofStyle      1460 non-null   int32\n",
      " 36  LE_RoofMatl       1460 non-null   int32\n",
      " 37  LE_Exterior1st    1460 non-null   int32\n",
      " 38  LE_Exterior2nd    1460 non-null   int32\n",
      " 39  LE_MasVnrType     1460 non-null   int32\n",
      " 40  LE_ExterQual      1460 non-null   int32\n",
      " 41  LE_ExterCond      1460 non-null   int32\n",
      " 42  LE_Foundation     1460 non-null   int32\n",
      " 43  LE_BsmtQual       1460 non-null   int32\n",
      " 44  LE_BsmtCond       1460 non-null   int32\n",
      " 45  LE_BsmtExposure   1460 non-null   int32\n",
      " 46  LE_BsmtFinType1   1460 non-null   int32\n",
      " 47  LE_BsmtFinType2   1460 non-null   int32\n",
      " 48  LE_Heating        1460 non-null   int32\n",
      " 49  LE_HeatingQC      1460 non-null   int32\n",
      " 50  LE_CentralAir     1460 non-null   int32\n",
      " 51  LE_Electrical     1460 non-null   int32\n",
      " 52  LE_KitchenQual    1460 non-null   int32\n",
      " 53  LE_Functional     1460 non-null   int32\n",
      " 54  LE_GarageType     1460 non-null   int32\n",
      " 55  LE_GarageFinish   1460 non-null   int32\n",
      " 56  LE_GarageQual     1460 non-null   int32\n",
      " 57  LE_GarageCond     1460 non-null   int32\n",
      " 58  LE_PavedDrive     1460 non-null   int32\n",
      " 59  LE_SaleType       1460 non-null   int32\n",
      " 60  LE_SaleCondition  1460 non-null   int32\n",
      "dtypes: int32(41), int64(20)\n",
      "memory usage: 462.1 KB\n"
     ]
    }
   ],
   "source": [
    "train.info()"
   ]
  },
  {
   "cell_type": "code",
   "execution_count": 43,
   "id": "19eba2c5",
   "metadata": {
    "ExecuteTime": {
     "end_time": "2021-04-21T08:25:47.507604Z",
     "start_time": "2021-04-21T08:25:47.493642Z"
    }
   },
   "outputs": [
    {
     "name": "stdout",
     "output_type": "stream",
     "text": [
      "<class 'pandas.core.frame.DataFrame'>\n",
      "RangeIndex: 1459 entries, 0 to 1458\n",
      "Data columns (total 60 columns):\n",
      " #   Column            Non-Null Count  Dtype\n",
      "---  ------            --------------  -----\n",
      " 0   LotFrontage       1459 non-null   int32\n",
      " 1   LotArea           1459 non-null   int64\n",
      " 2   OverallQual       1459 non-null   int64\n",
      " 3   YearBuilt         1459 non-null   int64\n",
      " 4   YearRemodAdd      1459 non-null   int64\n",
      " 5   MasVnrArea        1459 non-null   int32\n",
      " 6   BsmtFinSF1        1459 non-null   int32\n",
      " 7   BsmtUnfSF         1459 non-null   int32\n",
      " 8   TotalBsmtSF       1459 non-null   int32\n",
      " 9   1stFlrSF          1459 non-null   int64\n",
      " 10  2ndFlrSF          1459 non-null   int64\n",
      " 11  GrLivArea         1459 non-null   int64\n",
      " 12  BsmtFullBath      1459 non-null   int32\n",
      " 13  FullBath          1459 non-null   int64\n",
      " 14  HalfBath          1459 non-null   int64\n",
      " 15  TotRmsAbvGrd      1459 non-null   int64\n",
      " 16  Fireplaces        1459 non-null   int64\n",
      " 17  GarageYrBlt       1459 non-null   int32\n",
      " 18  GarageCars        1459 non-null   int32\n",
      " 19  GarageArea        1459 non-null   int32\n",
      " 20  WoodDeckSF        1459 non-null   int64\n",
      " 21  OpenPorchSF       1459 non-null   int64\n",
      " 22  LE_MSZoning       1459 non-null   int32\n",
      " 23  LE_Street         1459 non-null   int32\n",
      " 24  LE_LotShape       1459 non-null   int32\n",
      " 25  LE_LandContour    1459 non-null   int32\n",
      " 26  LE_Utilities      1459 non-null   int32\n",
      " 27  LE_LotConfig      1459 non-null   int32\n",
      " 28  LE_LandSlope      1459 non-null   int32\n",
      " 29  LE_Neighborhood   1459 non-null   int32\n",
      " 30  LE_Condition1     1459 non-null   int32\n",
      " 31  LE_Condition2     1459 non-null   int32\n",
      " 32  LE_BldgType       1459 non-null   int32\n",
      " 33  LE_HouseStyle     1459 non-null   int32\n",
      " 34  LE_RoofStyle      1459 non-null   int32\n",
      " 35  LE_RoofMatl       1459 non-null   int32\n",
      " 36  LE_Exterior1st    1459 non-null   int32\n",
      " 37  LE_Exterior2nd    1459 non-null   int32\n",
      " 38  LE_MasVnrType     1459 non-null   int32\n",
      " 39  LE_ExterQual      1459 non-null   int32\n",
      " 40  LE_ExterCond      1459 non-null   int32\n",
      " 41  LE_Foundation     1459 non-null   int32\n",
      " 42  LE_BsmtQual       1459 non-null   int32\n",
      " 43  LE_BsmtCond       1459 non-null   int32\n",
      " 44  LE_BsmtExposure   1459 non-null   int32\n",
      " 45  LE_BsmtFinType1   1459 non-null   int32\n",
      " 46  LE_BsmtFinType2   1459 non-null   int32\n",
      " 47  LE_Heating        1459 non-null   int32\n",
      " 48  LE_HeatingQC      1459 non-null   int32\n",
      " 49  LE_CentralAir     1459 non-null   int32\n",
      " 50  LE_Electrical     1459 non-null   int32\n",
      " 51  LE_KitchenQual    1459 non-null   int32\n",
      " 52  LE_Functional     1459 non-null   int32\n",
      " 53  LE_GarageType     1459 non-null   int32\n",
      " 54  LE_GarageFinish   1459 non-null   int32\n",
      " 55  LE_GarageQual     1459 non-null   int32\n",
      " 56  LE_GarageCond     1459 non-null   int32\n",
      " 57  LE_PavedDrive     1459 non-null   int32\n",
      " 58  LE_SaleType       1459 non-null   int32\n",
      " 59  LE_SaleCondition  1459 non-null   int32\n",
      "dtypes: int32(47), int64(13)\n",
      "memory usage: 416.2 KB\n"
     ]
    }
   ],
   "source": [
    "test.info()"
   ]
  },
  {
   "cell_type": "markdown",
   "id": "85147c76",
   "metadata": {
    "ExecuteTime": {
     "end_time": "2021-04-21T01:26:10.008837Z",
     "start_time": "2021-04-21T01:26:10.002853Z"
    }
   },
   "source": [
    "#### 불필요한 피쳐 삭제"
   ]
  },
  {
   "cell_type": "code",
   "execution_count": 44,
   "id": "b2cf548d",
   "metadata": {
    "ExecuteTime": {
     "end_time": "2021-04-21T08:25:47.537524Z",
     "start_time": "2021-04-21T08:25:47.508601Z"
    }
   },
   "outputs": [
    {
     "name": "stdout",
     "output_type": "stream",
     "text": [
      "LE_HouseStyle      0.180163\n",
      "LE_RoofMatl        0.132383\n",
      "LE_ExterCond       0.117303\n",
      "LE_Functional      0.115328\n",
      "LE_Exterior2nd     0.103766\n",
      "LE_Exterior1st     0.103551\n",
      "LE_BsmtCond        0.091503\n",
      "LE_Condition1      0.091155\n",
      "LE_BsmtFinType2    0.072717\n",
      "LE_LandSlope       0.051152\n",
      "LE_Street          0.041036\n",
      "LE_MasVnrType      0.018216\n",
      "LE_LandContour     0.015453\n",
      "LE_Condition2      0.007513\n",
      "LE_Utilities      -0.014314\n",
      "LE_SaleType       -0.054911\n",
      "LE_LotConfig      -0.067396\n",
      "LE_BldgType       -0.085591\n",
      "LE_BsmtFinType1   -0.098734\n",
      "LE_Heating        -0.098812\n",
      "LE_MSZoning       -0.166872\n",
      "dtype: float64\n"
     ]
    }
   ],
   "source": [
    "corr_s = train.corrwith(train[\"SalePrice\"]).sort_values(ascending=False)\n",
    "print(corr_s[abs(corr_s)<0.2])"
   ]
  },
  {
   "cell_type": "code",
   "execution_count": 45,
   "id": "d2af189c",
   "metadata": {
    "ExecuteTime": {
     "end_time": "2021-04-21T08:25:47.552484Z",
     "start_time": "2021-04-21T08:25:47.539519Z"
    }
   },
   "outputs": [
    {
     "name": "stdout",
     "output_type": "stream",
     "text": [
      "(1460, 40) (1459, 39)\n"
     ]
    }
   ],
   "source": [
    "corr_features_list = corr_s[abs(corr_s)<0.2]\n",
    "\n",
    "train.drop(corr_features_list.index, axis=1, inplace=True)\n",
    "test.drop(corr_features_list.index, axis=1, inplace=True)\n",
    "print(train.shape, test.shape)"
   ]
  },
  {
   "cell_type": "code",
   "execution_count": 46,
   "id": "20235b1c",
   "metadata": {
    "ExecuteTime": {
     "end_time": "2021-04-21T08:25:47.583401Z",
     "start_time": "2021-04-21T08:25:47.553481Z"
    }
   },
   "outputs": [
    {
     "name": "stdout",
     "output_type": "stream",
     "text": [
      "SalePrice           1.000000\n",
      "OverallQual         0.790982\n",
      "GrLivArea           0.708624\n",
      "GarageCars          0.640409\n",
      "GarageArea          0.623431\n",
      "TotalBsmtSF         0.613581\n",
      "1stFlrSF            0.605852\n",
      "FullBath            0.560664\n",
      "TotRmsAbvGrd        0.533723\n",
      "YearBuilt           0.522897\n",
      "YearRemodAdd        0.507101\n",
      "MasVnrArea          0.472614\n",
      "Fireplaces          0.466929\n",
      "BsmtFinSF1          0.386420\n",
      "LE_Foundation       0.382479\n",
      "LotFrontage         0.334897\n",
      "WoodDeckSF          0.324413\n",
      "2ndFlrSF            0.319334\n",
      "OpenPorchSF         0.315856\n",
      "HalfBath            0.284108\n",
      "LotArea             0.263843\n",
      "GarageYrBlt         0.261366\n",
      "LE_CentralAir       0.251328\n",
      "LE_GarageCond       0.246705\n",
      "LE_Electrical       0.237044\n",
      "LE_PavedDrive       0.231357\n",
      "BsmtFullBath        0.227122\n",
      "LE_RoofStyle        0.222405\n",
      "BsmtUnfSF           0.214479\n",
      "LE_SaleCondition    0.213092\n",
      "LE_Neighborhood     0.210851\n",
      "LE_GarageQual       0.205963\n",
      "LE_LotShape        -0.255580\n",
      "LE_BsmtExposure    -0.294589\n",
      "LE_HeatingQC       -0.400178\n",
      "LE_GarageType      -0.415283\n",
      "LE_GarageFinish    -0.425684\n",
      "LE_KitchenQual     -0.589189\n",
      "LE_BsmtQual        -0.593734\n",
      "LE_ExterQual       -0.636884\n",
      "dtype: float64\n"
     ]
    }
   ],
   "source": [
    "corr_s = train.corrwith(train[\"SalePrice\"]).sort_values(ascending=False)\n",
    "print(corr_s)"
   ]
  },
  {
   "cell_type": "code",
   "execution_count": null,
   "id": "4f96854b",
   "metadata": {},
   "outputs": [],
   "source": []
  },
  {
   "cell_type": "markdown",
   "id": "825ce1e6",
   "metadata": {},
   "source": [
    "### Scaler"
   ]
  },
  {
   "cell_type": "code",
   "execution_count": 47,
   "id": "c1d4fc1e",
   "metadata": {
    "ExecuteTime": {
     "end_time": "2021-04-21T08:25:47.599359Z",
     "start_time": "2021-04-21T08:25:47.584399Z"
    }
   },
   "outputs": [
    {
     "data": {
      "text/plain": [
       "Index(['LotFrontage', 'LotArea', 'OverallQual', 'YearBuilt', 'YearRemodAdd',\n",
       "       'MasVnrArea', 'BsmtFinSF1', 'BsmtUnfSF', 'TotalBsmtSF', '1stFlrSF',\n",
       "       '2ndFlrSF', 'GrLivArea', 'BsmtFullBath', 'FullBath', 'HalfBath',\n",
       "       'TotRmsAbvGrd', 'Fireplaces', 'GarageYrBlt', 'GarageCars', 'GarageArea',\n",
       "       'WoodDeckSF', 'OpenPorchSF', 'SalePrice', 'LE_LotShape',\n",
       "       'LE_Neighborhood', 'LE_RoofStyle', 'LE_ExterQual', 'LE_Foundation',\n",
       "       'LE_BsmtQual', 'LE_BsmtExposure', 'LE_HeatingQC', 'LE_CentralAir',\n",
       "       'LE_Electrical', 'LE_KitchenQual', 'LE_GarageType', 'LE_GarageFinish',\n",
       "       'LE_GarageQual', 'LE_GarageCond', 'LE_PavedDrive', 'LE_SaleCondition'],\n",
       "      dtype='object')"
      ]
     },
     "execution_count": 47,
     "metadata": {},
     "output_type": "execute_result"
    }
   ],
   "source": [
    "train.columns"
   ]
  },
  {
   "cell_type": "code",
   "execution_count": 48,
   "id": "32321049",
   "metadata": {
    "ExecuteTime": {
     "end_time": "2021-04-21T08:25:47.661193Z",
     "start_time": "2021-04-21T08:25:47.600356Z"
    }
   },
   "outputs": [
    {
     "data": {
      "text/html": [
       "<div>\n",
       "<style scoped>\n",
       "    .dataframe tbody tr th:only-of-type {\n",
       "        vertical-align: middle;\n",
       "    }\n",
       "\n",
       "    .dataframe tbody tr th {\n",
       "        vertical-align: top;\n",
       "    }\n",
       "\n",
       "    .dataframe thead th {\n",
       "        text-align: right;\n",
       "    }\n",
       "</style>\n",
       "<table border=\"1\" class=\"dataframe\">\n",
       "  <thead>\n",
       "    <tr style=\"text-align: right;\">\n",
       "      <th></th>\n",
       "      <th>LotFrontage</th>\n",
       "      <th>LotArea</th>\n",
       "      <th>OverallQual</th>\n",
       "      <th>YearBuilt</th>\n",
       "      <th>YearRemodAdd</th>\n",
       "      <th>MasVnrArea</th>\n",
       "      <th>BsmtFinSF1</th>\n",
       "      <th>BsmtUnfSF</th>\n",
       "      <th>TotalBsmtSF</th>\n",
       "      <th>1stFlrSF</th>\n",
       "      <th>...</th>\n",
       "      <th>FullBath</th>\n",
       "      <th>HalfBath</th>\n",
       "      <th>TotRmsAbvGrd</th>\n",
       "      <th>Fireplaces</th>\n",
       "      <th>GarageYrBlt</th>\n",
       "      <th>GarageCars</th>\n",
       "      <th>GarageArea</th>\n",
       "      <th>WoodDeckSF</th>\n",
       "      <th>OpenPorchSF</th>\n",
       "      <th>SalePrice</th>\n",
       "    </tr>\n",
       "  </thead>\n",
       "  <tbody>\n",
       "    <tr>\n",
       "      <th>count</th>\n",
       "      <td>1460.000000</td>\n",
       "      <td>1460.000000</td>\n",
       "      <td>1460.000000</td>\n",
       "      <td>1460.000000</td>\n",
       "      <td>1460.000000</td>\n",
       "      <td>1460.000000</td>\n",
       "      <td>1460.000000</td>\n",
       "      <td>1460.000000</td>\n",
       "      <td>1460.000000</td>\n",
       "      <td>1460.000000</td>\n",
       "      <td>...</td>\n",
       "      <td>1460.000000</td>\n",
       "      <td>1460.000000</td>\n",
       "      <td>1460.000000</td>\n",
       "      <td>1460.000000</td>\n",
       "      <td>1460.000000</td>\n",
       "      <td>1460.000000</td>\n",
       "      <td>1460.000000</td>\n",
       "      <td>1460.000000</td>\n",
       "      <td>1460.000000</td>\n",
       "      <td>1460.000000</td>\n",
       "    </tr>\n",
       "    <tr>\n",
       "      <th>mean</th>\n",
       "      <td>70.041096</td>\n",
       "      <td>10516.828082</td>\n",
       "      <td>6.099315</td>\n",
       "      <td>1971.267808</td>\n",
       "      <td>1984.865753</td>\n",
       "      <td>103.117123</td>\n",
       "      <td>443.639726</td>\n",
       "      <td>567.240411</td>\n",
       "      <td>1057.429452</td>\n",
       "      <td>1162.626712</td>\n",
       "      <td>...</td>\n",
       "      <td>1.565068</td>\n",
       "      <td>0.382877</td>\n",
       "      <td>6.517808</td>\n",
       "      <td>0.613014</td>\n",
       "      <td>1868.739726</td>\n",
       "      <td>1.767123</td>\n",
       "      <td>472.980137</td>\n",
       "      <td>94.244521</td>\n",
       "      <td>46.660274</td>\n",
       "      <td>180921.195890</td>\n",
       "    </tr>\n",
       "    <tr>\n",
       "      <th>std</th>\n",
       "      <td>22.024031</td>\n",
       "      <td>9981.264932</td>\n",
       "      <td>1.382997</td>\n",
       "      <td>30.202904</td>\n",
       "      <td>20.645407</td>\n",
       "      <td>180.731373</td>\n",
       "      <td>456.098091</td>\n",
       "      <td>441.866955</td>\n",
       "      <td>438.705324</td>\n",
       "      <td>386.587738</td>\n",
       "      <td>...</td>\n",
       "      <td>0.550916</td>\n",
       "      <td>0.502885</td>\n",
       "      <td>1.625393</td>\n",
       "      <td>0.644666</td>\n",
       "      <td>453.697295</td>\n",
       "      <td>0.747315</td>\n",
       "      <td>213.804841</td>\n",
       "      <td>125.338794</td>\n",
       "      <td>66.256028</td>\n",
       "      <td>79442.502883</td>\n",
       "    </tr>\n",
       "    <tr>\n",
       "      <th>min</th>\n",
       "      <td>21.000000</td>\n",
       "      <td>1300.000000</td>\n",
       "      <td>1.000000</td>\n",
       "      <td>1872.000000</td>\n",
       "      <td>1950.000000</td>\n",
       "      <td>0.000000</td>\n",
       "      <td>0.000000</td>\n",
       "      <td>0.000000</td>\n",
       "      <td>0.000000</td>\n",
       "      <td>334.000000</td>\n",
       "      <td>...</td>\n",
       "      <td>0.000000</td>\n",
       "      <td>0.000000</td>\n",
       "      <td>2.000000</td>\n",
       "      <td>0.000000</td>\n",
       "      <td>0.000000</td>\n",
       "      <td>0.000000</td>\n",
       "      <td>0.000000</td>\n",
       "      <td>0.000000</td>\n",
       "      <td>0.000000</td>\n",
       "      <td>34900.000000</td>\n",
       "    </tr>\n",
       "    <tr>\n",
       "      <th>25%</th>\n",
       "      <td>60.000000</td>\n",
       "      <td>7553.500000</td>\n",
       "      <td>5.000000</td>\n",
       "      <td>1954.000000</td>\n",
       "      <td>1967.000000</td>\n",
       "      <td>0.000000</td>\n",
       "      <td>0.000000</td>\n",
       "      <td>223.000000</td>\n",
       "      <td>795.750000</td>\n",
       "      <td>882.000000</td>\n",
       "      <td>...</td>\n",
       "      <td>1.000000</td>\n",
       "      <td>0.000000</td>\n",
       "      <td>5.000000</td>\n",
       "      <td>0.000000</td>\n",
       "      <td>1958.000000</td>\n",
       "      <td>1.000000</td>\n",
       "      <td>334.500000</td>\n",
       "      <td>0.000000</td>\n",
       "      <td>0.000000</td>\n",
       "      <td>129975.000000</td>\n",
       "    </tr>\n",
       "    <tr>\n",
       "      <th>50%</th>\n",
       "      <td>70.000000</td>\n",
       "      <td>9478.500000</td>\n",
       "      <td>6.000000</td>\n",
       "      <td>1973.000000</td>\n",
       "      <td>1994.000000</td>\n",
       "      <td>0.000000</td>\n",
       "      <td>383.500000</td>\n",
       "      <td>477.500000</td>\n",
       "      <td>991.500000</td>\n",
       "      <td>1087.000000</td>\n",
       "      <td>...</td>\n",
       "      <td>2.000000</td>\n",
       "      <td>0.000000</td>\n",
       "      <td>6.000000</td>\n",
       "      <td>1.000000</td>\n",
       "      <td>1977.000000</td>\n",
       "      <td>2.000000</td>\n",
       "      <td>480.000000</td>\n",
       "      <td>0.000000</td>\n",
       "      <td>25.000000</td>\n",
       "      <td>163000.000000</td>\n",
       "    </tr>\n",
       "    <tr>\n",
       "      <th>75%</th>\n",
       "      <td>79.000000</td>\n",
       "      <td>11601.500000</td>\n",
       "      <td>7.000000</td>\n",
       "      <td>2000.000000</td>\n",
       "      <td>2004.000000</td>\n",
       "      <td>164.250000</td>\n",
       "      <td>712.250000</td>\n",
       "      <td>808.000000</td>\n",
       "      <td>1298.250000</td>\n",
       "      <td>1391.250000</td>\n",
       "      <td>...</td>\n",
       "      <td>2.000000</td>\n",
       "      <td>1.000000</td>\n",
       "      <td>7.000000</td>\n",
       "      <td>1.000000</td>\n",
       "      <td>2001.000000</td>\n",
       "      <td>2.000000</td>\n",
       "      <td>576.000000</td>\n",
       "      <td>168.000000</td>\n",
       "      <td>68.000000</td>\n",
       "      <td>214000.000000</td>\n",
       "    </tr>\n",
       "    <tr>\n",
       "      <th>max</th>\n",
       "      <td>313.000000</td>\n",
       "      <td>215245.000000</td>\n",
       "      <td>10.000000</td>\n",
       "      <td>2010.000000</td>\n",
       "      <td>2010.000000</td>\n",
       "      <td>1600.000000</td>\n",
       "      <td>5644.000000</td>\n",
       "      <td>2336.000000</td>\n",
       "      <td>6110.000000</td>\n",
       "      <td>4692.000000</td>\n",
       "      <td>...</td>\n",
       "      <td>3.000000</td>\n",
       "      <td>2.000000</td>\n",
       "      <td>14.000000</td>\n",
       "      <td>3.000000</td>\n",
       "      <td>2010.000000</td>\n",
       "      <td>4.000000</td>\n",
       "      <td>1418.000000</td>\n",
       "      <td>857.000000</td>\n",
       "      <td>547.000000</td>\n",
       "      <td>755000.000000</td>\n",
       "    </tr>\n",
       "  </tbody>\n",
       "</table>\n",
       "<p>8 rows × 23 columns</p>\n",
       "</div>"
      ],
      "text/plain": [
       "       LotFrontage        LotArea  OverallQual    YearBuilt  YearRemodAdd  \\\n",
       "count  1460.000000    1460.000000  1460.000000  1460.000000   1460.000000   \n",
       "mean     70.041096   10516.828082     6.099315  1971.267808   1984.865753   \n",
       "std      22.024031    9981.264932     1.382997    30.202904     20.645407   \n",
       "min      21.000000    1300.000000     1.000000  1872.000000   1950.000000   \n",
       "25%      60.000000    7553.500000     5.000000  1954.000000   1967.000000   \n",
       "50%      70.000000    9478.500000     6.000000  1973.000000   1994.000000   \n",
       "75%      79.000000   11601.500000     7.000000  2000.000000   2004.000000   \n",
       "max     313.000000  215245.000000    10.000000  2010.000000   2010.000000   \n",
       "\n",
       "        MasVnrArea   BsmtFinSF1    BsmtUnfSF  TotalBsmtSF     1stFlrSF  ...  \\\n",
       "count  1460.000000  1460.000000  1460.000000  1460.000000  1460.000000  ...   \n",
       "mean    103.117123   443.639726   567.240411  1057.429452  1162.626712  ...   \n",
       "std     180.731373   456.098091   441.866955   438.705324   386.587738  ...   \n",
       "min       0.000000     0.000000     0.000000     0.000000   334.000000  ...   \n",
       "25%       0.000000     0.000000   223.000000   795.750000   882.000000  ...   \n",
       "50%       0.000000   383.500000   477.500000   991.500000  1087.000000  ...   \n",
       "75%     164.250000   712.250000   808.000000  1298.250000  1391.250000  ...   \n",
       "max    1600.000000  5644.000000  2336.000000  6110.000000  4692.000000  ...   \n",
       "\n",
       "          FullBath     HalfBath  TotRmsAbvGrd   Fireplaces  GarageYrBlt  \\\n",
       "count  1460.000000  1460.000000   1460.000000  1460.000000  1460.000000   \n",
       "mean      1.565068     0.382877      6.517808     0.613014  1868.739726   \n",
       "std       0.550916     0.502885      1.625393     0.644666   453.697295   \n",
       "min       0.000000     0.000000      2.000000     0.000000     0.000000   \n",
       "25%       1.000000     0.000000      5.000000     0.000000  1958.000000   \n",
       "50%       2.000000     0.000000      6.000000     1.000000  1977.000000   \n",
       "75%       2.000000     1.000000      7.000000     1.000000  2001.000000   \n",
       "max       3.000000     2.000000     14.000000     3.000000  2010.000000   \n",
       "\n",
       "        GarageCars   GarageArea   WoodDeckSF  OpenPorchSF      SalePrice  \n",
       "count  1460.000000  1460.000000  1460.000000  1460.000000    1460.000000  \n",
       "mean      1.767123   472.980137    94.244521    46.660274  180921.195890  \n",
       "std       0.747315   213.804841   125.338794    66.256028   79442.502883  \n",
       "min       0.000000     0.000000     0.000000     0.000000   34900.000000  \n",
       "25%       1.000000   334.500000     0.000000     0.000000  129975.000000  \n",
       "50%       2.000000   480.000000     0.000000    25.000000  163000.000000  \n",
       "75%       2.000000   576.000000   168.000000    68.000000  214000.000000  \n",
       "max       4.000000  1418.000000   857.000000   547.000000  755000.000000  \n",
       "\n",
       "[8 rows x 23 columns]"
      ]
     },
     "execution_count": 48,
     "metadata": {},
     "output_type": "execute_result"
    }
   ],
   "source": [
    "train.iloc[:, 0:23].describe()"
   ]
  },
  {
   "cell_type": "code",
   "execution_count": 49,
   "id": "bf7dcb1d",
   "metadata": {
    "ExecuteTime": {
     "end_time": "2021-04-21T08:25:47.677150Z",
     "start_time": "2021-04-21T08:25:47.662191Z"
    }
   },
   "outputs": [],
   "source": [
    "# fig, axes = plt.subplots(ncols=8, nrows=3, figsize=(30,20))\n",
    "# for i, feature in enumerate(train.columns):\n",
    "#     cols = i%8\n",
    "#     rows = i//8     \n",
    "#     sns.distplot(train[feature], kde=True, ax=axes[rows][cols])\n",
    "#     axes[rows][cols].set_title(feature)"
   ]
  },
  {
   "cell_type": "code",
   "execution_count": 50,
   "id": "a4971c7e",
   "metadata": {
    "ExecuteTime": {
     "end_time": "2021-04-21T08:25:47.708573Z",
     "start_time": "2021-04-21T08:25:47.678148Z"
    }
   },
   "outputs": [
    {
     "data": {
      "text/html": [
       "<div>\n",
       "<style scoped>\n",
       "    .dataframe tbody tr th:only-of-type {\n",
       "        vertical-align: middle;\n",
       "    }\n",
       "\n",
       "    .dataframe tbody tr th {\n",
       "        vertical-align: top;\n",
       "    }\n",
       "\n",
       "    .dataframe thead th {\n",
       "        text-align: right;\n",
       "    }\n",
       "</style>\n",
       "<table border=\"1\" class=\"dataframe\">\n",
       "  <thead>\n",
       "    <tr style=\"text-align: right;\">\n",
       "      <th></th>\n",
       "      <th>LotFrontage</th>\n",
       "      <th>LotArea</th>\n",
       "      <th>OverallQual</th>\n",
       "      <th>YearBuilt</th>\n",
       "      <th>YearRemodAdd</th>\n",
       "      <th>MasVnrArea</th>\n",
       "      <th>BsmtFinSF1</th>\n",
       "      <th>BsmtUnfSF</th>\n",
       "      <th>TotalBsmtSF</th>\n",
       "      <th>1stFlrSF</th>\n",
       "      <th>...</th>\n",
       "      <th>LE_HeatingQC</th>\n",
       "      <th>LE_CentralAir</th>\n",
       "      <th>LE_Electrical</th>\n",
       "      <th>LE_KitchenQual</th>\n",
       "      <th>LE_GarageType</th>\n",
       "      <th>LE_GarageFinish</th>\n",
       "      <th>LE_GarageQual</th>\n",
       "      <th>LE_GarageCond</th>\n",
       "      <th>LE_PavedDrive</th>\n",
       "      <th>LE_SaleCondition</th>\n",
       "    </tr>\n",
       "  </thead>\n",
       "  <tbody>\n",
       "    <tr>\n",
       "      <th>0</th>\n",
       "      <td>4.189655</td>\n",
       "      <td>9.042040</td>\n",
       "      <td>7</td>\n",
       "      <td>7.602900</td>\n",
       "      <td>7.602900</td>\n",
       "      <td>5.283204</td>\n",
       "      <td>6.561031</td>\n",
       "      <td>5.017280</td>\n",
       "      <td>6.753438</td>\n",
       "      <td>6.753438</td>\n",
       "      <td>...</td>\n",
       "      <td>0</td>\n",
       "      <td>1</td>\n",
       "      <td>5</td>\n",
       "      <td>2</td>\n",
       "      <td>1</td>\n",
       "      <td>2</td>\n",
       "      <td>5</td>\n",
       "      <td>5</td>\n",
       "      <td>2</td>\n",
       "      <td>4</td>\n",
       "    </tr>\n",
       "    <tr>\n",
       "      <th>1</th>\n",
       "      <td>4.394449</td>\n",
       "      <td>9.169623</td>\n",
       "      <td>6</td>\n",
       "      <td>7.589336</td>\n",
       "      <td>7.589336</td>\n",
       "      <td>0.000000</td>\n",
       "      <td>6.886532</td>\n",
       "      <td>5.652489</td>\n",
       "      <td>7.141245</td>\n",
       "      <td>7.141245</td>\n",
       "      <td>...</td>\n",
       "      <td>0</td>\n",
       "      <td>1</td>\n",
       "      <td>5</td>\n",
       "      <td>3</td>\n",
       "      <td>1</td>\n",
       "      <td>2</td>\n",
       "      <td>5</td>\n",
       "      <td>5</td>\n",
       "      <td>2</td>\n",
       "      <td>4</td>\n",
       "    </tr>\n",
       "    <tr>\n",
       "      <th>2</th>\n",
       "      <td>4.234107</td>\n",
       "      <td>9.328212</td>\n",
       "      <td>7</td>\n",
       "      <td>7.601902</td>\n",
       "      <td>7.602401</td>\n",
       "      <td>5.093750</td>\n",
       "      <td>6.188264</td>\n",
       "      <td>6.075346</td>\n",
       "      <td>6.825460</td>\n",
       "      <td>6.825460</td>\n",
       "      <td>...</td>\n",
       "      <td>0</td>\n",
       "      <td>1</td>\n",
       "      <td>5</td>\n",
       "      <td>2</td>\n",
       "      <td>1</td>\n",
       "      <td>2</td>\n",
       "      <td>5</td>\n",
       "      <td>5</td>\n",
       "      <td>2</td>\n",
       "      <td>4</td>\n",
       "    </tr>\n",
       "    <tr>\n",
       "      <th>3</th>\n",
       "      <td>4.110874</td>\n",
       "      <td>9.164401</td>\n",
       "      <td>7</td>\n",
       "      <td>7.557995</td>\n",
       "      <td>7.586296</td>\n",
       "      <td>0.000000</td>\n",
       "      <td>5.379897</td>\n",
       "      <td>6.293419</td>\n",
       "      <td>6.629363</td>\n",
       "      <td>6.869014</td>\n",
       "      <td>...</td>\n",
       "      <td>2</td>\n",
       "      <td>1</td>\n",
       "      <td>5</td>\n",
       "      <td>2</td>\n",
       "      <td>5</td>\n",
       "      <td>3</td>\n",
       "      <td>5</td>\n",
       "      <td>5</td>\n",
       "      <td>2</td>\n",
       "      <td>0</td>\n",
       "    </tr>\n",
       "    <tr>\n",
       "      <th>4</th>\n",
       "      <td>4.442651</td>\n",
       "      <td>9.565284</td>\n",
       "      <td>8</td>\n",
       "      <td>7.601402</td>\n",
       "      <td>7.601402</td>\n",
       "      <td>5.860786</td>\n",
       "      <td>6.486161</td>\n",
       "      <td>6.196444</td>\n",
       "      <td>7.044033</td>\n",
       "      <td>7.044033</td>\n",
       "      <td>...</td>\n",
       "      <td>0</td>\n",
       "      <td>1</td>\n",
       "      <td>5</td>\n",
       "      <td>2</td>\n",
       "      <td>1</td>\n",
       "      <td>2</td>\n",
       "      <td>5</td>\n",
       "      <td>5</td>\n",
       "      <td>2</td>\n",
       "      <td>4</td>\n",
       "    </tr>\n",
       "  </tbody>\n",
       "</table>\n",
       "<p>5 rows × 40 columns</p>\n",
       "</div>"
      ],
      "text/plain": [
       "   LotFrontage   LotArea  OverallQual  YearBuilt  YearRemodAdd  MasVnrArea  \\\n",
       "0     4.189655  9.042040            7   7.602900      7.602900    5.283204   \n",
       "1     4.394449  9.169623            6   7.589336      7.589336    0.000000   \n",
       "2     4.234107  9.328212            7   7.601902      7.602401    5.093750   \n",
       "3     4.110874  9.164401            7   7.557995      7.586296    0.000000   \n",
       "4     4.442651  9.565284            8   7.601402      7.601402    5.860786   \n",
       "\n",
       "   BsmtFinSF1  BsmtUnfSF  TotalBsmtSF  1stFlrSF  ...  LE_HeatingQC  \\\n",
       "0    6.561031   5.017280     6.753438  6.753438  ...             0   \n",
       "1    6.886532   5.652489     7.141245  7.141245  ...             0   \n",
       "2    6.188264   6.075346     6.825460  6.825460  ...             0   \n",
       "3    5.379897   6.293419     6.629363  6.869014  ...             2   \n",
       "4    6.486161   6.196444     7.044033  7.044033  ...             0   \n",
       "\n",
       "   LE_CentralAir  LE_Electrical  LE_KitchenQual  LE_GarageType  \\\n",
       "0              1              5               2              1   \n",
       "1              1              5               3              1   \n",
       "2              1              5               2              1   \n",
       "3              1              5               2              5   \n",
       "4              1              5               2              1   \n",
       "\n",
       "   LE_GarageFinish  LE_GarageQual  LE_GarageCond  LE_PavedDrive  \\\n",
       "0                2              5              5              2   \n",
       "1                2              5              5              2   \n",
       "2                2              5              5              2   \n",
       "3                3              5              5              2   \n",
       "4                2              5              5              2   \n",
       "\n",
       "   LE_SaleCondition  \n",
       "0                 4  \n",
       "1                 4  \n",
       "2                 4  \n",
       "3                 0  \n",
       "4                 4  \n",
       "\n",
       "[5 rows x 40 columns]"
      ]
     },
     "execution_count": 50,
     "metadata": {},
     "output_type": "execute_result"
    }
   ],
   "source": [
    "scale_features = ['LotFrontage', 'LotArea', 'YearBuilt', 'YearRemodAdd',\n",
    "       'MasVnrArea', 'BsmtFinSF1', 'BsmtUnfSF', 'TotalBsmtSF', '1stFlrSF',\n",
    "       '2ndFlrSF', 'GrLivArea', 'GarageYrBlt',  'GarageArea',\n",
    "       'WoodDeckSF', 'OpenPorchSF', 'SalePrice']\n",
    "for sf in scale_features:\n",
    "    train[sf] = np.log1p(train[sf])\n",
    "train.head()    "
   ]
  },
  {
   "cell_type": "code",
   "execution_count": 51,
   "id": "eab39413",
   "metadata": {
    "ExecuteTime": {
     "end_time": "2021-04-21T08:25:47.738493Z",
     "start_time": "2021-04-21T08:25:47.709571Z"
    }
   },
   "outputs": [
    {
     "data": {
      "text/html": [
       "<div>\n",
       "<style scoped>\n",
       "    .dataframe tbody tr th:only-of-type {\n",
       "        vertical-align: middle;\n",
       "    }\n",
       "\n",
       "    .dataframe tbody tr th {\n",
       "        vertical-align: top;\n",
       "    }\n",
       "\n",
       "    .dataframe thead th {\n",
       "        text-align: right;\n",
       "    }\n",
       "</style>\n",
       "<table border=\"1\" class=\"dataframe\">\n",
       "  <thead>\n",
       "    <tr style=\"text-align: right;\">\n",
       "      <th></th>\n",
       "      <th>LotFrontage</th>\n",
       "      <th>LotArea</th>\n",
       "      <th>OverallQual</th>\n",
       "      <th>YearBuilt</th>\n",
       "      <th>YearRemodAdd</th>\n",
       "      <th>MasVnrArea</th>\n",
       "      <th>BsmtFinSF1</th>\n",
       "      <th>BsmtUnfSF</th>\n",
       "      <th>TotalBsmtSF</th>\n",
       "      <th>1stFlrSF</th>\n",
       "      <th>...</th>\n",
       "      <th>LE_HeatingQC</th>\n",
       "      <th>LE_CentralAir</th>\n",
       "      <th>LE_Electrical</th>\n",
       "      <th>LE_KitchenQual</th>\n",
       "      <th>LE_GarageType</th>\n",
       "      <th>LE_GarageFinish</th>\n",
       "      <th>LE_GarageQual</th>\n",
       "      <th>LE_GarageCond</th>\n",
       "      <th>LE_PavedDrive</th>\n",
       "      <th>LE_SaleCondition</th>\n",
       "    </tr>\n",
       "  </thead>\n",
       "  <tbody>\n",
       "    <tr>\n",
       "      <th>0</th>\n",
       "      <td>4.394449</td>\n",
       "      <td>9.360741</td>\n",
       "      <td>5</td>\n",
       "      <td>7.581720</td>\n",
       "      <td>7.581720</td>\n",
       "      <td>0.000000</td>\n",
       "      <td>6.150603</td>\n",
       "      <td>5.602119</td>\n",
       "      <td>6.783325</td>\n",
       "      <td>6.799056</td>\n",
       "      <td>...</td>\n",
       "      <td>4</td>\n",
       "      <td>1</td>\n",
       "      <td>5</td>\n",
       "      <td>3</td>\n",
       "      <td>1</td>\n",
       "      <td>3</td>\n",
       "      <td>5</td>\n",
       "      <td>5</td>\n",
       "      <td>2</td>\n",
       "      <td>4</td>\n",
       "    </tr>\n",
       "    <tr>\n",
       "      <th>1</th>\n",
       "      <td>4.406719</td>\n",
       "      <td>9.565775</td>\n",
       "      <td>6</td>\n",
       "      <td>7.580189</td>\n",
       "      <td>7.580189</td>\n",
       "      <td>4.691348</td>\n",
       "      <td>6.828712</td>\n",
       "      <td>6.008813</td>\n",
       "      <td>7.192934</td>\n",
       "      <td>7.192934</td>\n",
       "      <td>...</td>\n",
       "      <td>4</td>\n",
       "      <td>1</td>\n",
       "      <td>5</td>\n",
       "      <td>2</td>\n",
       "      <td>1</td>\n",
       "      <td>3</td>\n",
       "      <td>5</td>\n",
       "      <td>5</td>\n",
       "      <td>2</td>\n",
       "      <td>4</td>\n",
       "    </tr>\n",
       "    <tr>\n",
       "      <th>2</th>\n",
       "      <td>4.317488</td>\n",
       "      <td>9.534668</td>\n",
       "      <td>5</td>\n",
       "      <td>7.599902</td>\n",
       "      <td>7.600402</td>\n",
       "      <td>0.000000</td>\n",
       "      <td>6.674561</td>\n",
       "      <td>4.927254</td>\n",
       "      <td>6.834109</td>\n",
       "      <td>6.834109</td>\n",
       "      <td>...</td>\n",
       "      <td>2</td>\n",
       "      <td>1</td>\n",
       "      <td>5</td>\n",
       "      <td>3</td>\n",
       "      <td>1</td>\n",
       "      <td>0</td>\n",
       "      <td>5</td>\n",
       "      <td>5</td>\n",
       "      <td>2</td>\n",
       "      <td>4</td>\n",
       "    </tr>\n",
       "    <tr>\n",
       "      <th>3</th>\n",
       "      <td>4.369448</td>\n",
       "      <td>9.208238</td>\n",
       "      <td>6</td>\n",
       "      <td>7.600402</td>\n",
       "      <td>7.600402</td>\n",
       "      <td>3.044522</td>\n",
       "      <td>6.401917</td>\n",
       "      <td>5.783825</td>\n",
       "      <td>6.831954</td>\n",
       "      <td>6.831954</td>\n",
       "      <td>...</td>\n",
       "      <td>0</td>\n",
       "      <td>1</td>\n",
       "      <td>5</td>\n",
       "      <td>2</td>\n",
       "      <td>1</td>\n",
       "      <td>0</td>\n",
       "      <td>5</td>\n",
       "      <td>5</td>\n",
       "      <td>2</td>\n",
       "      <td>4</td>\n",
       "    </tr>\n",
       "    <tr>\n",
       "      <th>4</th>\n",
       "      <td>3.784190</td>\n",
       "      <td>8.518392</td>\n",
       "      <td>8</td>\n",
       "      <td>7.597396</td>\n",
       "      <td>7.597396</td>\n",
       "      <td>0.000000</td>\n",
       "      <td>5.575949</td>\n",
       "      <td>6.925595</td>\n",
       "      <td>7.155396</td>\n",
       "      <td>7.155396</td>\n",
       "      <td>...</td>\n",
       "      <td>0</td>\n",
       "      <td>1</td>\n",
       "      <td>5</td>\n",
       "      <td>2</td>\n",
       "      <td>1</td>\n",
       "      <td>2</td>\n",
       "      <td>5</td>\n",
       "      <td>5</td>\n",
       "      <td>2</td>\n",
       "      <td>4</td>\n",
       "    </tr>\n",
       "  </tbody>\n",
       "</table>\n",
       "<p>5 rows × 39 columns</p>\n",
       "</div>"
      ],
      "text/plain": [
       "   LotFrontage   LotArea  OverallQual  YearBuilt  YearRemodAdd  MasVnrArea  \\\n",
       "0     4.394449  9.360741            5   7.581720      7.581720    0.000000   \n",
       "1     4.406719  9.565775            6   7.580189      7.580189    4.691348   \n",
       "2     4.317488  9.534668            5   7.599902      7.600402    0.000000   \n",
       "3     4.369448  9.208238            6   7.600402      7.600402    3.044522   \n",
       "4     3.784190  8.518392            8   7.597396      7.597396    0.000000   \n",
       "\n",
       "   BsmtFinSF1  BsmtUnfSF  TotalBsmtSF  1stFlrSF  ...  LE_HeatingQC  \\\n",
       "0    6.150603   5.602119     6.783325  6.799056  ...             4   \n",
       "1    6.828712   6.008813     7.192934  7.192934  ...             4   \n",
       "2    6.674561   4.927254     6.834109  6.834109  ...             2   \n",
       "3    6.401917   5.783825     6.831954  6.831954  ...             0   \n",
       "4    5.575949   6.925595     7.155396  7.155396  ...             0   \n",
       "\n",
       "   LE_CentralAir  LE_Electrical  LE_KitchenQual  LE_GarageType  \\\n",
       "0              1              5               3              1   \n",
       "1              1              5               2              1   \n",
       "2              1              5               3              1   \n",
       "3              1              5               2              1   \n",
       "4              1              5               2              1   \n",
       "\n",
       "   LE_GarageFinish  LE_GarageQual  LE_GarageCond  LE_PavedDrive  \\\n",
       "0                3              5              5              2   \n",
       "1                3              5              5              2   \n",
       "2                0              5              5              2   \n",
       "3                0              5              5              2   \n",
       "4                2              5              5              2   \n",
       "\n",
       "   LE_SaleCondition  \n",
       "0                 4  \n",
       "1                 4  \n",
       "2                 4  \n",
       "3                 4  \n",
       "4                 4  \n",
       "\n",
       "[5 rows x 39 columns]"
      ]
     },
     "execution_count": 51,
     "metadata": {},
     "output_type": "execute_result"
    }
   ],
   "source": [
    "scale_features = ['LotFrontage', 'LotArea', 'YearBuilt', 'YearRemodAdd',\n",
    "       'MasVnrArea', 'BsmtFinSF1', 'BsmtUnfSF', 'TotalBsmtSF', '1stFlrSF',\n",
    "       '2ndFlrSF', 'GrLivArea', 'GarageYrBlt',  'GarageArea',\n",
    "       'WoodDeckSF', 'OpenPorchSF']\n",
    "for sf in scale_features:\n",
    "    test[sf] = np.log1p(test[sf])\n",
    "test.head()    "
   ]
  },
  {
   "cell_type": "code",
   "execution_count": 52,
   "id": "63b4a049",
   "metadata": {
    "ExecuteTime": {
     "end_time": "2021-04-21T08:25:47.768413Z",
     "start_time": "2021-04-21T08:25:47.739490Z"
    }
   },
   "outputs": [
    {
     "name": "stdout",
     "output_type": "stream",
     "text": [
      "SalePrice           1.000000\n",
      "OverallQual         0.817185\n",
      "GrLivArea           0.730254\n",
      "GarageCars          0.680625\n",
      "1stFlrSF            0.608955\n",
      "FullBath            0.594771\n",
      "YearBuilt           0.584443\n",
      "YearRemodAdd        0.565590\n",
      "TotRmsAbvGrd        0.534422\n",
      "Fireplaces          0.489450\n",
      "OpenPorchSF         0.459948\n",
      "GarageArea          0.454898\n",
      "MasVnrArea          0.413318\n",
      "LE_Foundation       0.412083\n",
      "LotArea             0.399923\n",
      "TotalBsmtSF         0.372838\n",
      "LE_CentralAir       0.351599\n",
      "LotFrontage         0.346651\n",
      "WoodDeckSF          0.343039\n",
      "GarageYrBlt         0.326485\n",
      "LE_GarageCond       0.323691\n",
      "HalfBath            0.313982\n",
      "LE_PavedDrive       0.304687\n",
      "LE_Electrical       0.297400\n",
      "LE_GarageQual       0.275692\n",
      "LE_SaleCondition    0.248819\n",
      "BsmtFullBath        0.236224\n",
      "BsmtUnfSF           0.208233\n",
      "BsmtFinSF1          0.208099\n",
      "LE_Neighborhood     0.201685\n",
      "LE_RoofStyle        0.186917\n",
      "2ndFlrSF            0.180778\n",
      "LE_BsmtExposure    -0.277372\n",
      "LE_LotShape        -0.278091\n",
      "LE_GarageFinish    -0.417405\n",
      "LE_HeatingQC       -0.425906\n",
      "LE_GarageType      -0.503129\n",
      "LE_KitchenQual     -0.534387\n",
      "LE_BsmtQual        -0.576969\n",
      "LE_ExterQual       -0.582164\n",
      "dtype: float64\n"
     ]
    }
   ],
   "source": [
    "corr_s = train.corrwith(train[\"SalePrice\"]).sort_values(ascending=False)\n",
    "print(corr_s)"
   ]
  },
  {
   "cell_type": "code",
   "execution_count": 53,
   "id": "ac93a005",
   "metadata": {
    "ExecuteTime": {
     "end_time": "2021-04-21T08:25:47.783877Z",
     "start_time": "2021-04-21T08:25:47.769411Z"
    }
   },
   "outputs": [
    {
     "name": "stdout",
     "output_type": "stream",
     "text": [
      "Index(['LE_RoofStyle', '2ndFlrSF'], dtype='object')\n"
     ]
    }
   ],
   "source": [
    "corr_features_list = corr_s[abs(corr_s)<0.2]\n",
    "print(corr_features_list.index)"
   ]
  },
  {
   "cell_type": "code",
   "execution_count": 54,
   "id": "adf0820b",
   "metadata": {
    "ExecuteTime": {
     "end_time": "2021-04-21T08:25:47.799835Z",
     "start_time": "2021-04-21T08:25:47.784875Z"
    }
   },
   "outputs": [],
   "source": [
    "train.drop(corr_features_list.index, axis=1, inplace=True)\n",
    "test.drop(corr_features_list.index, axis=1, inplace=True)"
   ]
  },
  {
   "cell_type": "code",
   "execution_count": 55,
   "id": "e74b43d2",
   "metadata": {
    "ExecuteTime": {
     "end_time": "2021-04-21T08:25:47.815792Z",
     "start_time": "2021-04-21T08:25:47.801830Z"
    }
   },
   "outputs": [
    {
     "name": "stdout",
     "output_type": "stream",
     "text": [
      "(1460, 38) (1459, 37)\n"
     ]
    }
   ],
   "source": [
    "print(train.shape, test.shape)"
   ]
  },
  {
   "cell_type": "code",
   "execution_count": null,
   "id": "c2401b7f",
   "metadata": {},
   "outputs": [],
   "source": []
  },
  {
   "cell_type": "code",
   "execution_count": null,
   "id": "81f585ec",
   "metadata": {},
   "outputs": [],
   "source": []
  },
  {
   "cell_type": "code",
   "execution_count": null,
   "id": "d15d0860",
   "metadata": {},
   "outputs": [],
   "source": []
  },
  {
   "cell_type": "code",
   "execution_count": null,
   "id": "d64c1080",
   "metadata": {},
   "outputs": [],
   "source": []
  },
  {
   "cell_type": "code",
   "execution_count": 56,
   "id": "349fb3e8",
   "metadata": {
    "ExecuteTime": {
     "end_time": "2021-04-21T08:25:47.831749Z",
     "start_time": "2021-04-21T08:25:47.816789Z"
    }
   },
   "outputs": [
    {
     "name": "stdout",
     "output_type": "stream",
     "text": [
      "Index(['LotFrontage', 'LotArea', 'OverallQual', 'YearBuilt', 'YearRemodAdd',\n",
      "       'MasVnrArea', 'BsmtFinSF1', 'BsmtUnfSF', 'TotalBsmtSF', '1stFlrSF',\n",
      "       'GrLivArea', 'BsmtFullBath', 'FullBath', 'HalfBath', 'TotRmsAbvGrd',\n",
      "       'Fireplaces', 'GarageYrBlt', 'GarageCars', 'GarageArea', 'WoodDeckSF',\n",
      "       'OpenPorchSF', 'SalePrice', 'LE_LotShape', 'LE_Neighborhood',\n",
      "       'LE_ExterQual', 'LE_Foundation', 'LE_BsmtQual', 'LE_BsmtExposure',\n",
      "       'LE_HeatingQC', 'LE_CentralAir', 'LE_Electrical', 'LE_KitchenQual',\n",
      "       'LE_GarageType', 'LE_GarageFinish', 'LE_GarageQual', 'LE_GarageCond',\n",
      "       'LE_PavedDrive', 'LE_SaleCondition'],\n",
      "      dtype='object')\n",
      "Index(['LotFrontage', 'LotArea', 'OverallQual', 'YearBuilt', 'YearRemodAdd',\n",
      "       'MasVnrArea', 'BsmtFinSF1', 'BsmtUnfSF', 'TotalBsmtSF', '1stFlrSF',\n",
      "       'GrLivArea', 'BsmtFullBath', 'FullBath', 'HalfBath', 'TotRmsAbvGrd',\n",
      "       'Fireplaces', 'GarageYrBlt', 'GarageCars', 'GarageArea', 'WoodDeckSF',\n",
      "       'OpenPorchSF', 'LE_LotShape', 'LE_Neighborhood', 'LE_ExterQual',\n",
      "       'LE_Foundation', 'LE_BsmtQual', 'LE_BsmtExposure', 'LE_HeatingQC',\n",
      "       'LE_CentralAir', 'LE_Electrical', 'LE_KitchenQual', 'LE_GarageType',\n",
      "       'LE_GarageFinish', 'LE_GarageQual', 'LE_GarageCond', 'LE_PavedDrive',\n",
      "       'LE_SaleCondition'],\n",
      "      dtype='object')\n"
     ]
    }
   ],
   "source": [
    "print(train.columns)\n",
    "print(test.columns)"
   ]
  },
  {
   "cell_type": "code",
   "execution_count": 57,
   "id": "79c4a1f6",
   "metadata": {
    "ExecuteTime": {
     "end_time": "2021-04-21T08:25:47.847706Z",
     "start_time": "2021-04-21T08:25:47.832747Z"
    }
   },
   "outputs": [
    {
     "name": "stdout",
     "output_type": "stream",
     "text": [
      "<class 'pandas.core.frame.DataFrame'>\n",
      "RangeIndex: 1460 entries, 0 to 1459\n",
      "Data columns (total 38 columns):\n",
      " #   Column            Non-Null Count  Dtype  \n",
      "---  ------            --------------  -----  \n",
      " 0   LotFrontage       1460 non-null   float64\n",
      " 1   LotArea           1460 non-null   float64\n",
      " 2   OverallQual       1460 non-null   int64  \n",
      " 3   YearBuilt         1460 non-null   float64\n",
      " 4   YearRemodAdd      1460 non-null   float64\n",
      " 5   MasVnrArea        1460 non-null   float64\n",
      " 6   BsmtFinSF1        1460 non-null   float64\n",
      " 7   BsmtUnfSF         1460 non-null   float64\n",
      " 8   TotalBsmtSF       1460 non-null   float64\n",
      " 9   1stFlrSF          1460 non-null   float64\n",
      " 10  GrLivArea         1460 non-null   float64\n",
      " 11  BsmtFullBath      1460 non-null   int64  \n",
      " 12  FullBath          1460 non-null   int64  \n",
      " 13  HalfBath          1460 non-null   int64  \n",
      " 14  TotRmsAbvGrd      1460 non-null   int64  \n",
      " 15  Fireplaces        1460 non-null   int64  \n",
      " 16  GarageYrBlt       1460 non-null   float64\n",
      " 17  GarageCars        1460 non-null   int64  \n",
      " 18  GarageArea        1460 non-null   float64\n",
      " 19  WoodDeckSF        1460 non-null   float64\n",
      " 20  OpenPorchSF       1460 non-null   float64\n",
      " 21  SalePrice         1460 non-null   float64\n",
      " 22  LE_LotShape       1460 non-null   int32  \n",
      " 23  LE_Neighborhood   1460 non-null   int32  \n",
      " 24  LE_ExterQual      1460 non-null   int32  \n",
      " 25  LE_Foundation     1460 non-null   int32  \n",
      " 26  LE_BsmtQual       1460 non-null   int32  \n",
      " 27  LE_BsmtExposure   1460 non-null   int32  \n",
      " 28  LE_HeatingQC      1460 non-null   int32  \n",
      " 29  LE_CentralAir     1460 non-null   int32  \n",
      " 30  LE_Electrical     1460 non-null   int32  \n",
      " 31  LE_KitchenQual    1460 non-null   int32  \n",
      " 32  LE_GarageType     1460 non-null   int32  \n",
      " 33  LE_GarageFinish   1460 non-null   int32  \n",
      " 34  LE_GarageQual     1460 non-null   int32  \n",
      " 35  LE_GarageCond     1460 non-null   int32  \n",
      " 36  LE_PavedDrive     1460 non-null   int32  \n",
      " 37  LE_SaleCondition  1460 non-null   int32  \n",
      "dtypes: float64(15), int32(16), int64(7)\n",
      "memory usage: 342.3 KB\n"
     ]
    }
   ],
   "source": [
    "train.info()"
   ]
  },
  {
   "cell_type": "code",
   "execution_count": 58,
   "id": "b4e68d26",
   "metadata": {
    "ExecuteTime": {
     "end_time": "2021-04-21T08:25:47.863664Z",
     "start_time": "2021-04-21T08:25:47.848704Z"
    }
   },
   "outputs": [
    {
     "name": "stdout",
     "output_type": "stream",
     "text": [
      "<class 'pandas.core.frame.DataFrame'>\n",
      "RangeIndex: 1459 entries, 0 to 1458\n",
      "Data columns (total 37 columns):\n",
      " #   Column            Non-Null Count  Dtype  \n",
      "---  ------            --------------  -----  \n",
      " 0   LotFrontage       1459 non-null   float64\n",
      " 1   LotArea           1459 non-null   float64\n",
      " 2   OverallQual       1459 non-null   int64  \n",
      " 3   YearBuilt         1459 non-null   float64\n",
      " 4   YearRemodAdd      1459 non-null   float64\n",
      " 5   MasVnrArea        1459 non-null   float64\n",
      " 6   BsmtFinSF1        1459 non-null   float64\n",
      " 7   BsmtUnfSF         1459 non-null   float64\n",
      " 8   TotalBsmtSF       1459 non-null   float64\n",
      " 9   1stFlrSF          1459 non-null   float64\n",
      " 10  GrLivArea         1459 non-null   float64\n",
      " 11  BsmtFullBath      1459 non-null   int32  \n",
      " 12  FullBath          1459 non-null   int64  \n",
      " 13  HalfBath          1459 non-null   int64  \n",
      " 14  TotRmsAbvGrd      1459 non-null   int64  \n",
      " 15  Fireplaces        1459 non-null   int64  \n",
      " 16  GarageYrBlt       1459 non-null   float64\n",
      " 17  GarageCars        1459 non-null   int32  \n",
      " 18  GarageArea        1459 non-null   float64\n",
      " 19  WoodDeckSF        1459 non-null   float64\n",
      " 20  OpenPorchSF       1459 non-null   float64\n",
      " 21  LE_LotShape       1459 non-null   int32  \n",
      " 22  LE_Neighborhood   1459 non-null   int32  \n",
      " 23  LE_ExterQual      1459 non-null   int32  \n",
      " 24  LE_Foundation     1459 non-null   int32  \n",
      " 25  LE_BsmtQual       1459 non-null   int32  \n",
      " 26  LE_BsmtExposure   1459 non-null   int32  \n",
      " 27  LE_HeatingQC      1459 non-null   int32  \n",
      " 28  LE_CentralAir     1459 non-null   int32  \n",
      " 29  LE_Electrical     1459 non-null   int32  \n",
      " 30  LE_KitchenQual    1459 non-null   int32  \n",
      " 31  LE_GarageType     1459 non-null   int32  \n",
      " 32  LE_GarageFinish   1459 non-null   int32  \n",
      " 33  LE_GarageQual     1459 non-null   int32  \n",
      " 34  LE_GarageCond     1459 non-null   int32  \n",
      " 35  LE_PavedDrive     1459 non-null   int32  \n",
      " 36  LE_SaleCondition  1459 non-null   int32  \n",
      "dtypes: float64(14), int32(18), int64(5)\n",
      "memory usage: 319.3 KB\n"
     ]
    }
   ],
   "source": [
    "test.info()"
   ]
  },
  {
   "cell_type": "code",
   "execution_count": 59,
   "id": "1b292950",
   "metadata": {
    "ExecuteTime": {
     "end_time": "2021-04-21T08:25:47.879621Z",
     "start_time": "2021-04-21T08:25:47.864662Z"
    }
   },
   "outputs": [],
   "source": [
    "# cols = train.select_dtypes(include='float').columns\n",
    "# print(cols)\n",
    "# train[cols] = train[cols].astype(int)"
   ]
  },
  {
   "cell_type": "code",
   "execution_count": null,
   "id": "91c3c5da",
   "metadata": {},
   "outputs": [],
   "source": []
  },
  {
   "cell_type": "code",
   "execution_count": null,
   "id": "0fc18f3c",
   "metadata": {},
   "outputs": [],
   "source": []
  },
  {
   "cell_type": "code",
   "execution_count": null,
   "id": "4abe2c5b",
   "metadata": {},
   "outputs": [],
   "source": []
  },
  {
   "cell_type": "code",
   "execution_count": null,
   "id": "677cf86d",
   "metadata": {},
   "outputs": [],
   "source": []
  },
  {
   "cell_type": "code",
   "execution_count": null,
   "id": "9dd20f35",
   "metadata": {},
   "outputs": [],
   "source": []
  },
  {
   "cell_type": "code",
   "execution_count": null,
   "id": "60073073",
   "metadata": {},
   "outputs": [],
   "source": []
  },
  {
   "cell_type": "markdown",
   "id": "99685971",
   "metadata": {},
   "source": [
    "## 점수확인"
   ]
  },
  {
   "cell_type": "markdown",
   "id": "269749bf",
   "metadata": {},
   "source": [
    "### columns 37"
   ]
  },
  {
   "cell_type": "code",
   "execution_count": 88,
   "id": "7c2dfc8c",
   "metadata": {
    "ExecuteTime": {
     "end_time": "2021-04-21T08:34:37.666255Z",
     "start_time": "2021-04-21T08:34:37.654285Z"
    }
   },
   "outputs": [
    {
     "name": "stdout",
     "output_type": "stream",
     "text": [
      "(1460, 37) (1460,)\n",
      "(1168, 37) (1168,)\n"
     ]
    }
   ],
   "source": [
    "X_df = train.drop([\"SalePrice\"], axis=1)\n",
    "y_df = train[\"SalePrice\"]\n",
    "\n",
    "X_train, X_val, y_train, y_val = train_test_split(X_df, y_df, test_size=0.2, shuffle=True, random_state = 121)\n",
    "print(X_df.shape, y_df.shape)\n",
    "print(X_train.shape, y_train.shape)"
   ]
  },
  {
   "cell_type": "code",
   "execution_count": 90,
   "id": "52ed3503",
   "metadata": {
    "ExecuteTime": {
     "end_time": "2021-04-21T08:35:02.466640Z",
     "start_time": "2021-04-21T08:35:02.458657Z"
    }
   },
   "outputs": [],
   "source": [
    "# LinearRegression()\n",
    "lasso = Lasso(alpha=1.0)    # a*|W|\n",
    "ridge = Ridge(alpha=1.0)    # a*W^2\n",
    "elsnet = ElasticNet(alpha=1.0, l1_ratio=0.2)  # Lasso + Ridge      # 0.2(a*|W|) + 0.8(a*W^2)"
   ]
  },
  {
   "cell_type": "code",
   "execution_count": 91,
   "id": "6ba9b37b",
   "metadata": {
    "ExecuteTime": {
     "end_time": "2021-04-21T08:35:03.674911Z",
     "start_time": "2021-04-21T08:35:03.651972Z"
    }
   },
   "outputs": [
    {
     "name": "stdout",
     "output_type": "stream",
     "text": [
      "Lasso MSE:0.15270 RMSE:0.39077\n",
      "Ridge MSE:0.01522 RMSE:0.12338\n",
      "ElasticNet MSE:0.07161 RMSE:0.26761\n"
     ]
    }
   ],
   "source": [
    "models = [lasso, ridge, elsnet]\n",
    "for model in models:\n",
    "    model.fit(X_train, y_train)\n",
    "    pred = model.predict(X_val)\n",
    "    mse = mean_squared_error(y_val, pred, squared=True)\n",
    "    rmse = mean_squared_error(y_val, pred, squared=False)\n",
    "    print(f'{model.__class__.__name__} MSE:{mse:.5f} RMSE:{rmse:.5f}') \n",
    "    \n",
    "# Lasso MSE:0.15270 RMSE:0.39077\n",
    "# Ridge MSE:0.01522 RMSE:0.12338\n",
    "# ElasticNet MSE:0.07162 RMSE:0.26761"
   ]
  },
  {
   "cell_type": "code",
   "execution_count": 92,
   "id": "f9e4f7d4",
   "metadata": {
    "ExecuteTime": {
     "end_time": "2021-04-21T08:35:06.992602Z",
     "start_time": "2021-04-21T08:35:06.760212Z"
    }
   },
   "outputs": [
    {
     "name": "stdout",
     "output_type": "stream",
     "text": [
      "RMSE: 0.14496\n",
      "{'alpha': 0.01}\n"
     ]
    }
   ],
   "source": [
    "cv_model = GridSearchCV(ridge, param_grid={'alpha':[0.01, 0.05, 1.0, 5.0, 10]},\n",
    "            scoring='neg_root_mean_squared_error',\n",
    "            cv = 10, refit=True)\n",
    "cv_model.fit(X_train, y_train)\n",
    "print(f'RMSE: {cv_model.best_score_ * -1:.5f}')\n",
    "print(cv_model.best_params_)"
   ]
  },
  {
   "cell_type": "code",
   "execution_count": 93,
   "id": "21bef565",
   "metadata": {
    "ExecuteTime": {
     "end_time": "2021-04-21T08:35:07.271870Z",
     "start_time": "2021-04-21T08:35:07.260900Z"
    }
   },
   "outputs": [
    {
     "name": "stdout",
     "output_type": "stream",
     "text": [
      "MSE:0.01502 RMSE:0.12257\n"
     ]
    }
   ],
   "source": [
    "pred = cv_model.predict(X_val)  \n",
    "#print(pred)\n",
    "mse = mean_squared_error(y_val, pred, squared=True)\n",
    "rmse = mean_squared_error(y_val, pred, squared=False)\n",
    "print(f'MSE:{mse:.5f} RMSE:{rmse:.5f}')\n",
    "\n",
    "# MSE:0.01502 RMSE:0.12257"
   ]
  },
  {
   "cell_type": "code",
   "execution_count": null,
   "id": "b97a719d",
   "metadata": {},
   "outputs": [],
   "source": []
  },
  {
   "cell_type": "code",
   "execution_count": null,
   "id": "97372feb",
   "metadata": {},
   "outputs": [],
   "source": []
  },
  {
   "cell_type": "code",
   "execution_count": 94,
   "id": "8478648b",
   "metadata": {
    "ExecuteTime": {
     "end_time": "2021-04-21T08:35:15.459205Z",
     "start_time": "2021-04-21T08:35:15.447237Z"
    }
   },
   "outputs": [],
   "source": [
    "pred = cv_model.predict(test)"
   ]
  },
  {
   "cell_type": "code",
   "execution_count": 100,
   "id": "585419e4",
   "metadata": {
    "ExecuteTime": {
     "end_time": "2021-04-21T08:37:00.726502Z",
     "start_time": "2021-04-21T08:37:00.708541Z"
    }
   },
   "outputs": [
    {
     "name": "stdout",
     "output_type": "stream",
     "text": [
      "[11.620085   11.98279801 12.10407545 ... 11.946353   11.70698952\n",
      " 12.37566468]\n",
      "[111310.181942 159978.027716 180605.416378 ... 154252.556559 121416.405497\n",
      " 236963.276358]\n"
     ]
    }
   ],
   "source": [
    "print(pred) #sclaer된 pred\n",
    "\n",
    "predo = np.round(np.expm1(pred), 6)\n",
    "print(predo)"
   ]
  },
  {
   "cell_type": "code",
   "execution_count": 101,
   "id": "4b0a82d1",
   "metadata": {
    "ExecuteTime": {
     "end_time": "2021-04-21T08:37:01.843052Z",
     "start_time": "2021-04-21T08:37:01.833079Z"
    }
   },
   "outputs": [
    {
     "data": {
      "text/html": [
       "<div>\n",
       "<style scoped>\n",
       "    .dataframe tbody tr th:only-of-type {\n",
       "        vertical-align: middle;\n",
       "    }\n",
       "\n",
       "    .dataframe tbody tr th {\n",
       "        vertical-align: top;\n",
       "    }\n",
       "\n",
       "    .dataframe thead th {\n",
       "        text-align: right;\n",
       "    }\n",
       "</style>\n",
       "<table border=\"1\" class=\"dataframe\">\n",
       "  <thead>\n",
       "    <tr style=\"text-align: right;\">\n",
       "      <th></th>\n",
       "      <th>Id</th>\n",
       "      <th>SalePrice</th>\n",
       "    </tr>\n",
       "  </thead>\n",
       "  <tbody>\n",
       "    <tr>\n",
       "      <th>0</th>\n",
       "      <td>1461</td>\n",
       "      <td>111310.2</td>\n",
       "    </tr>\n",
       "    <tr>\n",
       "      <th>1</th>\n",
       "      <td>1462</td>\n",
       "      <td>159978.0</td>\n",
       "    </tr>\n",
       "    <tr>\n",
       "      <th>2</th>\n",
       "      <td>1463</td>\n",
       "      <td>180605.4</td>\n",
       "    </tr>\n",
       "    <tr>\n",
       "      <th>3</th>\n",
       "      <td>1464</td>\n",
       "      <td>196287.1</td>\n",
       "    </tr>\n",
       "    <tr>\n",
       "      <th>4</th>\n",
       "      <td>1465</td>\n",
       "      <td>199137.4</td>\n",
       "    </tr>\n",
       "    <tr>\n",
       "      <th>...</th>\n",
       "      <td>...</td>\n",
       "      <td>...</td>\n",
       "    </tr>\n",
       "    <tr>\n",
       "      <th>1454</th>\n",
       "      <td>2915</td>\n",
       "      <td>81867.9</td>\n",
       "    </tr>\n",
       "    <tr>\n",
       "      <th>1455</th>\n",
       "      <td>2916</td>\n",
       "      <td>83855.3</td>\n",
       "    </tr>\n",
       "    <tr>\n",
       "      <th>1456</th>\n",
       "      <td>2917</td>\n",
       "      <td>154252.6</td>\n",
       "    </tr>\n",
       "    <tr>\n",
       "      <th>1457</th>\n",
       "      <td>2918</td>\n",
       "      <td>121416.4</td>\n",
       "    </tr>\n",
       "    <tr>\n",
       "      <th>1458</th>\n",
       "      <td>2919</td>\n",
       "      <td>236963.3</td>\n",
       "    </tr>\n",
       "  </tbody>\n",
       "</table>\n",
       "<p>1459 rows × 2 columns</p>\n",
       "</div>"
      ],
      "text/plain": [
       "        Id  SalePrice\n",
       "0     1461   111310.2\n",
       "1     1462   159978.0\n",
       "2     1463   180605.4\n",
       "3     1464   196287.1\n",
       "4     1465   199137.4\n",
       "...    ...        ...\n",
       "1454  2915    81867.9\n",
       "1455  2916    83855.3\n",
       "1456  2917   154252.6\n",
       "1457  2918   121416.4\n",
       "1458  2919   236963.3\n",
       "\n",
       "[1459 rows x 2 columns]"
      ]
     },
     "execution_count": 101,
     "metadata": {},
     "output_type": "execute_result"
    }
   ],
   "source": [
    "sub_df"
   ]
  },
  {
   "cell_type": "code",
   "execution_count": 102,
   "id": "064a4a9b",
   "metadata": {
    "ExecuteTime": {
     "end_time": "2021-04-21T08:37:05.578170Z",
     "start_time": "2021-04-21T08:37:05.568197Z"
    }
   },
   "outputs": [
    {
     "name": "stdout",
     "output_type": "stream",
     "text": [
      "(1459, 2)\n",
      "1459\n"
     ]
    }
   ],
   "source": [
    "print(sub_df.shape)\n",
    "print(len(predo))"
   ]
  },
  {
   "cell_type": "code",
   "execution_count": 103,
   "id": "b513048b",
   "metadata": {
    "ExecuteTime": {
     "end_time": "2021-04-21T08:37:09.702714Z",
     "start_time": "2021-04-21T08:37:09.685760Z"
    }
   },
   "outputs": [],
   "source": [
    "sub_df[\"SalePrice\"] = np.array(predo).reshape(-1, 1)"
   ]
  },
  {
   "cell_type": "code",
   "execution_count": 104,
   "id": "1c09af3b",
   "metadata": {
    "ExecuteTime": {
     "end_time": "2021-04-21T08:37:10.191420Z",
     "start_time": "2021-04-21T08:37:10.180449Z"
    }
   },
   "outputs": [
    {
     "data": {
      "text/html": [
       "<div>\n",
       "<style scoped>\n",
       "    .dataframe tbody tr th:only-of-type {\n",
       "        vertical-align: middle;\n",
       "    }\n",
       "\n",
       "    .dataframe tbody tr th {\n",
       "        vertical-align: top;\n",
       "    }\n",
       "\n",
       "    .dataframe thead th {\n",
       "        text-align: right;\n",
       "    }\n",
       "</style>\n",
       "<table border=\"1\" class=\"dataframe\">\n",
       "  <thead>\n",
       "    <tr style=\"text-align: right;\">\n",
       "      <th></th>\n",
       "      <th>Id</th>\n",
       "      <th>SalePrice</th>\n",
       "    </tr>\n",
       "  </thead>\n",
       "  <tbody>\n",
       "    <tr>\n",
       "      <th>0</th>\n",
       "      <td>1461</td>\n",
       "      <td>111310.181942</td>\n",
       "    </tr>\n",
       "    <tr>\n",
       "      <th>1</th>\n",
       "      <td>1462</td>\n",
       "      <td>159978.027716</td>\n",
       "    </tr>\n",
       "    <tr>\n",
       "      <th>2</th>\n",
       "      <td>1463</td>\n",
       "      <td>180605.416378</td>\n",
       "    </tr>\n",
       "    <tr>\n",
       "      <th>3</th>\n",
       "      <td>1464</td>\n",
       "      <td>196287.084582</td>\n",
       "    </tr>\n",
       "    <tr>\n",
       "      <th>4</th>\n",
       "      <td>1465</td>\n",
       "      <td>199137.423449</td>\n",
       "    </tr>\n",
       "    <tr>\n",
       "      <th>...</th>\n",
       "      <td>...</td>\n",
       "      <td>...</td>\n",
       "    </tr>\n",
       "    <tr>\n",
       "      <th>1454</th>\n",
       "      <td>2915</td>\n",
       "      <td>81867.928705</td>\n",
       "    </tr>\n",
       "    <tr>\n",
       "      <th>1455</th>\n",
       "      <td>2916</td>\n",
       "      <td>83855.296475</td>\n",
       "    </tr>\n",
       "    <tr>\n",
       "      <th>1456</th>\n",
       "      <td>2917</td>\n",
       "      <td>154252.556559</td>\n",
       "    </tr>\n",
       "    <tr>\n",
       "      <th>1457</th>\n",
       "      <td>2918</td>\n",
       "      <td>121416.405497</td>\n",
       "    </tr>\n",
       "    <tr>\n",
       "      <th>1458</th>\n",
       "      <td>2919</td>\n",
       "      <td>236963.276358</td>\n",
       "    </tr>\n",
       "  </tbody>\n",
       "</table>\n",
       "<p>1459 rows × 2 columns</p>\n",
       "</div>"
      ],
      "text/plain": [
       "        Id      SalePrice\n",
       "0     1461  111310.181942\n",
       "1     1462  159978.027716\n",
       "2     1463  180605.416378\n",
       "3     1464  196287.084582\n",
       "4     1465  199137.423449\n",
       "...    ...            ...\n",
       "1454  2915   81867.928705\n",
       "1455  2916   83855.296475\n",
       "1456  2917  154252.556559\n",
       "1457  2918  121416.405497\n",
       "1458  2919  236963.276358\n",
       "\n",
       "[1459 rows x 2 columns]"
      ]
     },
     "execution_count": 104,
     "metadata": {},
     "output_type": "execute_result"
    }
   ],
   "source": [
    "sub_df"
   ]
  },
  {
   "cell_type": "code",
   "execution_count": 105,
   "id": "ecb8cb37",
   "metadata": {
    "ExecuteTime": {
     "end_time": "2021-04-21T08:37:40.322366Z",
     "start_time": "2021-04-21T08:37:40.309401Z"
    }
   },
   "outputs": [],
   "source": [
    "sub_df.to_csv(\"gcv_submission.csv\", index=False)"
   ]
  },
  {
   "cell_type": "code",
   "execution_count": null,
   "id": "d25c0e68",
   "metadata": {},
   "outputs": [],
   "source": []
  },
  {
   "cell_type": "markdown",
   "id": "6934df9d",
   "metadata": {},
   "source": [
    "### columns 28"
   ]
  },
  {
   "cell_type": "code",
   "execution_count": 106,
   "id": "f42e7660",
   "metadata": {
    "ExecuteTime": {
     "end_time": "2021-04-21T09:01:13.526103Z",
     "start_time": "2021-04-21T09:01:13.505159Z"
    }
   },
   "outputs": [
    {
     "name": "stdout",
     "output_type": "stream",
     "text": [
      "SalePrice           1.000000\n",
      "OverallQual         0.817185\n",
      "GrLivArea           0.730254\n",
      "GarageCars          0.680625\n",
      "1stFlrSF            0.608955\n",
      "FullBath            0.594771\n",
      "YearBuilt           0.584443\n",
      "YearRemodAdd        0.565590\n",
      "TotRmsAbvGrd        0.534422\n",
      "Fireplaces          0.489450\n",
      "OpenPorchSF         0.459948\n",
      "GarageArea          0.454898\n",
      "MasVnrArea          0.413318\n",
      "LE_Foundation       0.412083\n",
      "LotArea             0.399923\n",
      "TotalBsmtSF         0.372838\n",
      "LE_CentralAir       0.351599\n",
      "LotFrontage         0.346651\n",
      "WoodDeckSF          0.343039\n",
      "GarageYrBlt         0.326485\n",
      "LE_GarageCond       0.323691\n",
      "HalfBath            0.313982\n",
      "LE_PavedDrive       0.304687\n",
      "LE_Electrical       0.297400\n",
      "LE_GarageQual       0.275692\n",
      "LE_SaleCondition    0.248819\n",
      "BsmtFullBath        0.236224\n",
      "BsmtUnfSF           0.208233\n",
      "BsmtFinSF1          0.208099\n",
      "LE_Neighborhood     0.201685\n",
      "LE_BsmtExposure    -0.277372\n",
      "LE_LotShape        -0.278091\n",
      "LE_GarageFinish    -0.417405\n",
      "LE_HeatingQC       -0.425906\n",
      "LE_GarageType      -0.503129\n",
      "LE_KitchenQual     -0.534387\n",
      "LE_BsmtQual        -0.576969\n",
      "LE_ExterQual       -0.582164\n",
      "dtype: float64\n"
     ]
    }
   ],
   "source": [
    "corr_s = train.corrwith(train[\"SalePrice\"]).sort_values(ascending=False)\n",
    "print(corr_s)"
   ]
  },
  {
   "cell_type": "code",
   "execution_count": 107,
   "id": "f2e807e8",
   "metadata": {
    "ExecuteTime": {
     "end_time": "2021-04-21T09:03:22.281834Z",
     "start_time": "2021-04-21T09:03:22.274853Z"
    }
   },
   "outputs": [
    {
     "name": "stdout",
     "output_type": "stream",
     "text": [
      "Index(['LE_Electrical', 'LE_GarageQual', 'LE_SaleCondition', 'BsmtFullBath',\n",
      "       'BsmtUnfSF', 'BsmtFinSF1', 'LE_Neighborhood', 'LE_BsmtExposure',\n",
      "       'LE_LotShape'],\n",
      "      dtype='object')\n"
     ]
    }
   ],
   "source": [
    "corr_features_list = corr_s[abs(corr_s)<0.3]\n",
    "print(corr_features_list.index)"
   ]
  },
  {
   "cell_type": "code",
   "execution_count": 108,
   "id": "93ef53e0",
   "metadata": {
    "ExecuteTime": {
     "end_time": "2021-04-21T09:03:26.133707Z",
     "start_time": "2021-04-21T09:03:26.119745Z"
    }
   },
   "outputs": [
    {
     "name": "stdout",
     "output_type": "stream",
     "text": [
      "(1460, 29) (1459, 28)\n"
     ]
    }
   ],
   "source": [
    "train.drop(corr_features_list.index, axis=1, inplace=True)\n",
    "test.drop(corr_features_list.index, axis=1, inplace=True)\n",
    "\n",
    "print(train.shape, test.shape)"
   ]
  },
  {
   "cell_type": "code",
   "execution_count": null,
   "id": "543b0f2a",
   "metadata": {},
   "outputs": [],
   "source": []
  },
  {
   "cell_type": "code",
   "execution_count": 109,
   "id": "d92f30bd",
   "metadata": {
    "ExecuteTime": {
     "end_time": "2021-04-21T09:04:46.738808Z",
     "start_time": "2021-04-21T09:04:46.725844Z"
    }
   },
   "outputs": [
    {
     "name": "stdout",
     "output_type": "stream",
     "text": [
      "(1460, 28) (1460,)\n",
      "(1168, 28) (1168,)\n"
     ]
    }
   ],
   "source": [
    "X_df = train.drop([\"SalePrice\"], axis=1)\n",
    "y_df = train[\"SalePrice\"]\n",
    "\n",
    "X_train, X_val, y_train, y_val = train_test_split(X_df, y_df, test_size=0.2, shuffle=True, random_state = 121)\n",
    "print(X_df.shape, y_df.shape)\n",
    "print(X_train.shape, y_train.shape)"
   ]
  },
  {
   "cell_type": "code",
   "execution_count": 110,
   "id": "806a0b12",
   "metadata": {
    "ExecuteTime": {
     "end_time": "2021-04-21T09:04:49.940327Z",
     "start_time": "2021-04-21T09:04:49.718907Z"
    }
   },
   "outputs": [
    {
     "name": "stdout",
     "output_type": "stream",
     "text": [
      "RMSE: 0.15108\n",
      "{'alpha': 0.01}\n",
      "MSE:0.01786 RMSE:0.13365\n"
     ]
    }
   ],
   "source": [
    "cv_model = GridSearchCV(ridge, param_grid={'alpha':[0.01, 0.05, 1.0, 5.0, 10]},\n",
    "            scoring='neg_root_mean_squared_error',\n",
    "            cv = 10, refit=True)\n",
    "cv_model.fit(X_train, y_train)\n",
    "print(f'RMSE: {cv_model.best_score_ * -1:.5f}')\n",
    "print(cv_model.best_params_)\n",
    "\n",
    "pred = cv_model.predict(X_val)  \n",
    "#print(pred)\n",
    "mse = mean_squared_error(y_val, pred, squared=True)\n",
    "rmse = mean_squared_error(y_val, pred, squared=False)\n",
    "print(f'MSE:{mse:.5f} RMSE:{rmse:.5f}')\n",
    "\n",
    "# RMSE: 0.15108\n",
    "# {'alpha': 0.01}\n",
    "# MSE:0.01786 RMSE:0.13365"
   ]
  },
  {
   "cell_type": "code",
   "execution_count": null,
   "id": "b227c7c7",
   "metadata": {},
   "outputs": [],
   "source": []
  },
  {
   "cell_type": "markdown",
   "id": "7827892f",
   "metadata": {},
   "source": [
    "### Bagging"
   ]
  },
  {
   "cell_type": "code",
   "execution_count": null,
   "id": "dc9db60a",
   "metadata": {},
   "outputs": [],
   "source": [
    "bagg_ridge = BaggingRegressor(base_estimator=ridge(),\n",
    "                        n_estimators=10, random_state=0).fit(X, y)"
   ]
  },
  {
   "cell_type": "code",
   "execution_count": null,
   "id": "e009708a",
   "metadata": {},
   "outputs": [],
   "source": []
  },
  {
   "cell_type": "code",
   "execution_count": null,
   "id": "632e7558",
   "metadata": {},
   "outputs": [],
   "source": []
  },
  {
   "cell_type": "markdown",
   "id": "ea5a53c6",
   "metadata": {},
   "source": [
    "## PCA "
   ]
  },
  {
   "cell_type": "code",
   "execution_count": 72,
   "id": "2153ef7b",
   "metadata": {
    "ExecuteTime": {
     "end_time": "2021-04-21T08:25:48.366825Z",
     "start_time": "2021-04-21T08:25:48.335908Z"
    }
   },
   "outputs": [
    {
     "name": "stdout",
     "output_type": "stream",
     "text": [
      "(1460, 20)\n",
      "주성분(PC) 15개가 전체 데이터를 얼마나 설명할수 있는가?\n",
      " 0.9772745527517893 [0.36608169 0.14601292 0.09561096 0.05957306 0.0523731  0.045483\n",
      " 0.0333506  0.02707455 0.02360717 0.0219927  0.01948587 0.0171504\n",
      " 0.01587964 0.01236559 0.01092841 0.00760484 0.00696326 0.00644551\n",
      " 0.00524583 0.00404545]\n"
     ]
    }
   ],
   "source": [
    "pca = PCA(n_components=20)\n",
    "#pipeline = make_pipeline(std_scaler, pca)\n",
    "pca_res = pca.fit_transform(X_df)\n",
    "print(pca_res.shape)\n",
    "print(\"주성분(PC) 15개가 전체 데이터를 얼마나 설명할수 있는가?\\n\", np.sum(pca.explained_variance_ratio_), pca.explained_variance_ratio_)\n"
   ]
  },
  {
   "cell_type": "code",
   "execution_count": 73,
   "id": "ad0798d5",
   "metadata": {
    "ExecuteTime": {
     "end_time": "2021-04-21T08:25:48.397250Z",
     "start_time": "2021-04-21T08:25:48.368819Z"
    }
   },
   "outputs": [
    {
     "data": {
      "text/html": [
       "<div>\n",
       "<style scoped>\n",
       "    .dataframe tbody tr th:only-of-type {\n",
       "        vertical-align: middle;\n",
       "    }\n",
       "\n",
       "    .dataframe tbody tr th {\n",
       "        vertical-align: top;\n",
       "    }\n",
       "\n",
       "    .dataframe thead th {\n",
       "        text-align: right;\n",
       "    }\n",
       "</style>\n",
       "<table border=\"1\" class=\"dataframe\">\n",
       "  <thead>\n",
       "    <tr style=\"text-align: right;\">\n",
       "      <th></th>\n",
       "      <th>0</th>\n",
       "      <th>1</th>\n",
       "      <th>2</th>\n",
       "      <th>3</th>\n",
       "      <th>4</th>\n",
       "      <th>5</th>\n",
       "      <th>6</th>\n",
       "      <th>7</th>\n",
       "      <th>8</th>\n",
       "      <th>9</th>\n",
       "      <th>...</th>\n",
       "      <th>11</th>\n",
       "      <th>12</th>\n",
       "      <th>13</th>\n",
       "      <th>14</th>\n",
       "      <th>15</th>\n",
       "      <th>16</th>\n",
       "      <th>17</th>\n",
       "      <th>18</th>\n",
       "      <th>19</th>\n",
       "      <th>SalePrice</th>\n",
       "    </tr>\n",
       "  </thead>\n",
       "  <tbody>\n",
       "    <tr>\n",
       "      <th>0</th>\n",
       "      <td>-6.403456</td>\n",
       "      <td>4.335117</td>\n",
       "      <td>-0.935582</td>\n",
       "      <td>-4.259310</td>\n",
       "      <td>1.425046</td>\n",
       "      <td>-1.059251</td>\n",
       "      <td>1.295180</td>\n",
       "      <td>0.354490</td>\n",
       "      <td>0.520906</td>\n",
       "      <td>1.181259</td>\n",
       "      <td>...</td>\n",
       "      <td>-0.940888</td>\n",
       "      <td>-0.040510</td>\n",
       "      <td>0.180748</td>\n",
       "      <td>0.081780</td>\n",
       "      <td>0.693316</td>\n",
       "      <td>-0.624469</td>\n",
       "      <td>0.116114</td>\n",
       "      <td>-0.324611</td>\n",
       "      <td>0.209371</td>\n",
       "      <td>12.247699</td>\n",
       "    </tr>\n",
       "    <tr>\n",
       "      <th>1</th>\n",
       "      <td>11.621584</td>\n",
       "      <td>-0.262670</td>\n",
       "      <td>-2.515405</td>\n",
       "      <td>4.138186</td>\n",
       "      <td>-1.958079</td>\n",
       "      <td>0.098838</td>\n",
       "      <td>-1.268268</td>\n",
       "      <td>-2.710972</td>\n",
       "      <td>-0.043410</td>\n",
       "      <td>0.405664</td>\n",
       "      <td>...</td>\n",
       "      <td>-1.535169</td>\n",
       "      <td>0.204201</td>\n",
       "      <td>1.019702</td>\n",
       "      <td>-0.404453</td>\n",
       "      <td>-0.089372</td>\n",
       "      <td>-0.357597</td>\n",
       "      <td>0.626959</td>\n",
       "      <td>-0.481578</td>\n",
       "      <td>-0.835130</td>\n",
       "      <td>12.109016</td>\n",
       "    </tr>\n",
       "    <tr>\n",
       "      <th>2</th>\n",
       "      <td>-6.469757</td>\n",
       "      <td>4.585131</td>\n",
       "      <td>-0.821865</td>\n",
       "      <td>-3.724892</td>\n",
       "      <td>1.093503</td>\n",
       "      <td>-1.185786</td>\n",
       "      <td>0.935500</td>\n",
       "      <td>-1.131622</td>\n",
       "      <td>-0.338602</td>\n",
       "      <td>-0.646130</td>\n",
       "      <td>...</td>\n",
       "      <td>1.570340</td>\n",
       "      <td>0.089950</td>\n",
       "      <td>0.360454</td>\n",
       "      <td>-0.060808</td>\n",
       "      <td>0.627333</td>\n",
       "      <td>-0.615644</td>\n",
       "      <td>-0.092110</td>\n",
       "      <td>0.322225</td>\n",
       "      <td>-0.149818</td>\n",
       "      <td>12.317171</td>\n",
       "    </tr>\n",
       "    <tr>\n",
       "      <th>3</th>\n",
       "      <td>-6.244895</td>\n",
       "      <td>-0.907297</td>\n",
       "      <td>-0.934411</td>\n",
       "      <td>-1.909513</td>\n",
       "      <td>-0.804699</td>\n",
       "      <td>-2.758099</td>\n",
       "      <td>-0.838745</td>\n",
       "      <td>2.092558</td>\n",
       "      <td>1.530341</td>\n",
       "      <td>0.750538</td>\n",
       "      <td>...</td>\n",
       "      <td>2.514639</td>\n",
       "      <td>-0.505796</td>\n",
       "      <td>0.842826</td>\n",
       "      <td>3.595342</td>\n",
       "      <td>0.057294</td>\n",
       "      <td>-0.113313</td>\n",
       "      <td>-1.278918</td>\n",
       "      <td>0.758452</td>\n",
       "      <td>-0.176617</td>\n",
       "      <td>11.849405</td>\n",
       "    </tr>\n",
       "    <tr>\n",
       "      <th>4</th>\n",
       "      <td>3.862227</td>\n",
       "      <td>6.663298</td>\n",
       "      <td>0.135270</td>\n",
       "      <td>0.628349</td>\n",
       "      <td>1.484787</td>\n",
       "      <td>0.319100</td>\n",
       "      <td>0.150896</td>\n",
       "      <td>0.319076</td>\n",
       "      <td>1.283738</td>\n",
       "      <td>-0.167503</td>\n",
       "      <td>...</td>\n",
       "      <td>0.695392</td>\n",
       "      <td>0.505193</td>\n",
       "      <td>1.633276</td>\n",
       "      <td>-0.508740</td>\n",
       "      <td>0.362617</td>\n",
       "      <td>-0.699861</td>\n",
       "      <td>-0.114731</td>\n",
       "      <td>0.223168</td>\n",
       "      <td>-0.463397</td>\n",
       "      <td>12.429220</td>\n",
       "    </tr>\n",
       "    <tr>\n",
       "      <th>...</th>\n",
       "      <td>...</td>\n",
       "      <td>...</td>\n",
       "      <td>...</td>\n",
       "      <td>...</td>\n",
       "      <td>...</td>\n",
       "      <td>...</td>\n",
       "      <td>...</td>\n",
       "      <td>...</td>\n",
       "      <td>...</td>\n",
       "      <td>...</td>\n",
       "      <td>...</td>\n",
       "      <td>...</td>\n",
       "      <td>...</td>\n",
       "      <td>...</td>\n",
       "      <td>...</td>\n",
       "      <td>...</td>\n",
       "      <td>...</td>\n",
       "      <td>...</td>\n",
       "      <td>...</td>\n",
       "      <td>...</td>\n",
       "      <td>...</td>\n",
       "    </tr>\n",
       "    <tr>\n",
       "      <th>1455</th>\n",
       "      <td>-4.287198</td>\n",
       "      <td>-1.029671</td>\n",
       "      <td>4.570405</td>\n",
       "      <td>-2.070399</td>\n",
       "      <td>-1.846118</td>\n",
       "      <td>-2.297529</td>\n",
       "      <td>0.762749</td>\n",
       "      <td>-0.540861</td>\n",
       "      <td>-0.394219</td>\n",
       "      <td>-0.516223</td>\n",
       "      <td>...</td>\n",
       "      <td>-1.078542</td>\n",
       "      <td>-0.472310</td>\n",
       "      <td>0.533837</td>\n",
       "      <td>0.009588</td>\n",
       "      <td>0.165547</td>\n",
       "      <td>-0.353807</td>\n",
       "      <td>0.448422</td>\n",
       "      <td>-0.968861</td>\n",
       "      <td>-0.487617</td>\n",
       "      <td>12.072547</td>\n",
       "    </tr>\n",
       "    <tr>\n",
       "      <th>1456</th>\n",
       "      <td>2.068178</td>\n",
       "      <td>2.571759</td>\n",
       "      <td>-2.416705</td>\n",
       "      <td>1.116929</td>\n",
       "      <td>-0.558243</td>\n",
       "      <td>3.834775</td>\n",
       "      <td>-2.686292</td>\n",
       "      <td>1.248195</td>\n",
       "      <td>0.259258</td>\n",
       "      <td>-0.353608</td>\n",
       "      <td>...</td>\n",
       "      <td>-1.358844</td>\n",
       "      <td>-0.336348</td>\n",
       "      <td>-1.092131</td>\n",
       "      <td>-0.265580</td>\n",
       "      <td>0.940710</td>\n",
       "      <td>-0.847202</td>\n",
       "      <td>0.507392</td>\n",
       "      <td>-0.410764</td>\n",
       "      <td>-0.331285</td>\n",
       "      <td>12.254868</td>\n",
       "    </tr>\n",
       "    <tr>\n",
       "      <th>1457</th>\n",
       "      <td>-5.799380</td>\n",
       "      <td>1.636977</td>\n",
       "      <td>0.476287</td>\n",
       "      <td>-2.325241</td>\n",
       "      <td>-0.489232</td>\n",
       "      <td>-4.395331</td>\n",
       "      <td>-0.359923</td>\n",
       "      <td>0.212393</td>\n",
       "      <td>1.866931</td>\n",
       "      <td>0.153229</td>\n",
       "      <td>...</td>\n",
       "      <td>-1.693687</td>\n",
       "      <td>-0.140800</td>\n",
       "      <td>0.859354</td>\n",
       "      <td>-0.223877</td>\n",
       "      <td>-0.251144</td>\n",
       "      <td>-1.218182</td>\n",
       "      <td>-0.864572</td>\n",
       "      <td>1.459515</td>\n",
       "      <td>0.545310</td>\n",
       "      <td>12.493133</td>\n",
       "    </tr>\n",
       "    <tr>\n",
       "      <th>1458</th>\n",
       "      <td>-0.814219</td>\n",
       "      <td>-1.713518</td>\n",
       "      <td>-2.630103</td>\n",
       "      <td>4.648078</td>\n",
       "      <td>-2.456041</td>\n",
       "      <td>2.428252</td>\n",
       "      <td>2.925577</td>\n",
       "      <td>-0.231693</td>\n",
       "      <td>-0.615382</td>\n",
       "      <td>-0.072206</td>\n",
       "      <td>...</td>\n",
       "      <td>-1.239788</td>\n",
       "      <td>4.522860</td>\n",
       "      <td>0.125261</td>\n",
       "      <td>-0.779116</td>\n",
       "      <td>0.381952</td>\n",
       "      <td>0.727087</td>\n",
       "      <td>-2.438040</td>\n",
       "      <td>-1.892688</td>\n",
       "      <td>1.083206</td>\n",
       "      <td>11.864469</td>\n",
       "    </tr>\n",
       "    <tr>\n",
       "      <th>1459</th>\n",
       "      <td>-4.984485</td>\n",
       "      <td>2.513467</td>\n",
       "      <td>-1.971333</td>\n",
       "      <td>3.674310</td>\n",
       "      <td>-1.146575</td>\n",
       "      <td>-1.859954</td>\n",
       "      <td>-0.521931</td>\n",
       "      <td>2.363558</td>\n",
       "      <td>-1.615900</td>\n",
       "      <td>-0.040709</td>\n",
       "      <td>...</td>\n",
       "      <td>-1.019499</td>\n",
       "      <td>-0.045579</td>\n",
       "      <td>0.047171</td>\n",
       "      <td>-0.371365</td>\n",
       "      <td>-1.263288</td>\n",
       "      <td>1.344892</td>\n",
       "      <td>0.300309</td>\n",
       "      <td>0.110944</td>\n",
       "      <td>0.429020</td>\n",
       "      <td>11.901590</td>\n",
       "    </tr>\n",
       "  </tbody>\n",
       "</table>\n",
       "<p>1460 rows × 21 columns</p>\n",
       "</div>"
      ],
      "text/plain": [
       "              0         1         2         3         4         5         6  \\\n",
       "0     -6.403456  4.335117 -0.935582 -4.259310  1.425046 -1.059251  1.295180   \n",
       "1     11.621584 -0.262670 -2.515405  4.138186 -1.958079  0.098838 -1.268268   \n",
       "2     -6.469757  4.585131 -0.821865 -3.724892  1.093503 -1.185786  0.935500   \n",
       "3     -6.244895 -0.907297 -0.934411 -1.909513 -0.804699 -2.758099 -0.838745   \n",
       "4      3.862227  6.663298  0.135270  0.628349  1.484787  0.319100  0.150896   \n",
       "...         ...       ...       ...       ...       ...       ...       ...   \n",
       "1455  -4.287198 -1.029671  4.570405 -2.070399 -1.846118 -2.297529  0.762749   \n",
       "1456   2.068178  2.571759 -2.416705  1.116929 -0.558243  3.834775 -2.686292   \n",
       "1457  -5.799380  1.636977  0.476287 -2.325241 -0.489232 -4.395331 -0.359923   \n",
       "1458  -0.814219 -1.713518 -2.630103  4.648078 -2.456041  2.428252  2.925577   \n",
       "1459  -4.984485  2.513467 -1.971333  3.674310 -1.146575 -1.859954 -0.521931   \n",
       "\n",
       "             7         8         9  ...        11        12        13  \\\n",
       "0     0.354490  0.520906  1.181259  ... -0.940888 -0.040510  0.180748   \n",
       "1    -2.710972 -0.043410  0.405664  ... -1.535169  0.204201  1.019702   \n",
       "2    -1.131622 -0.338602 -0.646130  ...  1.570340  0.089950  0.360454   \n",
       "3     2.092558  1.530341  0.750538  ...  2.514639 -0.505796  0.842826   \n",
       "4     0.319076  1.283738 -0.167503  ...  0.695392  0.505193  1.633276   \n",
       "...        ...       ...       ...  ...       ...       ...       ...   \n",
       "1455 -0.540861 -0.394219 -0.516223  ... -1.078542 -0.472310  0.533837   \n",
       "1456  1.248195  0.259258 -0.353608  ... -1.358844 -0.336348 -1.092131   \n",
       "1457  0.212393  1.866931  0.153229  ... -1.693687 -0.140800  0.859354   \n",
       "1458 -0.231693 -0.615382 -0.072206  ... -1.239788  4.522860  0.125261   \n",
       "1459  2.363558 -1.615900 -0.040709  ... -1.019499 -0.045579  0.047171   \n",
       "\n",
       "            14        15        16        17        18        19  SalePrice  \n",
       "0     0.081780  0.693316 -0.624469  0.116114 -0.324611  0.209371  12.247699  \n",
       "1    -0.404453 -0.089372 -0.357597  0.626959 -0.481578 -0.835130  12.109016  \n",
       "2    -0.060808  0.627333 -0.615644 -0.092110  0.322225 -0.149818  12.317171  \n",
       "3     3.595342  0.057294 -0.113313 -1.278918  0.758452 -0.176617  11.849405  \n",
       "4    -0.508740  0.362617 -0.699861 -0.114731  0.223168 -0.463397  12.429220  \n",
       "...        ...       ...       ...       ...       ...       ...        ...  \n",
       "1455  0.009588  0.165547 -0.353807  0.448422 -0.968861 -0.487617  12.072547  \n",
       "1456 -0.265580  0.940710 -0.847202  0.507392 -0.410764 -0.331285  12.254868  \n",
       "1457 -0.223877 -0.251144 -1.218182 -0.864572  1.459515  0.545310  12.493133  \n",
       "1458 -0.779116  0.381952  0.727087 -2.438040 -1.892688  1.083206  11.864469  \n",
       "1459 -0.371365 -1.263288  1.344892  0.300309  0.110944  0.429020  11.901590  \n",
       "\n",
       "[1460 rows x 21 columns]"
      ]
     },
     "execution_count": 73,
     "metadata": {},
     "output_type": "execute_result"
    }
   ],
   "source": [
    "pca_df = pd.DataFrame(data=pca_res)\n",
    "pca_df[\"SalePrice\"] = y_df\n",
    "pca_df\n",
    "# 어떠한 피쳐가 합쳐진건지는 알 수 없음 "
   ]
  },
  {
   "cell_type": "code",
   "execution_count": 74,
   "id": "2b208a11",
   "metadata": {
    "ExecuteTime": {
     "end_time": "2021-04-21T08:25:48.428167Z",
     "start_time": "2021-04-21T08:25:48.398248Z"
    }
   },
   "outputs": [
    {
     "name": "stdout",
     "output_type": "stream",
     "text": [
      "Lasso MSE:0.18575 RMSE:0.43099\n",
      "Ridge MSE:0.02982 RMSE:0.17268\n",
      "ElasticNet MSE:0.07380 RMSE:0.27166\n"
     ]
    }
   ],
   "source": [
    "pca_df_y = pca_df[\"SalePrice\"]  #df[\"traget\"]  \n",
    "pca_df_X = pca_df[pca_df.columns.difference([\"SalePrice\"])]\n",
    "X_train_pca, X_val_pca, y_train_pca, y_val_pca = train_test_split(pca_df_X, pca_df_y, test_size=0.2,  random_state=36, shuffle=True)\n",
    "\n",
    "models = [lasso, ridge, elsnet]\n",
    "for model in models:\n",
    "    model.fit(X_train_pca, y_train_pca)\n",
    "    pred = model.predict(X_val_pca)\n",
    "    mse = mean_squared_error(y_val_pca, pred, squared=True)\n",
    "    rmse = mean_squared_error(y_val_pca, pred, squared=False)\n",
    "    print(f'{model.__class__.__name__} MSE:{mse:.5f} RMSE:{rmse:.5f}') \n",
    "\n",
    "# n = 20\n",
    "# Lasso MSE:0.18575 RMSE:0.43099\n",
    "# Ridge MSE:0.02982 RMSE:0.17268\n",
    "# ElasticNet MSE:0.07380 RMSE:0.27166\n",
    "\n",
    "# n = 15    \n",
    "# Lasso MSE:0.18575 RMSE:0.43099\n",
    "# Ridge MSE:0.03514 RMSE:0.18745\n",
    "# ElasticNet MSE:0.07380 RMSE:0.27166\n",
    "\n",
    "# n = 10\n",
    "# Lasso MSE:0.18575 RMSE:0.43099\n",
    "# Ridge MSE:0.03728 RMSE:0.19307\n",
    "# ElasticNet MSE:0.07380 RMSE:0.27166"
   ]
  },
  {
   "cell_type": "code",
   "execution_count": null,
   "id": "e608c79c",
   "metadata": {},
   "outputs": [],
   "source": []
  },
  {
   "cell_type": "code",
   "execution_count": null,
   "id": "935e1c5c",
   "metadata": {},
   "outputs": [],
   "source": []
  },
  {
   "cell_type": "code",
   "execution_count": null,
   "id": "95bc5e85",
   "metadata": {},
   "outputs": [],
   "source": []
  },
  {
   "cell_type": "code",
   "execution_count": null,
   "id": "b891a48d",
   "metadata": {},
   "outputs": [],
   "source": []
  },
  {
   "cell_type": "code",
   "execution_count": null,
   "id": "66eb79d9",
   "metadata": {},
   "outputs": [],
   "source": []
  },
  {
   "cell_type": "code",
   "execution_count": null,
   "id": "8013a177",
   "metadata": {},
   "outputs": [],
   "source": []
  }
 ],
 "metadata": {
  "kernelspec": {
   "display_name": "Python 3",
   "language": "python",
   "name": "python3"
  },
  "language_info": {
   "codemirror_mode": {
    "name": "ipython",
    "version": 3
   },
   "file_extension": ".py",
   "mimetype": "text/x-python",
   "name": "python",
   "nbconvert_exporter": "python",
   "pygments_lexer": "ipython3",
   "version": "3.7.7"
  },
  "toc": {
   "base_numbering": 1,
   "nav_menu": {},
   "number_sections": true,
   "sideBar": true,
   "skip_h1_title": false,
   "title_cell": "Table of Contents",
   "title_sidebar": "Contents",
   "toc_cell": false,
   "toc_position": {
    "height": "calc(100% - 180px)",
    "left": "10px",
    "top": "150px",
    "width": "426.667px"
   },
   "toc_section_display": true,
   "toc_window_display": true
  }
 },
 "nbformat": 4,
 "nbformat_minor": 5
}
