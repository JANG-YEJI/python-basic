{
 "cells": [
  {
   "cell_type": "code",
   "execution_count": 1,
   "id": "fb2044d9",
   "metadata": {
    "ExecuteTime": {
     "end_time": "2021-04-18T12:06:10.282461Z",
     "start_time": "2021-04-18T12:06:10.275479Z"
    }
   },
   "outputs": [],
   "source": [
    "# https://www.kaggle.com/mlg-ulb/creditcardfraud"
   ]
  },
  {
   "cell_type": "code",
   "execution_count": 2,
   "id": "a6921cd3",
   "metadata": {
    "ExecuteTime": {
     "end_time": "2021-04-18T12:06:11.796807Z",
     "start_time": "2021-04-18T12:06:10.284456Z"
    }
   },
   "outputs": [],
   "source": [
    "import numpy as np\n",
    "import pandas as pd\n",
    "import matplotlib.pyplot as plt\n",
    "import seaborn as sns\n",
    "from sklearn.tree import DecisionTreeClassifier\n",
    "from sklearn.ensemble import RandomForestClassifier\n",
    "from sklearn.linear_model import LogisticRegression\n",
    "from sklearn.neighbors import KNeighborsClassifier\n",
    "from sklearn.model_selection import train_test_split\n",
    "from lightgbm import LGBMClassifier\n",
    "from sklearn.metrics import accuracy_score,confusion_matrix,precision_score, recall_score, f1_score, roc_auc_score, roc_curve\n",
    "import warnings\n",
    "warnings.filterwarnings(action='ignore')"
   ]
  },
  {
   "cell_type": "code",
   "execution_count": null,
   "id": "2435ad07",
   "metadata": {},
   "outputs": [],
   "source": []
  },
  {
   "cell_type": "code",
   "execution_count": 3,
   "id": "19691146",
   "metadata": {
    "ExecuteTime": {
     "end_time": "2021-04-18T12:06:11.811767Z",
     "start_time": "2021-04-18T12:06:11.798803Z"
    }
   },
   "outputs": [],
   "source": [
    "def mysplit(df, test_size=0.3) :\n",
    "    df_X = df.iloc[:, :-1]\n",
    "    df_y = df.iloc[:, -1]\n",
    "    X_train, X_test, y_train, y_test = train_test_split(df_X, df_y, test_size=test_size, random_state=0, stratify=df_y)   #------Stratified 기반 분할\n",
    "    return  X_train, X_test, y_train, y_test"
   ]
  },
  {
   "cell_type": "code",
   "execution_count": 4,
   "id": "2b225ca1",
   "metadata": {
    "ExecuteTime": {
     "end_time": "2021-04-18T12:06:11.827726Z",
     "start_time": "2021-04-18T12:06:11.813769Z"
    }
   },
   "outputs": [],
   "source": [
    "def myscore(y_test,pred,proba, pr_curve=0, auc_curve=0):\n",
    "    accuracy = accuracy_score(y_test,pred)\n",
    "    precision = precision_score(y_test,pred)\n",
    "    recall = recall_score(y_test,pred)\n",
    "    f1 = f1_score(y_test,pred)\n",
    "    auc = roc_auc_score(y_test, proba[:,-1])\n",
    "    print(\"Accuracy:{:.6f}  precision:{:.6f}, recall:{:.6f}, f1:{:.6f}, auc:{:.6f}\".format(accuracy, precision, recall, f1, auc))\n",
    "\n",
    "    mtx = confusion_matrix(y_test, pred)\n",
    "    print(mtx)\n",
    "    \n",
    "    if pr_curve==1:\n",
    "        mycurve(y_test, proba)\n",
    "    if auc_curve==1:\n",
    "        mycurve_auc(y_test, proba)\n",
    "        "
   ]
  },
  {
   "cell_type": "code",
   "execution_count": 5,
   "id": "a955d0dd",
   "metadata": {
    "ExecuteTime": {
     "end_time": "2021-04-18T12:06:11.843681Z",
     "start_time": "2021-04-18T12:06:11.828722Z"
    }
   },
   "outputs": [],
   "source": [
    "from sklearn.metrics import precision_recall_curve\n",
    "def mycurve(y_test, proba):  \n",
    "    precision, recall, thresholds = precision_recall_curve(y_test, proba[ : , -1])\n",
    "    print(len(precision), len(recall), len(thresholds))  #66 66 65\n",
    "    plt.plot(thresholds, precision[:len(thresholds)], label=\"precision\")\n",
    "    plt.plot(thresholds, recall[:len(thresholds)], label=\"recall\")\n",
    "    plt.xlabel(\"thresholds\")\n",
    "    plt.ylabel(\"score\")\n",
    "    plt.grid()\n",
    "    plt.legend()\n",
    "    plt.show()\n",
    "    "
   ]
  },
  {
   "cell_type": "code",
   "execution_count": 6,
   "id": "3a114d84",
   "metadata": {
    "ExecuteTime": {
     "end_time": "2021-04-18T12:06:11.859639Z",
     "start_time": "2021-04-18T12:06:11.844679Z"
    }
   },
   "outputs": [],
   "source": [
    "def mycurve_auc(y_test, proba):  \n",
    "    fpr, tpr, thresholds = roc_curve(y_test, proba[:,-1])\n",
    "    print(len(fpr), len(tpr), len(thresholds))  #66 66 65\n",
    "    plt.plot(fpr, tpr, label=\"roc\")\n",
    "    plt.plot([0,1], [0,1], label=\"th:0.5\")\n",
    "    plt.xlabel(\"FPR (1-TNR(specificity)\")      #FP\n",
    "    plt.ylabel(\"TPR (recall,sensitivity)\") #TP\n",
    "    plt.title(f\"auc : {roc_auc_score(y_test, proba[:,-1]):.4f}\")\n",
    "    plt.grid()\n",
    "    plt.legend()\n",
    "    plt.show()"
   ]
  },
  {
   "cell_type": "code",
   "execution_count": null,
   "id": "a67a6023",
   "metadata": {},
   "outputs": [],
   "source": []
  },
  {
   "cell_type": "code",
   "execution_count": 7,
   "id": "899efe39",
   "metadata": {
    "ExecuteTime": {
     "end_time": "2021-04-18T12:06:13.484088Z",
     "start_time": "2021-04-18T12:06:11.860625Z"
    }
   },
   "outputs": [],
   "source": [
    "df = pd.read_csv('creditcard.csv')"
   ]
  },
  {
   "cell_type": "code",
   "execution_count": 8,
   "id": "dbad54c3",
   "metadata": {
    "ExecuteTime": {
     "end_time": "2021-04-18T12:06:13.531960Z",
     "start_time": "2021-04-18T12:06:13.486083Z"
    }
   },
   "outputs": [
    {
     "name": "stdout",
     "output_type": "stream",
     "text": [
      "<class 'pandas.core.frame.DataFrame'>\n",
      "RangeIndex: 284807 entries, 0 to 284806\n",
      "Data columns (total 31 columns):\n",
      " #   Column  Non-Null Count   Dtype  \n",
      "---  ------  --------------   -----  \n",
      " 0   Time    284807 non-null  float64\n",
      " 1   V1      284807 non-null  float64\n",
      " 2   V2      284807 non-null  float64\n",
      " 3   V3      284807 non-null  float64\n",
      " 4   V4      284807 non-null  float64\n",
      " 5   V5      284807 non-null  float64\n",
      " 6   V6      284807 non-null  float64\n",
      " 7   V7      284807 non-null  float64\n",
      " 8   V8      284807 non-null  float64\n",
      " 9   V9      284807 non-null  float64\n",
      " 10  V10     284807 non-null  float64\n",
      " 11  V11     284807 non-null  float64\n",
      " 12  V12     284807 non-null  float64\n",
      " 13  V13     284807 non-null  float64\n",
      " 14  V14     284807 non-null  float64\n",
      " 15  V15     284807 non-null  float64\n",
      " 16  V16     284807 non-null  float64\n",
      " 17  V17     284807 non-null  float64\n",
      " 18  V18     284807 non-null  float64\n",
      " 19  V19     284807 non-null  float64\n",
      " 20  V20     284807 non-null  float64\n",
      " 21  V21     284807 non-null  float64\n",
      " 22  V22     284807 non-null  float64\n",
      " 23  V23     284807 non-null  float64\n",
      " 24  V24     284807 non-null  float64\n",
      " 25  V25     284807 non-null  float64\n",
      " 26  V26     284807 non-null  float64\n",
      " 27  V27     284807 non-null  float64\n",
      " 28  V28     284807 non-null  float64\n",
      " 29  Amount  284807 non-null  float64\n",
      " 30  Class   284807 non-null  int64  \n",
      "dtypes: float64(30), int64(1)\n",
      "memory usage: 67.4 MB\n"
     ]
    }
   ],
   "source": [
    "df.info()"
   ]
  },
  {
   "cell_type": "code",
   "execution_count": 9,
   "id": "2457cb1d",
   "metadata": {
    "ExecuteTime": {
     "end_time": "2021-04-18T12:06:13.563876Z",
     "start_time": "2021-04-18T12:06:13.532958Z"
    }
   },
   "outputs": [
    {
     "data": {
      "text/html": [
       "<div>\n",
       "<style scoped>\n",
       "    .dataframe tbody tr th:only-of-type {\n",
       "        vertical-align: middle;\n",
       "    }\n",
       "\n",
       "    .dataframe tbody tr th {\n",
       "        vertical-align: top;\n",
       "    }\n",
       "\n",
       "    .dataframe thead th {\n",
       "        text-align: right;\n",
       "    }\n",
       "</style>\n",
       "<table border=\"1\" class=\"dataframe\">\n",
       "  <thead>\n",
       "    <tr style=\"text-align: right;\">\n",
       "      <th></th>\n",
       "      <th>Time</th>\n",
       "      <th>V1</th>\n",
       "      <th>V2</th>\n",
       "      <th>V3</th>\n",
       "      <th>V4</th>\n",
       "      <th>V5</th>\n",
       "      <th>V6</th>\n",
       "      <th>V7</th>\n",
       "      <th>V8</th>\n",
       "      <th>V9</th>\n",
       "      <th>...</th>\n",
       "      <th>V21</th>\n",
       "      <th>V22</th>\n",
       "      <th>V23</th>\n",
       "      <th>V24</th>\n",
       "      <th>V25</th>\n",
       "      <th>V26</th>\n",
       "      <th>V27</th>\n",
       "      <th>V28</th>\n",
       "      <th>Amount</th>\n",
       "      <th>Class</th>\n",
       "    </tr>\n",
       "  </thead>\n",
       "  <tbody>\n",
       "    <tr>\n",
       "      <th>0</th>\n",
       "      <td>0.0</td>\n",
       "      <td>-1.359807</td>\n",
       "      <td>-0.072781</td>\n",
       "      <td>2.536347</td>\n",
       "      <td>1.378155</td>\n",
       "      <td>-0.338321</td>\n",
       "      <td>0.462388</td>\n",
       "      <td>0.239599</td>\n",
       "      <td>0.098698</td>\n",
       "      <td>0.363787</td>\n",
       "      <td>...</td>\n",
       "      <td>-0.018307</td>\n",
       "      <td>0.277838</td>\n",
       "      <td>-0.110474</td>\n",
       "      <td>0.066928</td>\n",
       "      <td>0.128539</td>\n",
       "      <td>-0.189115</td>\n",
       "      <td>0.133558</td>\n",
       "      <td>-0.021053</td>\n",
       "      <td>149.62</td>\n",
       "      <td>0</td>\n",
       "    </tr>\n",
       "    <tr>\n",
       "      <th>1</th>\n",
       "      <td>0.0</td>\n",
       "      <td>1.191857</td>\n",
       "      <td>0.266151</td>\n",
       "      <td>0.166480</td>\n",
       "      <td>0.448154</td>\n",
       "      <td>0.060018</td>\n",
       "      <td>-0.082361</td>\n",
       "      <td>-0.078803</td>\n",
       "      <td>0.085102</td>\n",
       "      <td>-0.255425</td>\n",
       "      <td>...</td>\n",
       "      <td>-0.225775</td>\n",
       "      <td>-0.638672</td>\n",
       "      <td>0.101288</td>\n",
       "      <td>-0.339846</td>\n",
       "      <td>0.167170</td>\n",
       "      <td>0.125895</td>\n",
       "      <td>-0.008983</td>\n",
       "      <td>0.014724</td>\n",
       "      <td>2.69</td>\n",
       "      <td>0</td>\n",
       "    </tr>\n",
       "    <tr>\n",
       "      <th>2</th>\n",
       "      <td>1.0</td>\n",
       "      <td>-1.358354</td>\n",
       "      <td>-1.340163</td>\n",
       "      <td>1.773209</td>\n",
       "      <td>0.379780</td>\n",
       "      <td>-0.503198</td>\n",
       "      <td>1.800499</td>\n",
       "      <td>0.791461</td>\n",
       "      <td>0.247676</td>\n",
       "      <td>-1.514654</td>\n",
       "      <td>...</td>\n",
       "      <td>0.247998</td>\n",
       "      <td>0.771679</td>\n",
       "      <td>0.909412</td>\n",
       "      <td>-0.689281</td>\n",
       "      <td>-0.327642</td>\n",
       "      <td>-0.139097</td>\n",
       "      <td>-0.055353</td>\n",
       "      <td>-0.059752</td>\n",
       "      <td>378.66</td>\n",
       "      <td>0</td>\n",
       "    </tr>\n",
       "    <tr>\n",
       "      <th>3</th>\n",
       "      <td>1.0</td>\n",
       "      <td>-0.966272</td>\n",
       "      <td>-0.185226</td>\n",
       "      <td>1.792993</td>\n",
       "      <td>-0.863291</td>\n",
       "      <td>-0.010309</td>\n",
       "      <td>1.247203</td>\n",
       "      <td>0.237609</td>\n",
       "      <td>0.377436</td>\n",
       "      <td>-1.387024</td>\n",
       "      <td>...</td>\n",
       "      <td>-0.108300</td>\n",
       "      <td>0.005274</td>\n",
       "      <td>-0.190321</td>\n",
       "      <td>-1.175575</td>\n",
       "      <td>0.647376</td>\n",
       "      <td>-0.221929</td>\n",
       "      <td>0.062723</td>\n",
       "      <td>0.061458</td>\n",
       "      <td>123.50</td>\n",
       "      <td>0</td>\n",
       "    </tr>\n",
       "    <tr>\n",
       "      <th>4</th>\n",
       "      <td>2.0</td>\n",
       "      <td>-1.158233</td>\n",
       "      <td>0.877737</td>\n",
       "      <td>1.548718</td>\n",
       "      <td>0.403034</td>\n",
       "      <td>-0.407193</td>\n",
       "      <td>0.095921</td>\n",
       "      <td>0.592941</td>\n",
       "      <td>-0.270533</td>\n",
       "      <td>0.817739</td>\n",
       "      <td>...</td>\n",
       "      <td>-0.009431</td>\n",
       "      <td>0.798278</td>\n",
       "      <td>-0.137458</td>\n",
       "      <td>0.141267</td>\n",
       "      <td>-0.206010</td>\n",
       "      <td>0.502292</td>\n",
       "      <td>0.219422</td>\n",
       "      <td>0.215153</td>\n",
       "      <td>69.99</td>\n",
       "      <td>0</td>\n",
       "    </tr>\n",
       "  </tbody>\n",
       "</table>\n",
       "<p>5 rows × 31 columns</p>\n",
       "</div>"
      ],
      "text/plain": [
       "   Time        V1        V2        V3        V4        V5        V6        V7  \\\n",
       "0   0.0 -1.359807 -0.072781  2.536347  1.378155 -0.338321  0.462388  0.239599   \n",
       "1   0.0  1.191857  0.266151  0.166480  0.448154  0.060018 -0.082361 -0.078803   \n",
       "2   1.0 -1.358354 -1.340163  1.773209  0.379780 -0.503198  1.800499  0.791461   \n",
       "3   1.0 -0.966272 -0.185226  1.792993 -0.863291 -0.010309  1.247203  0.237609   \n",
       "4   2.0 -1.158233  0.877737  1.548718  0.403034 -0.407193  0.095921  0.592941   \n",
       "\n",
       "         V8        V9  ...       V21       V22       V23       V24       V25  \\\n",
       "0  0.098698  0.363787  ... -0.018307  0.277838 -0.110474  0.066928  0.128539   \n",
       "1  0.085102 -0.255425  ... -0.225775 -0.638672  0.101288 -0.339846  0.167170   \n",
       "2  0.247676 -1.514654  ...  0.247998  0.771679  0.909412 -0.689281 -0.327642   \n",
       "3  0.377436 -1.387024  ... -0.108300  0.005274 -0.190321 -1.175575  0.647376   \n",
       "4 -0.270533  0.817739  ... -0.009431  0.798278 -0.137458  0.141267 -0.206010   \n",
       "\n",
       "        V26       V27       V28  Amount  Class  \n",
       "0 -0.189115  0.133558 -0.021053  149.62      0  \n",
       "1  0.125895 -0.008983  0.014724    2.69      0  \n",
       "2 -0.139097 -0.055353 -0.059752  378.66      0  \n",
       "3 -0.221929  0.062723  0.061458  123.50      0  \n",
       "4  0.502292  0.219422  0.215153   69.99      0  \n",
       "\n",
       "[5 rows x 31 columns]"
      ]
     },
     "execution_count": 9,
     "metadata": {},
     "output_type": "execute_result"
    }
   ],
   "source": [
    "df.head()"
   ]
  },
  {
   "cell_type": "code",
   "execution_count": 10,
   "id": "6441252d",
   "metadata": {
    "ExecuteTime": {
     "end_time": "2021-04-18T12:06:13.579832Z",
     "start_time": "2021-04-18T12:06:13.565871Z"
    }
   },
   "outputs": [
    {
     "data": {
      "text/plain": [
       "0    284315\n",
       "1       492\n",
       "Name: Class, dtype: int64"
      ]
     },
     "execution_count": 10,
     "metadata": {},
     "output_type": "execute_result"
    }
   ],
   "source": [
    "df[\"Class\"].value_counts()"
   ]
  },
  {
   "cell_type": "markdown",
   "id": "2cd48c85",
   "metadata": {},
   "source": [
    "  ## EDA"
   ]
  },
  {
   "cell_type": "code",
   "execution_count": 11,
   "id": "290410b3",
   "metadata": {
    "ExecuteTime": {
     "end_time": "2021-04-18T12:06:13.642664Z",
     "start_time": "2021-04-18T12:06:13.580830Z"
    }
   },
   "outputs": [
    {
     "data": {
      "text/html": [
       "<div>\n",
       "<style scoped>\n",
       "    .dataframe tbody tr th:only-of-type {\n",
       "        vertical-align: middle;\n",
       "    }\n",
       "\n",
       "    .dataframe tbody tr th {\n",
       "        vertical-align: top;\n",
       "    }\n",
       "\n",
       "    .dataframe thead th {\n",
       "        text-align: right;\n",
       "    }\n",
       "</style>\n",
       "<table border=\"1\" class=\"dataframe\">\n",
       "  <thead>\n",
       "    <tr style=\"text-align: right;\">\n",
       "      <th></th>\n",
       "      <th>Amount</th>\n",
       "      <th>T_Amount</th>\n",
       "    </tr>\n",
       "  </thead>\n",
       "  <tbody>\n",
       "    <tr>\n",
       "      <th>0</th>\n",
       "      <td>149.62</td>\n",
       "      <td>5.014760</td>\n",
       "    </tr>\n",
       "    <tr>\n",
       "      <th>1</th>\n",
       "      <td>2.69</td>\n",
       "      <td>1.305626</td>\n",
       "    </tr>\n",
       "    <tr>\n",
       "      <th>2</th>\n",
       "      <td>378.66</td>\n",
       "      <td>5.939276</td>\n",
       "    </tr>\n",
       "    <tr>\n",
       "      <th>3</th>\n",
       "      <td>123.50</td>\n",
       "      <td>4.824306</td>\n",
       "    </tr>\n",
       "    <tr>\n",
       "      <th>4</th>\n",
       "      <td>69.99</td>\n",
       "      <td>4.262539</td>\n",
       "    </tr>\n",
       "    <tr>\n",
       "      <th>...</th>\n",
       "      <td>...</td>\n",
       "      <td>...</td>\n",
       "    </tr>\n",
       "    <tr>\n",
       "      <th>284802</th>\n",
       "      <td>0.77</td>\n",
       "      <td>0.570980</td>\n",
       "    </tr>\n",
       "    <tr>\n",
       "      <th>284803</th>\n",
       "      <td>24.79</td>\n",
       "      <td>3.249987</td>\n",
       "    </tr>\n",
       "    <tr>\n",
       "      <th>284804</th>\n",
       "      <td>67.88</td>\n",
       "      <td>4.232366</td>\n",
       "    </tr>\n",
       "    <tr>\n",
       "      <th>284805</th>\n",
       "      <td>10.00</td>\n",
       "      <td>2.397895</td>\n",
       "    </tr>\n",
       "    <tr>\n",
       "      <th>284806</th>\n",
       "      <td>217.00</td>\n",
       "      <td>5.384495</td>\n",
       "    </tr>\n",
       "  </tbody>\n",
       "</table>\n",
       "<p>284807 rows × 2 columns</p>\n",
       "</div>"
      ],
      "text/plain": [
       "        Amount  T_Amount\n",
       "0       149.62  5.014760\n",
       "1         2.69  1.305626\n",
       "2       378.66  5.939276\n",
       "3       123.50  4.824306\n",
       "4        69.99  4.262539\n",
       "...        ...       ...\n",
       "284802    0.77  0.570980\n",
       "284803   24.79  3.249987\n",
       "284804   67.88  4.232366\n",
       "284805   10.00  2.397895\n",
       "284806  217.00  5.384495\n",
       "\n",
       "[284807 rows x 2 columns]"
      ]
     },
     "execution_count": 11,
     "metadata": {},
     "output_type": "execute_result"
    }
   ],
   "source": [
    "sacler_val = np.log1p(df[\"Amount\"])  #Amount\n",
    "df.insert(0, 'T_Amount', sacler_val)\n",
    "df[[\"Amount\", \"T_Amount\"]]"
   ]
  },
  {
   "cell_type": "code",
   "execution_count": 12,
   "id": "528bb23a",
   "metadata": {
    "ExecuteTime": {
     "end_time": "2021-04-18T12:06:13.754323Z",
     "start_time": "2021-04-18T12:06:13.643662Z"
    }
   },
   "outputs": [
    {
     "data": {
      "text/html": [
       "<div>\n",
       "<style scoped>\n",
       "    .dataframe tbody tr th:only-of-type {\n",
       "        vertical-align: middle;\n",
       "    }\n",
       "\n",
       "    .dataframe tbody tr th {\n",
       "        vertical-align: top;\n",
       "    }\n",
       "\n",
       "    .dataframe thead th {\n",
       "        text-align: right;\n",
       "    }\n",
       "</style>\n",
       "<table border=\"1\" class=\"dataframe\">\n",
       "  <thead>\n",
       "    <tr style=\"text-align: right;\">\n",
       "      <th></th>\n",
       "      <th>T_Amount</th>\n",
       "      <th>Time</th>\n",
       "      <th>V1</th>\n",
       "      <th>V2</th>\n",
       "      <th>V3</th>\n",
       "      <th>V4</th>\n",
       "      <th>V5</th>\n",
       "      <th>V6</th>\n",
       "      <th>V7</th>\n",
       "      <th>V8</th>\n",
       "      <th>...</th>\n",
       "      <th>V20</th>\n",
       "      <th>V21</th>\n",
       "      <th>V22</th>\n",
       "      <th>V23</th>\n",
       "      <th>V24</th>\n",
       "      <th>V25</th>\n",
       "      <th>V26</th>\n",
       "      <th>V27</th>\n",
       "      <th>V28</th>\n",
       "      <th>Class</th>\n",
       "    </tr>\n",
       "  </thead>\n",
       "  <tbody>\n",
       "    <tr>\n",
       "      <th>0</th>\n",
       "      <td>5.014760</td>\n",
       "      <td>0.0</td>\n",
       "      <td>-1.359807</td>\n",
       "      <td>-0.072781</td>\n",
       "      <td>2.536347</td>\n",
       "      <td>1.378155</td>\n",
       "      <td>-0.338321</td>\n",
       "      <td>0.462388</td>\n",
       "      <td>0.239599</td>\n",
       "      <td>0.098698</td>\n",
       "      <td>...</td>\n",
       "      <td>0.251412</td>\n",
       "      <td>-0.018307</td>\n",
       "      <td>0.277838</td>\n",
       "      <td>-0.110474</td>\n",
       "      <td>0.066928</td>\n",
       "      <td>0.128539</td>\n",
       "      <td>-0.189115</td>\n",
       "      <td>0.133558</td>\n",
       "      <td>-0.021053</td>\n",
       "      <td>0</td>\n",
       "    </tr>\n",
       "    <tr>\n",
       "      <th>1</th>\n",
       "      <td>1.305626</td>\n",
       "      <td>0.0</td>\n",
       "      <td>1.191857</td>\n",
       "      <td>0.266151</td>\n",
       "      <td>0.166480</td>\n",
       "      <td>0.448154</td>\n",
       "      <td>0.060018</td>\n",
       "      <td>-0.082361</td>\n",
       "      <td>-0.078803</td>\n",
       "      <td>0.085102</td>\n",
       "      <td>...</td>\n",
       "      <td>-0.069083</td>\n",
       "      <td>-0.225775</td>\n",
       "      <td>-0.638672</td>\n",
       "      <td>0.101288</td>\n",
       "      <td>-0.339846</td>\n",
       "      <td>0.167170</td>\n",
       "      <td>0.125895</td>\n",
       "      <td>-0.008983</td>\n",
       "      <td>0.014724</td>\n",
       "      <td>0</td>\n",
       "    </tr>\n",
       "    <tr>\n",
       "      <th>2</th>\n",
       "      <td>5.939276</td>\n",
       "      <td>1.0</td>\n",
       "      <td>-1.358354</td>\n",
       "      <td>-1.340163</td>\n",
       "      <td>1.773209</td>\n",
       "      <td>0.379780</td>\n",
       "      <td>-0.503198</td>\n",
       "      <td>1.800499</td>\n",
       "      <td>0.791461</td>\n",
       "      <td>0.247676</td>\n",
       "      <td>...</td>\n",
       "      <td>0.524980</td>\n",
       "      <td>0.247998</td>\n",
       "      <td>0.771679</td>\n",
       "      <td>0.909412</td>\n",
       "      <td>-0.689281</td>\n",
       "      <td>-0.327642</td>\n",
       "      <td>-0.139097</td>\n",
       "      <td>-0.055353</td>\n",
       "      <td>-0.059752</td>\n",
       "      <td>0</td>\n",
       "    </tr>\n",
       "    <tr>\n",
       "      <th>3</th>\n",
       "      <td>4.824306</td>\n",
       "      <td>1.0</td>\n",
       "      <td>-0.966272</td>\n",
       "      <td>-0.185226</td>\n",
       "      <td>1.792993</td>\n",
       "      <td>-0.863291</td>\n",
       "      <td>-0.010309</td>\n",
       "      <td>1.247203</td>\n",
       "      <td>0.237609</td>\n",
       "      <td>0.377436</td>\n",
       "      <td>...</td>\n",
       "      <td>-0.208038</td>\n",
       "      <td>-0.108300</td>\n",
       "      <td>0.005274</td>\n",
       "      <td>-0.190321</td>\n",
       "      <td>-1.175575</td>\n",
       "      <td>0.647376</td>\n",
       "      <td>-0.221929</td>\n",
       "      <td>0.062723</td>\n",
       "      <td>0.061458</td>\n",
       "      <td>0</td>\n",
       "    </tr>\n",
       "    <tr>\n",
       "      <th>4</th>\n",
       "      <td>4.262539</td>\n",
       "      <td>2.0</td>\n",
       "      <td>-1.158233</td>\n",
       "      <td>0.877737</td>\n",
       "      <td>1.548718</td>\n",
       "      <td>0.403034</td>\n",
       "      <td>-0.407193</td>\n",
       "      <td>0.095921</td>\n",
       "      <td>0.592941</td>\n",
       "      <td>-0.270533</td>\n",
       "      <td>...</td>\n",
       "      <td>0.408542</td>\n",
       "      <td>-0.009431</td>\n",
       "      <td>0.798278</td>\n",
       "      <td>-0.137458</td>\n",
       "      <td>0.141267</td>\n",
       "      <td>-0.206010</td>\n",
       "      <td>0.502292</td>\n",
       "      <td>0.219422</td>\n",
       "      <td>0.215153</td>\n",
       "      <td>0</td>\n",
       "    </tr>\n",
       "    <tr>\n",
       "      <th>...</th>\n",
       "      <td>...</td>\n",
       "      <td>...</td>\n",
       "      <td>...</td>\n",
       "      <td>...</td>\n",
       "      <td>...</td>\n",
       "      <td>...</td>\n",
       "      <td>...</td>\n",
       "      <td>...</td>\n",
       "      <td>...</td>\n",
       "      <td>...</td>\n",
       "      <td>...</td>\n",
       "      <td>...</td>\n",
       "      <td>...</td>\n",
       "      <td>...</td>\n",
       "      <td>...</td>\n",
       "      <td>...</td>\n",
       "      <td>...</td>\n",
       "      <td>...</td>\n",
       "      <td>...</td>\n",
       "      <td>...</td>\n",
       "      <td>...</td>\n",
       "    </tr>\n",
       "    <tr>\n",
       "      <th>284802</th>\n",
       "      <td>0.570980</td>\n",
       "      <td>172786.0</td>\n",
       "      <td>-11.881118</td>\n",
       "      <td>10.071785</td>\n",
       "      <td>-9.834783</td>\n",
       "      <td>-2.066656</td>\n",
       "      <td>-5.364473</td>\n",
       "      <td>-2.606837</td>\n",
       "      <td>-4.918215</td>\n",
       "      <td>7.305334</td>\n",
       "      <td>...</td>\n",
       "      <td>1.475829</td>\n",
       "      <td>0.213454</td>\n",
       "      <td>0.111864</td>\n",
       "      <td>1.014480</td>\n",
       "      <td>-0.509348</td>\n",
       "      <td>1.436807</td>\n",
       "      <td>0.250034</td>\n",
       "      <td>0.943651</td>\n",
       "      <td>0.823731</td>\n",
       "      <td>0</td>\n",
       "    </tr>\n",
       "    <tr>\n",
       "      <th>284803</th>\n",
       "      <td>3.249987</td>\n",
       "      <td>172787.0</td>\n",
       "      <td>-0.732789</td>\n",
       "      <td>-0.055080</td>\n",
       "      <td>2.035030</td>\n",
       "      <td>-0.738589</td>\n",
       "      <td>0.868229</td>\n",
       "      <td>1.058415</td>\n",
       "      <td>0.024330</td>\n",
       "      <td>0.294869</td>\n",
       "      <td>...</td>\n",
       "      <td>0.059616</td>\n",
       "      <td>0.214205</td>\n",
       "      <td>0.924384</td>\n",
       "      <td>0.012463</td>\n",
       "      <td>-1.016226</td>\n",
       "      <td>-0.606624</td>\n",
       "      <td>-0.395255</td>\n",
       "      <td>0.068472</td>\n",
       "      <td>-0.053527</td>\n",
       "      <td>0</td>\n",
       "    </tr>\n",
       "    <tr>\n",
       "      <th>284804</th>\n",
       "      <td>4.232366</td>\n",
       "      <td>172788.0</td>\n",
       "      <td>1.919565</td>\n",
       "      <td>-0.301254</td>\n",
       "      <td>-3.249640</td>\n",
       "      <td>-0.557828</td>\n",
       "      <td>2.630515</td>\n",
       "      <td>3.031260</td>\n",
       "      <td>-0.296827</td>\n",
       "      <td>0.708417</td>\n",
       "      <td>...</td>\n",
       "      <td>0.001396</td>\n",
       "      <td>0.232045</td>\n",
       "      <td>0.578229</td>\n",
       "      <td>-0.037501</td>\n",
       "      <td>0.640134</td>\n",
       "      <td>0.265745</td>\n",
       "      <td>-0.087371</td>\n",
       "      <td>0.004455</td>\n",
       "      <td>-0.026561</td>\n",
       "      <td>0</td>\n",
       "    </tr>\n",
       "    <tr>\n",
       "      <th>284805</th>\n",
       "      <td>2.397895</td>\n",
       "      <td>172788.0</td>\n",
       "      <td>-0.240440</td>\n",
       "      <td>0.530483</td>\n",
       "      <td>0.702510</td>\n",
       "      <td>0.689799</td>\n",
       "      <td>-0.377961</td>\n",
       "      <td>0.623708</td>\n",
       "      <td>-0.686180</td>\n",
       "      <td>0.679145</td>\n",
       "      <td>...</td>\n",
       "      <td>0.127434</td>\n",
       "      <td>0.265245</td>\n",
       "      <td>0.800049</td>\n",
       "      <td>-0.163298</td>\n",
       "      <td>0.123205</td>\n",
       "      <td>-0.569159</td>\n",
       "      <td>0.546668</td>\n",
       "      <td>0.108821</td>\n",
       "      <td>0.104533</td>\n",
       "      <td>0</td>\n",
       "    </tr>\n",
       "    <tr>\n",
       "      <th>284806</th>\n",
       "      <td>5.384495</td>\n",
       "      <td>172792.0</td>\n",
       "      <td>-0.533413</td>\n",
       "      <td>-0.189733</td>\n",
       "      <td>0.703337</td>\n",
       "      <td>-0.506271</td>\n",
       "      <td>-0.012546</td>\n",
       "      <td>-0.649617</td>\n",
       "      <td>1.577006</td>\n",
       "      <td>-0.414650</td>\n",
       "      <td>...</td>\n",
       "      <td>0.382948</td>\n",
       "      <td>0.261057</td>\n",
       "      <td>0.643078</td>\n",
       "      <td>0.376777</td>\n",
       "      <td>0.008797</td>\n",
       "      <td>-0.473649</td>\n",
       "      <td>-0.818267</td>\n",
       "      <td>-0.002415</td>\n",
       "      <td>0.013649</td>\n",
       "      <td>0</td>\n",
       "    </tr>\n",
       "  </tbody>\n",
       "</table>\n",
       "<p>284807 rows × 31 columns</p>\n",
       "</div>"
      ],
      "text/plain": [
       "        T_Amount      Time         V1         V2        V3        V4  \\\n",
       "0       5.014760       0.0  -1.359807  -0.072781  2.536347  1.378155   \n",
       "1       1.305626       0.0   1.191857   0.266151  0.166480  0.448154   \n",
       "2       5.939276       1.0  -1.358354  -1.340163  1.773209  0.379780   \n",
       "3       4.824306       1.0  -0.966272  -0.185226  1.792993 -0.863291   \n",
       "4       4.262539       2.0  -1.158233   0.877737  1.548718  0.403034   \n",
       "...          ...       ...        ...        ...       ...       ...   \n",
       "284802  0.570980  172786.0 -11.881118  10.071785 -9.834783 -2.066656   \n",
       "284803  3.249987  172787.0  -0.732789  -0.055080  2.035030 -0.738589   \n",
       "284804  4.232366  172788.0   1.919565  -0.301254 -3.249640 -0.557828   \n",
       "284805  2.397895  172788.0  -0.240440   0.530483  0.702510  0.689799   \n",
       "284806  5.384495  172792.0  -0.533413  -0.189733  0.703337 -0.506271   \n",
       "\n",
       "              V5        V6        V7        V8  ...       V20       V21  \\\n",
       "0      -0.338321  0.462388  0.239599  0.098698  ...  0.251412 -0.018307   \n",
       "1       0.060018 -0.082361 -0.078803  0.085102  ... -0.069083 -0.225775   \n",
       "2      -0.503198  1.800499  0.791461  0.247676  ...  0.524980  0.247998   \n",
       "3      -0.010309  1.247203  0.237609  0.377436  ... -0.208038 -0.108300   \n",
       "4      -0.407193  0.095921  0.592941 -0.270533  ...  0.408542 -0.009431   \n",
       "...          ...       ...       ...       ...  ...       ...       ...   \n",
       "284802 -5.364473 -2.606837 -4.918215  7.305334  ...  1.475829  0.213454   \n",
       "284803  0.868229  1.058415  0.024330  0.294869  ...  0.059616  0.214205   \n",
       "284804  2.630515  3.031260 -0.296827  0.708417  ...  0.001396  0.232045   \n",
       "284805 -0.377961  0.623708 -0.686180  0.679145  ...  0.127434  0.265245   \n",
       "284806 -0.012546 -0.649617  1.577006 -0.414650  ...  0.382948  0.261057   \n",
       "\n",
       "             V22       V23       V24       V25       V26       V27       V28  \\\n",
       "0       0.277838 -0.110474  0.066928  0.128539 -0.189115  0.133558 -0.021053   \n",
       "1      -0.638672  0.101288 -0.339846  0.167170  0.125895 -0.008983  0.014724   \n",
       "2       0.771679  0.909412 -0.689281 -0.327642 -0.139097 -0.055353 -0.059752   \n",
       "3       0.005274 -0.190321 -1.175575  0.647376 -0.221929  0.062723  0.061458   \n",
       "4       0.798278 -0.137458  0.141267 -0.206010  0.502292  0.219422  0.215153   \n",
       "...          ...       ...       ...       ...       ...       ...       ...   \n",
       "284802  0.111864  1.014480 -0.509348  1.436807  0.250034  0.943651  0.823731   \n",
       "284803  0.924384  0.012463 -1.016226 -0.606624 -0.395255  0.068472 -0.053527   \n",
       "284804  0.578229 -0.037501  0.640134  0.265745 -0.087371  0.004455 -0.026561   \n",
       "284805  0.800049 -0.163298  0.123205 -0.569159  0.546668  0.108821  0.104533   \n",
       "284806  0.643078  0.376777  0.008797 -0.473649 -0.818267 -0.002415  0.013649   \n",
       "\n",
       "        Class  \n",
       "0           0  \n",
       "1           0  \n",
       "2           0  \n",
       "3           0  \n",
       "4           0  \n",
       "...       ...  \n",
       "284802      0  \n",
       "284803      0  \n",
       "284804      0  \n",
       "284805      0  \n",
       "284806      0  \n",
       "\n",
       "[284807 rows x 31 columns]"
      ]
     },
     "execution_count": 12,
     "metadata": {},
     "output_type": "execute_result"
    }
   ],
   "source": [
    "# Time : 일반/정상 거래...\n",
    "df.drop([\"Amount\"], inplace=True, axis=1)\n",
    "df"
   ]
  },
  {
   "cell_type": "code",
   "execution_count": 13,
   "id": "92aedd0d",
   "metadata": {
    "ExecuteTime": {
     "end_time": "2021-04-18T12:06:13.770280Z",
     "start_time": "2021-04-18T12:06:13.755321Z"
    }
   },
   "outputs": [],
   "source": [
    "# MinMax StandardScaler ---?"
   ]
  },
  {
   "cell_type": "code",
   "execution_count": 14,
   "id": "0ee5ba9c",
   "metadata": {
    "ExecuteTime": {
     "end_time": "2021-04-18T12:06:13.817156Z",
     "start_time": "2021-04-18T12:06:13.771278Z"
    }
   },
   "outputs": [],
   "source": [
    "# Time : 일반/정상 거래...\n",
    "df.drop([\"Time\"], inplace=True, axis=1)"
   ]
  },
  {
   "cell_type": "markdown",
   "id": "41f17878",
   "metadata": {
    "ExecuteTime": {
     "end_time": "2021-04-15T08:36:23.226275Z",
     "start_time": "2021-04-15T08:36:23.208323Z"
    }
   },
   "source": [
    "### 0 데이터 확인"
   ]
  },
  {
   "cell_type": "code",
   "execution_count": 15,
   "id": "b939ef11",
   "metadata": {
    "ExecuteTime": {
     "end_time": "2021-04-18T12:06:13.975136Z",
     "start_time": "2021-04-18T12:06:13.818153Z"
    }
   },
   "outputs": [
    {
     "name": "stdout",
     "output_type": "stream",
     "text": [
      "             CNT       RATE\n",
      "Class     284315  99.827251\n",
      "T_Amount    1825   0.640785\n"
     ]
    }
   ],
   "source": [
    "nan_dict = {\"CNT\": df.isin([0]).sum(),\n",
    "           \"RATE\": df.isin([0]).sum()/df.shape[0]*100}\n",
    "nan_df = pd.DataFrame(nan_dict)\n",
    "print(nan_df[nan_df[\"RATE\"]>0].sort_values(\"CNT\", ascending=False))"
   ]
  },
  {
   "cell_type": "code",
   "execution_count": 16,
   "id": "3ad6bde6",
   "metadata": {
    "ExecuteTime": {
     "end_time": "2021-04-18T12:06:14.099803Z",
     "start_time": "2021-04-18T12:06:13.976134Z"
    }
   },
   "outputs": [
    {
     "data": {
      "text/plain": [
       "Class       1.000000\n",
       "V11         0.154876\n",
       "V4          0.133447\n",
       "V2          0.091289\n",
       "V21         0.040413\n",
       "V19         0.034783\n",
       "V20         0.020090\n",
       "V8          0.019875\n",
       "V27         0.017580\n",
       "V28         0.009536\n",
       "V26         0.004455\n",
       "V25         0.003308\n",
       "V22         0.000805\n",
       "V23        -0.002685\n",
       "V15        -0.004223\n",
       "V13        -0.004570\n",
       "V24        -0.007221\n",
       "T_Amount   -0.008326\n",
       "V6         -0.043643\n",
       "V5         -0.094974\n",
       "V9         -0.097733\n",
       "V1         -0.101347\n",
       "V18        -0.111485\n",
       "V7         -0.187257\n",
       "V3         -0.192961\n",
       "V16        -0.196539\n",
       "V10        -0.216883\n",
       "V12        -0.260593\n",
       "V14        -0.302544\n",
       "V17        -0.326481\n",
       "dtype: float64"
      ]
     },
     "execution_count": 16,
     "metadata": {},
     "output_type": "execute_result"
    }
   ],
   "source": [
    "df.corrwith(df[\"Class\"]).sort_values(ascending=False)"
   ]
  },
  {
   "cell_type": "code",
   "execution_count": null,
   "id": "00a5948d",
   "metadata": {},
   "outputs": [],
   "source": []
  },
  {
   "cell_type": "markdown",
   "id": "9a695615",
   "metadata": {
    "ExecuteTime": {
     "end_time": "2021-04-15T03:27:12.406739Z",
     "start_time": "2021-04-15T03:27:12.396765Z"
    }
   },
   "source": [
    "##  검증\n",
    " * GridSearchCV cv=10회\n",
    " * 교차검증"
   ]
  },
  {
   "cell_type": "code",
   "execution_count": 17,
   "id": "ee6a7e20",
   "metadata": {
    "ExecuteTime": {
     "end_time": "2021-04-18T12:06:14.224470Z",
     "start_time": "2021-04-18T12:06:14.100801Z"
    }
   },
   "outputs": [
    {
     "name": "stdout",
     "output_type": "stream",
     "text": [
      "284807 (284807, 29)\n",
      "(227845, 29) (56962, 29) 227845 56962\n"
     ]
    }
   ],
   "source": [
    "df_y = df.iloc[:, -1]  #df[\"traget\"]  \n",
    "df_X = df.iloc[:, :-1]\n",
    "print(len(df_y), df_X.shape)\n",
    "X_train, X_test, y_train, y_test = train_test_split(df_X, df_y, test_size=0.2, random_state=36,  shuffle=True)\n",
    "print(X_train.shape, X_test.shape, len(y_train), len(y_test))"
   ]
  },
  {
   "cell_type": "code",
   "execution_count": 18,
   "id": "07ef5e29",
   "metadata": {
    "ExecuteTime": {
     "end_time": "2021-04-18T12:06:14.240427Z",
     "start_time": "2021-04-18T12:06:14.225467Z"
    }
   },
   "outputs": [],
   "source": [
    "dt = DecisionTreeClassifier(random_state=36)"
   ]
  },
  {
   "cell_type": "code",
   "execution_count": 19,
   "id": "88d8bc8c",
   "metadata": {
    "ExecuteTime": {
     "end_time": "2021-04-18T12:08:40.671613Z",
     "start_time": "2021-04-18T12:06:14.241425Z"
    },
    "scrolled": true
   },
   "outputs": [
    {
     "name": "stdout",
     "output_type": "stream",
     "text": [
      "0.9088220147761981\n",
      "DecisionTreeClassifier(max_depth=5, random_state=36)\n",
      "{'max_depth': 5, 'min_samples_split': 2}\n",
      "F1 : 0.950547\n",
      "Accuracy:0.999719  precision:0.948052, recall:0.858824, f1:0.901235, auc:0.941087\n",
      "[[56873     4]\n",
      " [   12    73]]\n",
      "9 9 8\n"
     ]
    },
    {
     "data": {
      "image/png": "[encoded data removed]",
      "text/plain": [
       "<Figure size 432x288 with 1 Axes>"
      ]
     },
     "metadata": {
      "needs_background": "light"
     },
     "output_type": "display_data"
    },
    {
     "name": "stdout",
     "output_type": "stream",
     "text": [
      "10 10 10\n"
     ]
    },
    {
     "data": {
      "image/png": "[encoded data removed]",
      "text/plain": [
       "<Figure size 432x288 with 1 Axes>"
      ]
     },
     "metadata": {
      "needs_background": "light"
     },
     "output_type": "display_data"
    }
   ],
   "source": [
    "from sklearn.model_selection import GridSearchCV\n",
    "#cross_val_score +  param_grid(튜닝) / refit=True(best모델반영)\n",
    "# depth가 깊어질수록 결정트리는 과적합되기 쉬워 예측 성능이 저하될 수 있다\n",
    "# min_samples_split 작게 설정할 수록 분할 노드가 많아져 과적합 가능성 증가\n",
    "myparam = {'max_depth':[1,3,5], 'min_samples_split':[1,2,3]}\n",
    "GCV_model = GridSearchCV(dt, param_grid=myparam, refit=True, cv=10, scoring='f1_macro',verbose=0)\n",
    "GCV_model.fit(X_train, y_train)\n",
    "\n",
    "#max_depth 4번 * min_samples_split 3번 * cv=10  = 총 120번 학습\n",
    "print(GCV_model.best_score_)\n",
    "print(GCV_model.best_estimator_)\n",
    "print(GCV_model.best_params_)\n",
    "\n",
    "pred = GCV_model.predict(X_test)  \n",
    "df_score = f1_score(y_test, pred, average='macro')\n",
    "print(\"F1 : {:.6f}\".format(df_score))\n",
    "\n",
    "\n",
    "proba = GCV_model.predict_proba(X_test)\n",
    "myscore(y_test, pred, proba, pr_curve=1, auc_curve=1)\n",
    "\n",
    "# 0.9083462500525215, {'max_depth': 5, 'min_samples_split': 2}, F1 : 0.947778 executed in 2m 36s"
   ]
  },
  {
   "cell_type": "code",
   "execution_count": 42,
   "id": "428ddb34",
   "metadata": {
    "ExecuteTime": {
     "end_time": "2021-04-18T12:17:45.057139Z",
     "start_time": "2021-04-18T12:17:45.039187Z"
    }
   },
   "outputs": [],
   "source": [
    "lr = LogisticRegression(random_state = 36)"
   ]
  },
  {
   "cell_type": "code",
   "execution_count": 44,
   "id": "72f8e4dd",
   "metadata": {
    "ExecuteTime": {
     "end_time": "2021-04-18T12:21:34.345274Z",
     "start_time": "2021-04-18T12:20:15.292453Z"
    }
   },
   "outputs": [
    {
     "name": "stdout",
     "output_type": "stream",
     "text": [
      "0.8615196812030403\n",
      "LogisticRegression(C=10, random_state=36)\n",
      "{'C': 10, 'penalty': 'l2'}\n",
      "F1 : 0.862838\n",
      "Accuracy:0.999298  precision:0.868852, recall:0.623529, f1:0.726027, auc:0.985200\n",
      "[[56869     8]\n",
      " [   32    53]]\n",
      "32477 32477 32476\n"
     ]
    },
    {
     "data": {
      "image/png": "[encoded data removed]",
      "text/plain": [
       "<Figure size 432x288 with 1 Axes>"
      ]
     },
     "metadata": {
      "needs_background": "light"
     },
     "output_type": "display_data"
    },
    {
     "name": "stdout",
     "output_type": "stream",
     "text": [
      "936 936 936\n"
     ]
    },
    {
     "data": {
      "image/png": "[encoded data removed]",
      "text/plain": [
       "<Figure size 432x288 with 1 Axes>"
      ]
     },
     "metadata": {
      "needs_background": "light"
     },
     "output_type": "display_data"
    }
   ],
   "source": [
    "from sklearn.model_selection import GridSearchCV\n",
    "#cross_val_score +  param_grid(튜닝) / refit=True(best모델반영)\n",
    "# depth가 깊어질수록 결정트리는 과적합되기 쉬워 예측 성능이 저하될 수 있다\n",
    "# min_samples_split 작게 설정할 수록 분할 노드가 많아져 과적합 가능성 증가\n",
    "myparam = {'C': [0.001, 0.01, 0.1, 1, 10, 100],\n",
    "              'penalty': ['l1', 'l2']}\n",
    "GCV_model = GridSearchCV(lr, param_grid=myparam, refit=True, cv=10, scoring='f1_macro',verbose=0)\n",
    "GCV_model.fit(X_train, y_train)\n",
    "\n",
    "print(GCV_model.best_score_)\n",
    "print(GCV_model.best_estimator_)\n",
    "print(GCV_model.best_params_)\n",
    "\n",
    "pred = GCV_model.predict(X_test)  \n",
    "df_score = f1_score(y_test, pred, average='macro') \n",
    "print(\"F1 : {:.6f}\".format(df_score))\n",
    "\n",
    "\n",
    "proba = GCV_model.predict_proba(X_test)\n",
    "myscore(y_test, pred, proba, pr_curve=1, auc_curve=1)\n",
    "# Accuracy:0.999298  precision:0.868852, recall:0.623529, f1:0.726027, auc:0.985200, executed in 1m 19.1s"
   ]
  },
  {
   "cell_type": "code",
   "execution_count": null,
   "id": "e955fd77",
   "metadata": {},
   "outputs": [],
   "source": []
  },
  {
   "cell_type": "code",
   "execution_count": null,
   "id": "0fbd06dc",
   "metadata": {},
   "outputs": [],
   "source": []
  },
  {
   "cell_type": "code",
   "execution_count": null,
   "id": "c4e632f8",
   "metadata": {},
   "outputs": [],
   "source": []
  },
  {
   "cell_type": "code",
   "execution_count": null,
   "id": "d711ebe3",
   "metadata": {},
   "outputs": [],
   "source": []
  },
  {
   "cell_type": "code",
   "execution_count": 21,
   "id": "45aeedef",
   "metadata": {
    "ExecuteTime": {
     "end_time": "2021-04-18T12:08:42.885691Z",
     "start_time": "2021-04-18T12:08:40.782317Z"
    }
   },
   "outputs": [
    {
     "name": "stdout",
     "output_type": "stream",
     "text": [
      "Accuracy:0.999298  precision:0.868852, recall:0.623529, f1:0.726027, auc:0.985412\n",
      "[[56869     8]\n",
      " [   32    53]]\n",
      "31793 31793 31792\n"
     ]
    },
    {
     "data": {
      "image/png": "[encoded data removed]",
      "text/plain": [
       "<Figure size 432x288 with 1 Axes>"
      ]
     },
     "metadata": {
      "needs_background": "light"
     },
     "output_type": "display_data"
    },
    {
     "name": "stdout",
     "output_type": "stream",
     "text": [
      "935 935 935\n"
     ]
    },
    {
     "data": {
      "image/png": "[encoded data removed]",
      "text/plain": [
       "<Figure size 432x288 with 1 Axes>"
      ]
     },
     "metadata": {
      "needs_background": "light"
     },
     "output_type": "display_data"
    }
   ],
   "source": [
    "lr = LogisticRegression(random_state = 36)\n",
    "lr.fit(X_train,y_train)\n",
    "pred_lr = lr.predict(X_test)\n",
    "proba_lr = lr.predict_proba(X_test)\n",
    "myscore(y_test, pred_lr, proba_lr, pr_curve=1, auc_curve=1)"
   ]
  },
  {
   "cell_type": "code",
   "execution_count": 22,
   "id": "021c97b5",
   "metadata": {
    "ExecuteTime": {
     "end_time": "2021-04-18T12:08:59.028280Z",
     "start_time": "2021-04-18T12:08:42.886688Z"
    }
   },
   "outputs": [
    {
     "name": "stdout",
     "output_type": "stream",
     "text": [
      "Accuracy:0.999315  precision:0.734694, recall:0.847059, f1:0.786885, auc:0.923301\n",
      "[[56851    26]\n",
      " [   13    72]]\n",
      "3 3 2\n"
     ]
    },
    {
     "data": {
      "image/png": "[encoded data removed]",
      "text/plain": [
       "<Figure size 432x288 with 1 Axes>"
      ]
     },
     "metadata": {
      "needs_background": "light"
     },
     "output_type": "display_data"
    },
    {
     "name": "stdout",
     "output_type": "stream",
     "text": [
      "3 3 3\n"
     ]
    },
    {
     "data": {
      "image/png": "[encoded data removed]",
      "text/plain": [
       "<Figure size 432x288 with 1 Axes>"
      ]
     },
     "metadata": {
      "needs_background": "light"
     },
     "output_type": "display_data"
    }
   ],
   "source": [
    "dt = DecisionTreeClassifier(random_state = 36)\n",
    "dt.fit(X_train, y_train)\n",
    "pred_dt = dt.predict(X_test)\n",
    "proba_dt = dt.predict_proba(X_test)\n",
    "myscore(y_test, pred_dt, proba_dt, pr_curve=1, auc_curve=1)"
   ]
  },
  {
   "cell_type": "code",
   "execution_count": 47,
   "id": "8f0694aa",
   "metadata": {
    "ExecuteTime": {
     "end_time": "2021-04-18T12:27:01.901570Z",
     "start_time": "2021-04-18T12:27:00.246726Z"
    }
   },
   "outputs": [
    {
     "name": "stdout",
     "output_type": "stream",
     "text": [
      "Accuracy:0.999684  precision:0.958904, recall:0.823529, f1:0.886076, auc:0.981634\n",
      "[[56874     3]\n",
      " [   15    70]]\n",
      "21941 21941 21940\n"
     ]
    },
    {
     "data": {
      "image/png": "[encoded data removed]",
      "text/plain": [
       "<Figure size 432x288 with 1 Axes>"
      ]
     },
     "metadata": {
      "needs_background": "light"
     },
     "output_type": "display_data"
    },
    {
     "name": "stdout",
     "output_type": "stream",
     "text": [
      "5397 5397 5397\n"
     ]
    },
    {
     "data": {
      "image/png": "[encoded data removed]",
      "text/plain": [
       "<Figure size 432x288 with 1 Axes>"
      ]
     },
     "metadata": {
      "needs_background": "light"
     },
     "output_type": "display_data"
    }
   ],
   "source": [
    "lgbm = LGBMClassifier(boost_from_average=False)\n",
    "lgbm.fit(X_train, y_train)\n",
    "pred_dt = lgbm.predict(X_test)\n",
    "proba_dt = lgbm.predict_proba(X_test)\n",
    "myscore(y_test, pred_dt, proba_dt, pr_curve=1, auc_curve=1)"
   ]
  },
  {
   "cell_type": "code",
   "execution_count": null,
   "id": "07794264",
   "metadata": {},
   "outputs": [],
   "source": []
  },
  {
   "cell_type": "code",
   "execution_count": 24,
   "id": "561490d5",
   "metadata": {
    "ExecuteTime": {
     "end_time": "2021-04-18T12:09:01.847739Z",
     "start_time": "2021-04-18T12:09:00.756659Z"
    }
   },
   "outputs": [
    {
     "data": {
      "text/plain": [
       "Class       1.000000\n",
       "V11         0.154876\n",
       "V4          0.133447\n",
       "V2          0.091289\n",
       "V21         0.040413\n",
       "V19         0.034783\n",
       "V20         0.020090\n",
       "V8          0.019875\n",
       "V27         0.017580\n",
       "V28         0.009536\n",
       "V26         0.004455\n",
       "V25         0.003308\n",
       "V22         0.000805\n",
       "V23        -0.002685\n",
       "V15        -0.004223\n",
       "V13        -0.004570\n",
       "V24        -0.007221\n",
       "T_Amount   -0.008326\n",
       "V6         -0.043643\n",
       "V5         -0.094974\n",
       "V9         -0.097733\n",
       "V1         -0.101347\n",
       "V18        -0.111485\n",
       "V7         -0.187257\n",
       "V3         -0.192961\n",
       "V16        -0.196539\n",
       "V10        -0.216883\n",
       "V12        -0.260593\n",
       "V14        -0.302544\n",
       "V17        -0.326481\n",
       "dtype: float64"
      ]
     },
     "execution_count": 24,
     "metadata": {},
     "output_type": "execute_result"
    },
    {
     "data": {
      "image/png": "[encoded data removed]",
      "text/plain": [
       "<Figure size 648x360 with 2 Axes>"
      ]
     },
     "metadata": {
      "needs_background": "light"
     },
     "output_type": "display_data"
    }
   ],
   "source": [
    "plt.figure(figsize=(9, 5))\n",
    "sns.heatmap(df.corr(), cmap='RdBu')  #under_df.corr()\n",
    "\n",
    "df.corrwith(df[\"Class\"]).sort_values(ascending=False)"
   ]
  },
  {
   "cell_type": "code",
   "execution_count": null,
   "id": "07e98e5c",
   "metadata": {},
   "outputs": [],
   "source": []
  },
  {
   "cell_type": "code",
   "execution_count": null,
   "id": "afbcaa27",
   "metadata": {},
   "outputs": [],
   "source": []
  },
  {
   "cell_type": "code",
   "execution_count": null,
   "id": "969beef6",
   "metadata": {},
   "outputs": [],
   "source": []
  },
  {
   "cell_type": "code",
   "execution_count": null,
   "id": "f080d994",
   "metadata": {},
   "outputs": [],
   "source": []
  },
  {
   "cell_type": "markdown",
   "id": "b9635afa",
   "metadata": {},
   "source": [
    "## 언더샘플링 \n",
    "- 과적합 많이 나옴\n",
    "- 현업에서 거의 안쓰임\n",
    "- 공모전에서는 점수 올리려고 쓰긴 함 "
   ]
  },
  {
   "cell_type": "code",
   "execution_count": 25,
   "id": "886271f2",
   "metadata": {
    "ExecuteTime": {
     "end_time": "2021-04-18T12:09:01.973403Z",
     "start_time": "2021-04-18T12:09:01.848737Z"
    }
   },
   "outputs": [],
   "source": [
    "from imblearn.over_sampling  import SMOTE\n",
    "from imblearn.under_sampling import NearMiss\n",
    "from imblearn.metrics  import classification_report_imbalanced\n",
    "from sklearn.metrics   import classification_report\n",
    "from sklearn.pipeline  import make_pipeline\n",
    "from imblearn.pipeline import make_pipeline as make_pipeline_imb\n",
    "from sklearn.utils     import shuffle"
   ]
  },
  {
   "cell_type": "markdown",
   "id": "cb5791ca",
   "metadata": {
    "ExecuteTime": {
     "end_time": "2021-04-16T01:20:54.352806Z",
     "start_time": "2021-04-16T01:20:54.344828Z"
    }
   },
   "source": [
    "### 언더샘플링 - NearMiss build model"
   ]
  },
  {
   "cell_type": "code",
   "execution_count": 26,
   "id": "ad318c48",
   "metadata": {
    "ExecuteTime": {
     "end_time": "2021-04-18T12:09:01.988363Z",
     "start_time": "2021-04-18T12:09:01.974401Z"
    }
   },
   "outputs": [],
   "source": [
    "from collections import Counter"
   ]
  },
  {
   "cell_type": "code",
   "execution_count": 27,
   "id": "0d58eeff",
   "metadata": {
    "ExecuteTime": {
     "end_time": "2021-04-18T12:09:02.051195Z",
     "start_time": "2021-04-18T12:09:01.989361Z"
    }
   },
   "outputs": [
    {
     "name": "stdout",
     "output_type": "stream",
     "text": [
      "Distribution of Target Variable in Original Data: Counter({0: 284315, 1: 492})\n",
      "\n",
      "Distribution of Target Variable in Training Set of Original Data: Counter({0: 227438, 1: 407})\n",
      "\n",
      "Distribution of Target Variable in Test Set of Original Data: Counter({0: 56877, 1: 85})\n",
      "\n"
     ]
    }
   ],
   "source": [
    "print('Distribution of Target Variable in Original Data: {}\\n'.format(Counter(df_y)))\n",
    "print('Distribution of Target Variable in Training Set of Original Data: {}\\n'.format(Counter(y_train)))\n",
    "print('Distribution of Target Variable in Test Set of Original Data: {}\\n'.format(Counter(y_test)))"
   ]
  },
  {
   "cell_type": "code",
   "execution_count": 28,
   "id": "2729b619",
   "metadata": {
    "ExecuteTime": {
     "end_time": "2021-04-18T12:09:04.199433Z",
     "start_time": "2021-04-18T12:09:02.052193Z"
    }
   },
   "outputs": [
    {
     "name": "stdout",
     "output_type": "stream",
     "text": [
      "after NearMiss(train): Counter({0: 407, 1: 407})\n",
      "\n",
      "after NearMiss(test): Counter({0: 85, 1: 85})\n",
      "\n"
     ]
    }
   ],
   "source": [
    "X_train_NearMiss, y_train_NearMiss = NearMiss().fit_resample(X_train.values, y_train.values)\n",
    "X_test_NearMiss, y_test_NearMiss   = NearMiss().fit_resample(X_test.values, y_test.values)\n",
    "print('after NearMiss(train): {}\\n'.format(Counter(y_train_NearMiss)))\n",
    "print('after NearMiss(test): {}\\n'.format(Counter(y_test_NearMiss)))\n"
   ]
  },
  {
   "cell_type": "markdown",
   "id": "799f5229",
   "metadata": {},
   "source": [
    "### 언더샘플링 - shuffle"
   ]
  },
  {
   "cell_type": "code",
   "execution_count": 29,
   "id": "3b22b6c4",
   "metadata": {
    "ExecuteTime": {
     "end_time": "2021-04-18T12:09:04.295177Z",
     "start_time": "2021-04-18T12:09:04.200430Z"
    }
   },
   "outputs": [],
   "source": [
    "# NearMiss와 동일 코드 \n",
    "# Shuffle 언더프레임\n",
    "df = df.sample(frac=1)   #shuffle\n",
    "df1 = df.loc[df['Class'] == 1]\n",
    "df0 = df.loc[df['Class'] == 0][:len(df1)]\n",
    "under_df_f1f0 = pd.concat([df1, df0])\n",
    "under_df = under_df_f1f0.sample(frac=1, random_state=42)"
   ]
  },
  {
   "cell_type": "code",
   "execution_count": 30,
   "id": "fcf1ac67",
   "metadata": {
    "ExecuteTime": {
     "end_time": "2021-04-18T12:09:04.531942Z",
     "start_time": "2021-04-18T12:09:04.296174Z"
    }
   },
   "outputs": [
    {
     "name": "stdout",
     "output_type": "stream",
     "text": [
      "Accuracy:0.811765  precision:1.000000, recall:0.623529, f1:0.768116, auc:0.957647\n",
      "[[85  0]\n",
      " [32 53]]\n",
      "168 168 167\n"
     ]
    },
    {
     "data": {
      "image/png": "[encoded data removed]",
      "text/plain": [
       "<Figure size 432x288 with 1 Axes>"
      ]
     },
     "metadata": {
      "needs_background": "light"
     },
     "output_type": "display_data"
    },
    {
     "name": "stdout",
     "output_type": "stream",
     "text": [
      "25 25 25\n"
     ]
    },
    {
     "data": {
      "image/png": "[encoded data removed]",
      "text/plain": [
       "<Figure size 432x288 with 1 Axes>"
      ]
     },
     "metadata": {
      "needs_background": "light"
     },
     "output_type": "display_data"
    }
   ],
   "source": [
    "lr_clf = LogisticRegression(random_state = 36)\n",
    "lr_clf.fit(X_train_NearMiss,y_train_NearMiss)\n",
    "pred_lr = lr.predict(X_test_NearMiss)\n",
    "proba_lr = lr.predict_proba(X_test_NearMiss)\n",
    "myscore(y_test_NearMiss, pred_lr, proba_lr, pr_curve=1, auc_curve=1)"
   ]
  },
  {
   "cell_type": "code",
   "execution_count": null,
   "id": "e2e136c8",
   "metadata": {},
   "outputs": [],
   "source": []
  },
  {
   "cell_type": "code",
   "execution_count": null,
   "id": "f6518f08",
   "metadata": {},
   "outputs": [],
   "source": []
  },
  {
   "cell_type": "code",
   "execution_count": null,
   "id": "6476817b",
   "metadata": {},
   "outputs": [],
   "source": []
  },
  {
   "cell_type": "markdown",
   "id": "8152d1cb",
   "metadata": {
    "ExecuteTime": {
     "end_time": "2021-04-16T02:19:36.524773Z",
     "start_time": "2021-04-16T02:19:36.521782Z"
    }
   },
   "source": [
    "## 오버샘플링"
   ]
  },
  {
   "cell_type": "code",
   "execution_count": 32,
   "id": "2780c12e",
   "metadata": {
    "ExecuteTime": {
     "end_time": "2021-04-18T12:09:04.769345Z",
     "start_time": "2021-04-18T12:09:04.754347Z"
    }
   },
   "outputs": [],
   "source": [
    "from imblearn.over_sampling import SMOTE"
   ]
  },
  {
   "cell_type": "code",
   "execution_count": 39,
   "id": "b6e10517",
   "metadata": {
    "ExecuteTime": {
     "end_time": "2021-04-18T12:11:16.954802Z",
     "start_time": "2021-04-18T12:11:16.596193Z"
    }
   },
   "outputs": [
    {
     "name": "stdout",
     "output_type": "stream",
     "text": [
      "SMOTE 사용 전 train  (227845, 29) (227845,)\n",
      "SMOTE 사용 후 train_over  (454876, 29) (454876,)\n",
      "SMOTE 사용 후 y_train_over  0    227438\n",
      "1    227438\n",
      "Name: Class, dtype: int64\n"
     ]
    }
   ],
   "source": [
    "smote = SMOTE(random_state=0)\n",
    "print('SMOTE 사용 전 train ', X_train.shape, y_train.shape)\n",
    "X_train_over, y_train_over = smote.fit_resample(X_train, y_train)\n",
    "print('SMOTE 사용 후 train_over ', X_train_over.shape, y_train_over.shape)\n",
    "print('SMOTE 사용 후 y_train_over ', pd.Series(y_train_over).value_counts())"
   ]
  },
  {
   "cell_type": "code",
   "execution_count": 40,
   "id": "120fa20f",
   "metadata": {
    "ExecuteTime": {
     "end_time": "2021-04-18T12:11:22.879020Z",
     "start_time": "2021-04-18T12:11:19.948222Z"
    }
   },
   "outputs": [
    {
     "name": "stdout",
     "output_type": "stream",
     "text": [
      "Accuracy:0.999298  precision:0.868852, recall:0.623529, f1:0.726027, auc:0.985412\n",
      "[[56869     8]\n",
      " [   32    53]]\n",
      "31793 31793 31792\n"
     ]
    },
    {
     "data": {
      "image/png": "[encoded data removed]",
      "text/plain": [
       "<Figure size 432x288 with 1 Axes>"
      ]
     },
     "metadata": {
      "needs_background": "light"
     },
     "output_type": "display_data"
    },
    {
     "name": "stdout",
     "output_type": "stream",
     "text": [
      "935 935 935\n"
     ]
    },
    {
     "data": {
      "image/png": "[encoded data removed]",
      "text/plain": [
       "<Figure size 432x288 with 1 Axes>"
      ]
     },
     "metadata": {
      "needs_background": "light"
     },
     "output_type": "display_data"
    }
   ],
   "source": [
    "lr_clf = LogisticRegression(random_state = 36)\n",
    "lr_clf.fit(X_train_over,y_train_over)\n",
    "pred_lr = lr.predict(X_test)\n",
    "proba_lr = lr.predict_proba(X_test)\n",
    "myscore(y_test, pred_lr, proba_lr, pr_curve=1, auc_curve=1)"
   ]
  },
  {
   "cell_type": "code",
   "execution_count": 59,
   "id": "e2782073",
   "metadata": {
    "ExecuteTime": {
     "end_time": "2021-04-18T13:16:25.931450Z",
     "start_time": "2021-04-18T13:16:03.535904Z"
    }
   },
   "outputs": [
    {
     "name": "stdout",
     "output_type": "stream",
     "text": [
      "Accuracy:0.999596  precision:0.860465, recall:0.870588, f1:0.865497, auc:0.970717\n",
      "[[56865    12]\n",
      " [   11    74]]\n",
      "55130 55130 55129\n"
     ]
    },
    {
     "data": {
      "image/png": "[encoded data removed]",
      "text/plain": [
       "<Figure size 432x288 with 1 Axes>"
      ]
     },
     "metadata": {
      "needs_background": "light"
     },
     "output_type": "display_data"
    },
    {
     "name": "stdout",
     "output_type": "stream",
     "text": [
      "1096 1096 1096\n"
     ]
    },
    {
     "data": {
      "image/png": "[encoded data removed]",
      "text/plain": [
       "<Figure size 432x288 with 1 Axes>"
      ]
     },
     "metadata": {
      "needs_background": "light"
     },
     "output_type": "display_data"
    }
   ],
   "source": [
    "lgbm = LGBMClassifier(n_estimators=1000, num_leaves=64, n_jobs=-1, boost_from_average=False)\n",
    "lgbm.fit(X_train_over, y_train_over)\n",
    "pred_dt = lgbm.predict(X_test)\n",
    "proba_dt = lgbm.predict_proba(X_test)\n",
    "myscore(y_test, pred_dt, proba_dt, pr_curve=1, auc_curve=1)"
   ]
  },
  {
   "cell_type": "code",
   "execution_count": null,
   "id": "c669992f",
   "metadata": {},
   "outputs": [],
   "source": []
  },
  {
   "cell_type": "code",
   "execution_count": null,
   "id": "9306bc8f",
   "metadata": {},
   "outputs": [],
   "source": []
  },
  {
   "cell_type": "markdown",
   "id": "4084d13a",
   "metadata": {
    "ExecuteTime": {
     "end_time": "2021-04-18T13:31:43.457918Z",
     "start_time": "2021-04-18T13:31:43.446947Z"
    }
   },
   "source": [
    "## 이상치 제거"
   ]
  },
  {
   "cell_type": "code",
   "execution_count": 109,
   "id": "6c7a2fa9",
   "metadata": {
    "ExecuteTime": {
     "end_time": "2021-04-18T13:28:08.082029Z",
     "start_time": "2021-04-18T13:28:08.069064Z"
    }
   },
   "outputs": [],
   "source": [
    "def get_outlier(df=None, column=None, weight=1.5):\n",
    "    fraud = df[df['Class']==0][column]\n",
    "    quantile_25 = np.percentile(fraud.values, 25)\n",
    "    quantile_75 = np.percentile(fraud.values, 75)\n",
    "    \n",
    "    iqr = quantile_75 - quantile_25\n",
    "    iqr_weight = iqr * weight\n",
    "    lowest_val = quantile_25 - iqr_weight\n",
    "    highest_val = quantile_75 + iqr_weight\n",
    "    \n",
    "    outlier_index = fraud[(fraud < lowest_val) | (fraud > highest_val)].index\n",
    "    return outlier_index"
   ]
  },
  {
   "cell_type": "code",
   "execution_count": 110,
   "id": "bd737e61",
   "metadata": {
    "ExecuteTime": {
     "end_time": "2021-04-18T13:28:08.477973Z",
     "start_time": "2021-04-18T13:28:08.428105Z"
    }
   },
   "outputs": [
    {
     "name": "stdout",
     "output_type": "stream",
     "text": [
      "이상치 인덱스 Int64Index([253570, 128408, 192568,  12543, 274564, 244427, 149676,  23832,\n",
      "            170377,  16486,\n",
      "            ...\n",
      "            271248, 211391, 222492, 172927,  15496, 153445, 282364, 278081,\n",
      "              7320, 197156],\n",
      "           dtype='int64', length=13800)\n"
     ]
    }
   ],
   "source": [
    "outlier_index = get_outlier(df=df, column='V14', weight=1.5)\n",
    "print('이상치 인덱스', outlier_index)"
   ]
  },
  {
   "cell_type": "code",
   "execution_count": 111,
   "id": "e95fdc2a",
   "metadata": {
    "ExecuteTime": {
     "end_time": "2021-04-18T13:28:08.731293Z",
     "start_time": "2021-04-18T13:28:08.701373Z"
    }
   },
   "outputs": [],
   "source": [
    "df_copy = df.copy()"
   ]
  },
  {
   "cell_type": "code",
   "execution_count": 112,
   "id": "7ec5436c",
   "metadata": {
    "ExecuteTime": {
     "end_time": "2021-04-18T13:28:09.111279Z",
     "start_time": "2021-04-18T13:28:09.057420Z"
    }
   },
   "outputs": [],
   "source": [
    "df_copy.drop(outlier_index, axis=0, inplace=True)"
   ]
  },
  {
   "cell_type": "code",
   "execution_count": 113,
   "id": "16e31243",
   "metadata": {
    "ExecuteTime": {
     "end_time": "2021-04-18T13:28:11.238586Z",
     "start_time": "2021-04-18T13:28:09.757548Z"
    }
   },
   "outputs": [
    {
     "name": "stdout",
     "output_type": "stream",
     "text": [
      "Accuracy:0.999561  precision:0.966667, recall:0.798165, f1:0.874372, auc:0.964907\n",
      "[[56849     3]\n",
      " [   22    87]]\n",
      "18759 18759 18758\n"
     ]
    },
    {
     "data": {
      "image/png": "[encoded data removed]",
      "text/plain": [
       "<Figure size 432x288 with 1 Axes>"
      ]
     },
     "metadata": {
      "needs_background": "light"
     },
     "output_type": "display_data"
    },
    {
     "name": "stdout",
     "output_type": "stream",
     "text": [
      "4914 4914 4914\n"
     ]
    },
    {
     "data": {
      "image/png": "[encoded data removed]",
      "text/plain": [
       "<Figure size 432x288 with 1 Axes>"
      ]
     },
     "metadata": {
      "needs_background": "light"
     },
     "output_type": "display_data"
    }
   ],
   "source": [
    "lgbm = LGBMClassifier(boost_from_average=False)\n",
    "lgbm.fit(X_train, y_train)\n",
    "pred_dt = lgbm.predict(X_test)\n",
    "proba_dt = lgbm.predict_proba(X_test)\n",
    "myscore(y_test, pred_dt, proba_dt, pr_curve=1, auc_curve=1)"
   ]
  },
  {
   "cell_type": "code",
   "execution_count": null,
   "id": "c05235ef",
   "metadata": {},
   "outputs": [],
   "source": []
  },
  {
   "cell_type": "code",
   "execution_count": null,
   "id": "ff9f8457",
   "metadata": {},
   "outputs": [],
   "source": []
  },
  {
   "cell_type": "markdown",
   "id": "a68263c7",
   "metadata": {},
   "source": [
    "### 이상치 제거 후, 오버샘플링"
   ]
  },
  {
   "cell_type": "code",
   "execution_count": 114,
   "id": "10d47e5d",
   "metadata": {
    "ExecuteTime": {
     "end_time": "2021-04-18T13:28:14.516009Z",
     "start_time": "2021-04-18T13:28:14.416276Z"
    }
   },
   "outputs": [
    {
     "name": "stdout",
     "output_type": "stream",
     "text": [
      "271007 (271007, 29)\n",
      "(216805, 29) (54202, 29) 216805 54202\n"
     ]
    }
   ],
   "source": [
    "df_y = df_copy.iloc[:, -1]  #df[\"traget\"]  \n",
    "df_X = df_copy.iloc[:, :-1]\n",
    "print(len(df_y), df_X.shape)\n",
    "X_train, X_test, y_train, y_test = train_test_split(df_X, df_y, test_size=0.2, random_state=36,  shuffle=True)\n",
    "print(X_train.shape, X_test.shape, len(y_train), len(y_test))"
   ]
  },
  {
   "cell_type": "code",
   "execution_count": 115,
   "id": "2fff3f31",
   "metadata": {
    "ExecuteTime": {
     "end_time": "2021-04-18T13:28:15.115406Z",
     "start_time": "2021-04-18T13:28:14.730436Z"
    }
   },
   "outputs": [
    {
     "name": "stdout",
     "output_type": "stream",
     "text": [
      "SMOTE 사용 전 train  (216805, 29) (216805,)\n",
      "SMOTE 사용 후 train_over  (432808, 29) (432808,)\n",
      "SMOTE 사용 후 y_train_over  0    216404\n",
      "1    216404\n",
      "Name: Class, dtype: int64\n"
     ]
    }
   ],
   "source": [
    "smote = SMOTE(random_state=0)\n",
    "print('SMOTE 사용 전 train ', X_train.shape, y_train.shape)\n",
    "X_train_over, y_train_over = smote.fit_resample(X_train, y_train)\n",
    "print('SMOTE 사용 후 train_over ', X_train_over.shape, y_train_over.shape)\n",
    "print('SMOTE 사용 후 y_train_over ', pd.Series(y_train_over).value_counts())"
   ]
  },
  {
   "cell_type": "code",
   "execution_count": 117,
   "id": "d854ff8b",
   "metadata": {
    "ExecuteTime": {
     "end_time": "2021-04-18T13:28:45.141415Z",
     "start_time": "2021-04-18T13:28:42.339750Z"
    }
   },
   "outputs": [
    {
     "name": "stdout",
     "output_type": "stream",
     "text": [
      "Accuracy:0.999354  precision:0.769231, recall:0.879121, f1:0.820513, auc:0.987903\n",
      "[[54087    24]\n",
      " [   11    80]]\n",
      "12904 12904 12903\n"
     ]
    },
    {
     "data": {
      "image/png": "[encoded data removed]",
      "text/plain": [
       "<Figure size 432x288 with 1 Axes>"
      ]
     },
     "metadata": {
      "needs_background": "light"
     },
     "output_type": "display_data"
    },
    {
     "name": "stdout",
     "output_type": "stream",
     "text": [
      "2803 2803 2803\n"
     ]
    },
    {
     "data": {
      "image/png": "[encoded data removed]",
      "text/plain": [
       "<Figure size 432x288 with 1 Axes>"
      ]
     },
     "metadata": {
      "needs_background": "light"
     },
     "output_type": "display_data"
    }
   ],
   "source": [
    "lgbm = LGBMClassifier(boost_from_average=False)\n",
    "lgbm.fit(X_train_over, y_train_over)\n",
    "pred_dt = lgbm.predict(X_test)\n",
    "proba_dt = lgbm.predict_proba(X_test)\n",
    "myscore(y_test, pred_dt, proba_dt, pr_curve=1, auc_curve=1)"
   ]
  },
  {
   "cell_type": "code",
   "execution_count": null,
   "id": "701e5834",
   "metadata": {},
   "outputs": [],
   "source": []
  },
  {
   "cell_type": "code",
   "execution_count": null,
   "id": "56aeacd2",
   "metadata": {},
   "outputs": [],
   "source": []
  }
 ],
 "metadata": {
  "kernelspec": {
   "display_name": "Python 3",
   "language": "python",
   "name": "python3"
  },
  "language_info": {
   "codemirror_mode": {
    "name": "ipython",
    "version": 3
   },
   "file_extension": ".py",
   "mimetype": "text/x-python",
   "name": "python",
   "nbconvert_exporter": "python",
   "pygments_lexer": "ipython3",
   "version": "3.7.7"
  },
  "toc": {
   "base_numbering": 1,
   "nav_menu": {},
   "number_sections": true,
   "sideBar": true,
   "skip_h1_title": false,
   "title_cell": "Table of Contents",
   "title_sidebar": "Contents",
   "toc_cell": false,
   "toc_position": {
    "height": "calc(100% - 180px)",
    "left": "10px",
    "top": "150px",
    "width": "202px"
   },
   "toc_section_display": true,
   "toc_window_display": true
  }
 },
 "nbformat": 4,
 "nbformat_minor": 5
}
