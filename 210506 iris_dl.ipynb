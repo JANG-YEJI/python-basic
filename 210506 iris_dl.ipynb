{
 "cells": [
  {
   "cell_type": "code",
   "execution_count": 1,
   "id": "4e0c01ed",
   "metadata": {
    "ExecuteTime": {
     "end_time": "2021-05-07T09:32:51.130365Z",
     "start_time": "2021-05-07T09:32:48.987468Z"
    }
   },
   "outputs": [],
   "source": [
    "from keras.models import Sequential\n",
    "from keras.layers import Dense\n",
    "from keras.utils import to_categorical\n",
    "from keras.layers import Dense\n",
    "import tensorflow as tf\n",
    "\n",
    "from sklearn.datasets import load_iris\n",
    "from sklearn.preprocessing import LabelEncoder, OneHotEncoder\n",
    "from sklearn.model_selection import train_test_split\n",
    "\n",
    "import pandas as pd\n",
    "import numpy as np\n",
    "import matplotlib.pyplot as plt"
   ]
  },
  {
   "cell_type": "markdown",
   "id": "f7582833",
   "metadata": {},
   "source": [
    "## 데이터 확인"
   ]
  },
  {
   "cell_type": "code",
   "execution_count": 2,
   "id": "600ce5d8",
   "metadata": {
    "ExecuteTime": {
     "end_time": "2021-05-07T09:32:51.145861Z",
     "start_time": "2021-05-07T09:32:51.130902Z"
    }
   },
   "outputs": [],
   "source": [
    "np.random.seed(121)\n",
    "tf.random.set_seed(121)"
   ]
  },
  {
   "cell_type": "code",
   "execution_count": 3,
   "id": "a23efd87",
   "metadata": {
    "ExecuteTime": {
     "end_time": "2021-05-07T09:32:51.161490Z",
     "start_time": "2021-05-07T09:32:51.147527Z"
    }
   },
   "outputs": [
    {
     "name": "stdout",
     "output_type": "stream",
     "text": [
      "dict_keys(['data', 'target', 'frame', 'target_names', 'DESCR', 'feature_names', 'filename'])\n"
     ]
    }
   ],
   "source": [
    "dataset = load_iris()\n",
    "print(dataset.keys())"
   ]
  },
  {
   "cell_type": "code",
   "execution_count": 4,
   "id": "84ffd873",
   "metadata": {
    "ExecuteTime": {
     "end_time": "2021-05-07T09:32:52.757013Z",
     "start_time": "2021-05-07T09:32:52.733078Z"
    }
   },
   "outputs": [
    {
     "name": "stdout",
     "output_type": "stream",
     "text": [
      "   sepal_length  sepal_width  petal_length  petal_width  target\n",
      "0           5.1          3.5           1.4          0.2       0\n",
      "1           4.9          3.0           1.4          0.2       0\n",
      "2           4.7          3.2           1.3          0.2       0\n",
      "3           4.6          3.1           1.5          0.2       0\n",
      "4           5.0          3.6           1.4          0.2       0\n",
      "<class 'pandas.core.frame.DataFrame'>\n",
      "RangeIndex: 150 entries, 0 to 149\n",
      "Data columns (total 5 columns):\n",
      " #   Column        Non-Null Count  Dtype  \n",
      "---  ------        --------------  -----  \n",
      " 0   sepal_length  150 non-null    float64\n",
      " 1   sepal_width   150 non-null    float64\n",
      " 2   petal_length  150 non-null    float64\n",
      " 3   petal_width   150 non-null    float64\n",
      " 4   target        150 non-null    int32  \n",
      "dtypes: float64(4), int32(1)\n",
      "memory usage: 5.4 KB\n",
      "None\n",
      "(150, 5)\n"
     ]
    }
   ],
   "source": [
    "df = pd.DataFrame(data=dataset.data,\n",
    "                  #columns=dataset.feature_names\n",
    "                  columns=['sepal_length', 'sepal_width', 'petal_length', 'petal_width']\n",
    "                  )\n",
    "df[\"target\"] = dataset.target\n",
    "print(df.head())\n",
    "print(df.info())\n",
    "print(df.shape)"
   ]
  },
  {
   "cell_type": "code",
   "execution_count": 5,
   "id": "e4b853dc",
   "metadata": {
    "ExecuteTime": {
     "end_time": "2021-05-07T09:32:58.584511Z",
     "start_time": "2021-05-07T09:32:58.578528Z"
    }
   },
   "outputs": [],
   "source": [
    "X = df.iloc[: , :-1]\n",
    "y = df.iloc[: , -1]"
   ]
  },
  {
   "cell_type": "code",
   "execution_count": 6,
   "id": "efd84666",
   "metadata": {
    "ExecuteTime": {
     "end_time": "2021-05-07T09:46:26.565389Z",
     "start_time": "2021-05-07T09:46:26.548435Z"
    }
   },
   "outputs": [
    {
     "data": {
      "text/plain": [
       "0    50\n",
       "1    50\n",
       "2    50\n",
       "Name: target, dtype: int64"
      ]
     },
     "execution_count": 6,
     "metadata": {},
     "output_type": "execute_result"
    }
   ],
   "source": [
    "y.value_counts()"
   ]
  },
  {
   "cell_type": "code",
   "execution_count": 7,
   "id": "b9379d44",
   "metadata": {
    "ExecuteTime": {
     "end_time": "2021-05-07T09:46:26.867580Z",
     "start_time": "2021-05-07T09:46:26.861597Z"
    }
   },
   "outputs": [],
   "source": [
    "y_oh = to_categorical(y) # 원핫 인코딩 001 010 100"
   ]
  },
  {
   "cell_type": "code",
   "execution_count": null,
   "id": "5e5ac1c1",
   "metadata": {},
   "outputs": [],
   "source": []
  },
  {
   "cell_type": "markdown",
   "id": "8848f1d0",
   "metadata": {},
   "source": [
    "## 간단한 DL 모델 돌려보기"
   ]
  },
  {
   "cell_type": "code",
   "execution_count": null,
   "id": "aaf6e9ec",
   "metadata": {
    "ExecuteTime": {
     "end_time": "2021-05-06T07:12:11.777735Z",
     "start_time": "2021-05-06T07:12:11.738839Z"
    }
   },
   "outputs": [],
   "source": [
    "model = Sequential()\n",
    "model.add(Dense(units=128, input_dim = 4, activation='relu'))\n",
    "model.add(Dense(units=64,                activation='relu'))\n",
    "model.add(Dense(units=16,                activation='relu'))\n",
    "model.add(Dense(units=3,                activation='softmax')) # multi\n",
    "# model.add(Dense(units=2,                activation='sigmoid')) # binary"
   ]
  },
  {
   "cell_type": "code",
   "execution_count": null,
   "id": "2717b7a5",
   "metadata": {
    "ExecuteTime": {
     "end_time": "2021-05-06T07:12:12.166694Z",
     "start_time": "2021-05-06T07:12:12.143758Z"
    }
   },
   "outputs": [],
   "source": [
    "model.compile(loss='categorical_crossentropy', optimizer='adam', metrics=['accuracy'])\n",
    "# sparce_crossentroby : 원핫 인코딩 없이 할 때, 0, 1, 2로 분류 "
   ]
  },
  {
   "cell_type": "code",
   "execution_count": null,
   "id": "480233b4",
   "metadata": {},
   "outputs": [],
   "source": [
    "model.fit(X, y_oh, epochs=200)"
   ]
  },
  {
   "cell_type": "code",
   "execution_count": null,
   "id": "42b9cfe7",
   "metadata": {},
   "outputs": [],
   "source": [
    "model.evaluate(X, y_oh)\n",
    "# 0번째 loss, 1번째 accuracy"
   ]
  },
  {
   "cell_type": "code",
   "execution_count": null,
   "id": "60e9151a",
   "metadata": {},
   "outputs": [],
   "source": []
  },
  {
   "cell_type": "code",
   "execution_count": null,
   "id": "99815651",
   "metadata": {},
   "outputs": [],
   "source": []
  },
  {
   "cell_type": "code",
   "execution_count": null,
   "id": "10d51260",
   "metadata": {},
   "outputs": [],
   "source": []
  },
  {
   "cell_type": "markdown",
   "id": "86c34ccc",
   "metadata": {},
   "source": [
    "## 검증 추가"
   ]
  },
  {
   "cell_type": "markdown",
   "id": "e11c8393",
   "metadata": {},
   "source": [
    "### sklearn의 train, test를 이용하는 방법"
   ]
  },
  {
   "cell_type": "code",
   "execution_count": 8,
   "id": "7e398995",
   "metadata": {
    "ExecuteTime": {
     "end_time": "2021-05-07T09:46:32.480095Z",
     "start_time": "2021-05-07T09:46:32.470122Z"
    }
   },
   "outputs": [],
   "source": [
    "# 120 학습데이터, 30 본시헙\n",
    "X_train,X_test,y_train,y_test = train_test_split(X, y_oh, test_size=0.2, random_state=160)"
   ]
  },
  {
   "cell_type": "code",
   "execution_count": 9,
   "id": "c0cc454e",
   "metadata": {
    "ExecuteTime": {
     "end_time": "2021-05-07T09:46:40.222022Z",
     "start_time": "2021-05-07T09:46:40.163182Z"
    }
   },
   "outputs": [],
   "source": [
    "model = Sequential()\n",
    "# model.add(Dense(units=128, input_dim = 4, activation='relu'))\n",
    "model.add(Dense(units=64,                activation='relu'))\n",
    "model.add(Dense(units=16,                activation='relu'))\n",
    "# model.add(Dense(units=8,                activation='relu'))\n",
    "model.add(Dense(units=3,                activation='softmax')) # multi\n",
    "# model.add(Dense(units=2,                activation='softmax')) # binary"
   ]
  },
  {
   "cell_type": "code",
   "execution_count": 10,
   "id": "454f1995",
   "metadata": {
    "ExecuteTime": {
     "end_time": "2021-05-07T09:46:40.923593Z",
     "start_time": "2021-05-07T09:46:40.903646Z"
    }
   },
   "outputs": [],
   "source": [
    "model.compile(loss='categorical_crossentropy', optimizer='adam', metrics=['accuracy'])\n",
    "# sparce_crossentroby : 원핫 인코딩 없이 할 때, 0, 1, 2로 분류 "
   ]
  },
  {
   "cell_type": "code",
   "execution_count": 11,
   "id": "ee8b8ec4",
   "metadata": {
    "ExecuteTime": {
     "end_time": "2021-05-07T09:46:43.450254Z",
     "start_time": "2021-05-07T09:46:41.381369Z"
    }
   },
   "outputs": [
    {
     "name": "stdout",
     "output_type": "stream",
     "text": [
      "Epoch 1/50\n",
      "4/4 [==============================] - 1s 120ms/step - loss: 1.4132 - accuracy: 0.3250 - val_loss: 1.4680 - val_accuracy: 0.1667\n",
      "Epoch 2/50\n",
      "4/4 [==============================] - 0s 8ms/step - loss: 1.2527 - accuracy: 0.3240 - val_loss: 1.3100 - val_accuracy: 0.1667\n",
      "Epoch 3/50\n",
      "4/4 [==============================] - 0s 8ms/step - loss: 1.1375 - accuracy: 0.3469 - val_loss: 1.1836 - val_accuracy: 0.1667\n",
      "Epoch 4/50\n",
      "4/4 [==============================] - 0s 8ms/step - loss: 1.0747 - accuracy: 0.3271 - val_loss: 1.0986 - val_accuracy: 0.3333\n",
      "Epoch 5/50\n",
      "4/4 [==============================] - 0s 8ms/step - loss: 1.0545 - accuracy: 0.6014 - val_loss: 1.0840 - val_accuracy: 0.5000\n",
      "Epoch 6/50\n",
      "4/4 [==============================] - 0s 8ms/step - loss: 1.0488 - accuracy: 0.7471 - val_loss: 1.0776 - val_accuracy: 0.5833\n",
      "Epoch 7/50\n",
      "4/4 [==============================] - 0s 8ms/step - loss: 1.0279 - accuracy: 0.9271 - val_loss: 1.0820 - val_accuracy: 0.5000\n",
      "Epoch 8/50\n",
      "4/4 [==============================] - 0s 8ms/step - loss: 1.0123 - accuracy: 0.7510 - val_loss: 1.0903 - val_accuracy: 0.3333\n",
      "Epoch 9/50\n",
      "4/4 [==============================] - 0s 8ms/step - loss: 0.9936 - accuracy: 0.6036 - val_loss: 1.0842 - val_accuracy: 0.3333\n",
      "Epoch 10/50\n",
      "4/4 [==============================] - 0s 8ms/step - loss: 0.9712 - accuracy: 0.6688 - val_loss: 1.0672 - val_accuracy: 0.3333\n",
      "Epoch 11/50\n",
      "4/4 [==============================] - 0s 8ms/step - loss: 0.9606 - accuracy: 0.6762 - val_loss: 1.0492 - val_accuracy: 0.3333\n",
      "Epoch 12/50\n",
      "4/4 [==============================] - 0s 8ms/step - loss: 0.9376 - accuracy: 0.6248 - val_loss: 1.0386 - val_accuracy: 0.3333\n",
      "Epoch 13/50\n",
      "4/4 [==============================] - 0s 8ms/step - loss: 0.9108 - accuracy: 0.6560 - val_loss: 1.0281 - val_accuracy: 0.3333\n",
      "Epoch 14/50\n",
      "4/4 [==============================] - 0s 9ms/step - loss: 0.9043 - accuracy: 0.6243 - val_loss: 1.0144 - val_accuracy: 0.4167\n",
      "Epoch 15/50\n",
      "4/4 [==============================] - 0s 8ms/step - loss: 0.8806 - accuracy: 0.6697 - val_loss: 1.0027 - val_accuracy: 0.4167\n",
      "Epoch 16/50\n",
      "4/4 [==============================] - 0s 8ms/step - loss: 0.8740 - accuracy: 0.6726 - val_loss: 0.9859 - val_accuracy: 0.5000\n",
      "Epoch 17/50\n",
      "4/4 [==============================] - 0s 9ms/step - loss: 0.8766 - accuracy: 0.7388 - val_loss: 0.9722 - val_accuracy: 0.5000\n",
      "Epoch 18/50\n",
      "4/4 [==============================] - 0s 8ms/step - loss: 0.8424 - accuracy: 0.8321 - val_loss: 0.9686 - val_accuracy: 0.5000\n",
      "Epoch 19/50\n",
      "4/4 [==============================] - 0s 8ms/step - loss: 0.8028 - accuracy: 0.7479 - val_loss: 0.9574 - val_accuracy: 0.5000\n",
      "Epoch 20/50\n",
      "4/4 [==============================] - 0s 9ms/step - loss: 0.8214 - accuracy: 0.7789 - val_loss: 0.9403 - val_accuracy: 0.5000\n",
      "Epoch 21/50\n",
      "4/4 [==============================] - 0s 8ms/step - loss: 0.7988 - accuracy: 0.8240 - val_loss: 0.9261 - val_accuracy: 0.6667\n",
      "Epoch 22/50\n",
      "4/4 [==============================] - 0s 8ms/step - loss: 0.7550 - accuracy: 0.8471 - val_loss: 0.9132 - val_accuracy: 0.7500\n",
      "Epoch 23/50\n",
      "4/4 [==============================] - 0s 8ms/step - loss: 0.7884 - accuracy: 0.8731 - val_loss: 0.9104 - val_accuracy: 0.6667\n",
      "Epoch 24/50\n",
      "4/4 [==============================] - 0s 8ms/step - loss: 0.7733 - accuracy: 0.8351 - val_loss: 0.9040 - val_accuracy: 0.6667\n",
      "Epoch 25/50\n",
      "4/4 [==============================] - 0s 9ms/step - loss: 0.7650 - accuracy: 0.8252 - val_loss: 0.8896 - val_accuracy: 0.6667\n",
      "Epoch 26/50\n",
      "4/4 [==============================] - 0s 8ms/step - loss: 0.7632 - accuracy: 0.9005 - val_loss: 0.8733 - val_accuracy: 0.7500\n",
      "Epoch 27/50\n",
      "4/4 [==============================] - 0s 9ms/step - loss: 0.7052 - accuracy: 0.9627 - val_loss: 0.8466 - val_accuracy: 0.8333\n",
      "Epoch 28/50\n",
      "4/4 [==============================] - 0s 9ms/step - loss: 0.7341 - accuracy: 0.9612 - val_loss: 0.8286 - val_accuracy: 0.8333\n",
      "Epoch 29/50\n",
      "4/4 [==============================] - 0s 8ms/step - loss: 0.6841 - accuracy: 0.9742 - val_loss: 0.8159 - val_accuracy: 0.8333\n",
      "Epoch 30/50\n",
      "4/4 [==============================] - 0s 9ms/step - loss: 0.6726 - accuracy: 0.9450 - val_loss: 0.7912 - val_accuracy: 0.8333\n",
      "Epoch 31/50\n",
      "4/4 [==============================] - 0s 9ms/step - loss: 0.6584 - accuracy: 0.9456 - val_loss: 0.7712 - val_accuracy: 0.8333\n",
      "Epoch 32/50\n",
      "4/4 [==============================] - 0s 8ms/step - loss: 0.6261 - accuracy: 0.9795 - val_loss: 0.7623 - val_accuracy: 0.8333\n",
      "Epoch 33/50\n",
      "4/4 [==============================] - 0s 9ms/step - loss: 0.6123 - accuracy: 0.9701 - val_loss: 0.7506 - val_accuracy: 0.8333\n",
      "Epoch 34/50\n",
      "4/4 [==============================] - 0s 9ms/step - loss: 0.5949 - accuracy: 0.9612 - val_loss: 0.7389 - val_accuracy: 0.8333\n",
      "Epoch 35/50\n",
      "4/4 [==============================] - 0s 8ms/step - loss: 0.5931 - accuracy: 0.9633 - val_loss: 0.7124 - val_accuracy: 0.8333\n",
      "Epoch 36/50\n",
      "4/4 [==============================] - 0s 8ms/step - loss: 0.5523 - accuracy: 0.9519 - val_loss: 0.6861 - val_accuracy: 0.8333\n",
      "Epoch 37/50\n",
      "4/4 [==============================] - 0s 9ms/step - loss: 0.5514 - accuracy: 0.9791 - val_loss: 0.6645 - val_accuracy: 0.8333\n",
      "Epoch 38/50\n",
      "4/4 [==============================] - 0s 8ms/step - loss: 0.5177 - accuracy: 0.9905 - val_loss: 0.6496 - val_accuracy: 0.8333\n",
      "Epoch 39/50\n",
      "4/4 [==============================] - 0s 8ms/step - loss: 0.5295 - accuracy: 0.9791 - val_loss: 0.6274 - val_accuracy: 0.8333\n",
      "Epoch 40/50\n",
      "4/4 [==============================] - 0s 8ms/step - loss: 0.5159 - accuracy: 0.9853 - val_loss: 0.6121 - val_accuracy: 0.8333\n",
      "Epoch 41/50\n",
      "4/4 [==============================] - 0s 8ms/step - loss: 0.4839 - accuracy: 0.9697 - val_loss: 0.6004 - val_accuracy: 0.8333\n",
      "Epoch 42/50\n",
      "4/4 [==============================] - 0s 8ms/step - loss: 0.4679 - accuracy: 0.9816 - val_loss: 0.5921 - val_accuracy: 0.8333\n",
      "Epoch 43/50\n",
      "4/4 [==============================] - 0s 8ms/step - loss: 0.4621 - accuracy: 0.9810 - val_loss: 0.5735 - val_accuracy: 0.8333\n",
      "Epoch 44/50\n",
      "4/4 [==============================] - 0s 9ms/step - loss: 0.4363 - accuracy: 0.9759 - val_loss: 0.5461 - val_accuracy: 0.8333\n",
      "Epoch 45/50\n",
      "4/4 [==============================] - 0s 8ms/step - loss: 0.4114 - accuracy: 0.9905 - val_loss: 0.5313 - val_accuracy: 0.8333\n",
      "Epoch 46/50\n",
      "4/4 [==============================] - 0s 8ms/step - loss: 0.4285 - accuracy: 0.9759 - val_loss: 0.5147 - val_accuracy: 0.8333\n",
      "Epoch 47/50\n",
      "4/4 [==============================] - 0s 8ms/step - loss: 0.4158 - accuracy: 0.9853 - val_loss: 0.5046 - val_accuracy: 0.8333\n",
      "Epoch 48/50\n",
      "4/4 [==============================] - 0s 8ms/step - loss: 0.3774 - accuracy: 0.9884 - val_loss: 0.5025 - val_accuracy: 0.8333\n",
      "Epoch 49/50\n",
      "4/4 [==============================] - 0s 8ms/step - loss: 0.3754 - accuracy: 0.9853 - val_loss: 0.4947 - val_accuracy: 0.8333\n",
      "Epoch 50/50\n",
      "4/4 [==============================] - 0s 8ms/step - loss: 0.3677 - accuracy: 0.9853 - val_loss: 0.4845 - val_accuracy: 0.8333\n"
     ]
    }
   ],
   "source": [
    "# 120 학습데이터셋 (9:1) 108학습, 12내부적 모델 검증\n",
    "res = model.fit(X_train, y_train, epochs=50, validation_split=0.1)"
   ]
  },
  {
   "cell_type": "code",
   "execution_count": null,
   "id": "8cc3ba9b",
   "metadata": {
    "ExecuteTime": {
     "end_time": "2021-05-06T07:35:13.730900Z",
     "start_time": "2021-05-06T07:35:13.550875Z"
    }
   },
   "outputs": [],
   "source": [
    "plt.figure(figsize=(8,5))\n",
    "plt.subplot(1,2,1)\n",
    "plt.plot(res.history['accuracy'], label='accuracy')\n",
    "plt.plot(res.history['val_accuracy'], label='val_accuracy')\n",
    "\n",
    "plt.subplot(1,2,2)\n",
    "plt.plot(res.history['loss'], label='loss')\n",
    "plt.plot(res.history['val_loss'], label='val_loss')\n",
    "\n",
    "plt.legend()\n",
    "plt.show()"
   ]
  },
  {
   "cell_type": "code",
   "execution_count": null,
   "id": "992909a2",
   "metadata": {
    "ExecuteTime": {
     "end_time": "2021-05-06T07:37:10.571381Z",
     "start_time": "2021-05-06T07:37:10.471143Z"
    }
   },
   "outputs": [],
   "source": [
    "pred = model.predict(X_test) # 3 softmax\n",
    "print(pred)"
   ]
  },
  {
   "cell_type": "code",
   "execution_count": null,
   "id": "0a55ddf8",
   "metadata": {
    "ExecuteTime": {
     "end_time": "2021-05-06T07:40:43.048335Z",
     "start_time": "2021-05-06T07:40:43.033375Z"
    }
   },
   "outputs": [],
   "source": [
    "print(np.argmax(pred, axis=1))"
   ]
  },
  {
   "cell_type": "code",
   "execution_count": null,
   "id": "611b99bb",
   "metadata": {},
   "outputs": [],
   "source": []
  },
  {
   "cell_type": "markdown",
   "id": "91f282a5",
   "metadata": {},
   "source": [
    "### keras를 이용하는 방법"
   ]
  },
  {
   "cell_type": "code",
   "execution_count": null,
   "id": "dade45c9",
   "metadata": {
    "ExecuteTime": {
     "end_time": "2021-05-06T07:51:20.688460Z",
     "start_time": "2021-05-06T07:51:18.524200Z"
    }
   },
   "outputs": [],
   "source": [
    "# 120 학습데이터, 30 본시헙\n",
    "X_train,X_test,y_train,y_test = train_test_split(X, y_oh, test_size=0.2, random_state=160)\n",
    "\n",
    "model = Sequential()\n",
    "# model.add(Dense(units=128, input_dim = 4, activation='relu'))\n",
    "model.add(Dense(units=64,                activation='relu'))\n",
    "model.add(Dense(units=16,                activation='relu'))\n",
    "# model.add(Dense(units=8,                activation='relu'))\n",
    "model.add(Dense(units=3,                activation='softmax')) # multi\n",
    "# model.add(Dense(units=2,                activation='softmax')) # binary\n",
    "\n",
    "model.compile(loss='categorical_crossentropy', optimizer='adam', metrics=['accuracy'])\n",
    "# sparce_crossentroby : 원핫 인코딩 없이 할 때, 0, 1, 2로 분류 \n",
    "\n",
    "# 120 학습데이터셋 (9:1) 108학습, 12내부적 모델 검증\n",
    "res = model.fit(X_train, y_train, epochs=50,\n",
    "               validation_data = (X_test, y_test))\n",
    "\n",
    "\n",
    "pred = model.predict(X_test) # 3 softmax\n",
    "print(pred)\n",
    "\n",
    "print(np.argmax(pred, axis=1))\n",
    "\n",
    "eval = model.evaluate(X_test, y_test)\n",
    "print(eval)"
   ]
  },
  {
   "cell_type": "code",
   "execution_count": null,
   "id": "769bf311",
   "metadata": {},
   "outputs": [],
   "source": []
  }
 ],
 "metadata": {
  "kernelspec": {
   "display_name": "Python 3",
   "language": "python",
   "name": "python3"
  },
  "language_info": {
   "codemirror_mode": {
    "name": "ipython",
    "version": 3
   },
   "file_extension": ".py",
   "mimetype": "text/x-python",
   "name": "python",
   "nbconvert_exporter": "python",
   "pygments_lexer": "ipython3",
   "version": "3.7.7"
  },
  "toc": {
   "base_numbering": 1,
   "nav_menu": {},
   "number_sections": true,
   "sideBar": true,
   "skip_h1_title": false,
   "title_cell": "Table of Contents",
   "title_sidebar": "Contents",
   "toc_cell": false,
   "toc_position": {},
   "toc_section_display": true,
   "toc_window_display": false
  }
 },
 "nbformat": 4,
 "nbformat_minor": 5
}
